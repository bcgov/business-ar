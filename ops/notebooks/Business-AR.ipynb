{
 "cells": [
  {
   "cell_type": "markdown",
   "id": "948e71f2-ae2b-4aa8-b806-4ad5d169a3f4",
   "metadata": {
    "jp-MarkdownHeadingCollapsed": true
   },
   "source": [
    "## Setup"
   ]
  },
  {
   "cell_type": "code",
   "execution_count": 1,
   "id": "2604824c-2921-40f2-8a5f-2a55dc84ebb6",
   "metadata": {},
   "outputs": [],
   "source": [
    "%load_ext sql"
   ]
  },
  {
   "cell_type": "code",
   "execution_count": 2,
   "id": "93b3d5e3-dd3b-415b-a45f-5e006a324491",
   "metadata": {},
   "outputs": [
    {
     "data": {
      "text/plain": [
       "True"
      ]
     },
     "execution_count": 2,
     "metadata": {},
     "output_type": "execute_result"
    }
   ],
   "source": [
    "from dotenv import find_dotenv\n",
    "from dotenv import load_dotenv\n",
    "load_dotenv(find_dotenv())"
   ]
  },
  {
   "cell_type": "code",
   "execution_count": 3,
   "id": "cf7ebdac-e22d-49f6-9836-fa3232d4135d",
   "metadata": {},
   "outputs": [],
   "source": [
    "import google.auth\n",
    "credentials, project_id = google.auth.default()"
   ]
  },
  {
   "cell_type": "code",
   "execution_count": 23,
   "id": "a8f98563-8b31-4c99-8049-ac60055e50e2",
   "metadata": {},
   "outputs": [],
   "source": [
    "import os\n",
    "from google.cloud.sql.connector import Connector\n",
    "import sqlalchemy\n",
    "\n",
    "# initialize Connector object\n",
    "connector = Connector()\n",
    "\n",
    "# function to return the database connection object\n",
    "def get_conn():\n",
    "    conn = connector.connect(\n",
    "        INSTANCE_CONNECTION_NAME,\n",
    "        \"pg8000\",\n",
    "        user=DB_USER,\n",
    "        password=DB_PASSWORD,\n",
    "        db=DB_NAME\n",
    "    )\n",
    "    return conn\n",
    "\n",
    "def get_pool():\n",
    "    # create connection pool with 'creator' argument to our connection object function\n",
    "    pool = sqlalchemy.create_engine(\n",
    "        \"postgresql+pg8000://\",\n",
    "        creator=get_conn,\n",
    "    )\n",
    "    \n",
    "    return pool"
   ]
  },
  {
   "cell_type": "markdown",
   "id": "36ad8652-69ba-4bf6-b80b-35146fe3ffc3",
   "metadata": {
    "jp-MarkdownHeadingCollapsed": true
   },
   "source": [
    "## Create Business Connection"
   ]
  },
  {
   "cell_type": "code",
   "execution_count": 24,
   "id": "a90e8335-99b9-43c6-8b2f-b4b415bda24e",
   "metadata": {},
   "outputs": [],
   "source": [
    "DB_USER = os.getenv(\"BUSINESS_USERNAME\", \"\")\n",
    "DB_PASSWORD = os.getenv(\"BUSINESS_PASSWORD\", \"\")\n",
    "DB_NAME = os.getenv(\"BUSINESS_NAME\", \"\")\n",
    "INSTANCE_CONNECTION_NAME = os.getenv(\"BUSINESS_CONNECTION\", \"\")\n",
    "\n",
    "business_pool = get_pool()\n",
    "%sql business_pool --alias business\n",
    "%sql business"
   ]
  },
  {
   "cell_type": "code",
   "execution_count": 25,
   "id": "c1748f94-01bc-46f2-9424-222d3bda779b",
   "metadata": {},
   "outputs": [
    {
     "data": {
      "text/html": [
       "<span style=\"None\">Running query in &#x27;business&#x27;</span>"
      ],
      "text/plain": [
       "Running query in 'business'"
      ]
     },
     "metadata": {},
     "output_type": "display_data"
    },
    {
     "data": {
      "text/html": [
       "<span style=\"color: green\">1 rows affected.</span>"
      ],
      "text/plain": [
       "1 rows affected."
      ]
     },
     "metadata": {},
     "output_type": "display_data"
    },
    {
     "data": {
      "text/html": [
       "<table>\n",
       "    <thead>\n",
       "        <tr>\n",
       "            <th>now</th>\n",
       "        </tr>\n",
       "    </thead>\n",
       "    <tbody>\n",
       "        <tr>\n",
       "            <td>2024-04-29 03:20:34.387956+00:00</td>\n",
       "        </tr>\n",
       "    </tbody>\n",
       "</table>"
      ],
      "text/plain": [
       "+----------------------------------+\n",
       "|               now                |\n",
       "+----------------------------------+\n",
       "| 2024-04-29 03:20:34.387956+00:00 |\n",
       "+----------------------------------+"
      ]
     },
     "execution_count": 25,
     "metadata": {},
     "output_type": "execute_result"
    }
   ],
   "source": [
    "%%sql\n",
    "select now();"
   ]
  },
  {
   "cell_type": "markdown",
   "id": "3ed40752-2f56-49ae-bd02-7eab3799112f",
   "metadata": {
    "jp-MarkdownHeadingCollapsed": true
   },
   "source": [
    "## Create Warehouse Connection"
   ]
  },
  {
   "cell_type": "code",
   "execution_count": 26,
   "id": "b841e5da-1315-498a-88da-e89ba07ad5d0",
   "metadata": {},
   "outputs": [],
   "source": [
    "DB_USER = os.getenv(\"WAREHOUSE_USERNAME\", \"\")\n",
    "DB_PASSWORD = os.getenv(\"WAREHOUSE_PASSWORD\", \"\")\n",
    "DB_NAME = os.getenv(\"WAREHOUSE_NAME\", \"\")\n",
    "INSTANCE_CONNECTION_NAME = os.getenv(\"WAREHOUSE_CONNECTION\", \"\")\n",
    "\n",
    "warehouse_pool = get_pool()\n",
    "%sql warehouse_pool --alias warehouse\n",
    "%sql warehouse"
   ]
  },
  {
   "cell_type": "code",
   "execution_count": 27,
   "id": "f3bf32a4-46ae-449f-af90-275e61052028",
   "metadata": {},
   "outputs": [
    {
     "data": {
      "text/html": [
       "<span style=\"None\">Running query in &#x27;warehouse&#x27;</span>"
      ],
      "text/plain": [
       "Running query in 'warehouse'"
      ]
     },
     "metadata": {},
     "output_type": "display_data"
    },
    {
     "data": {
      "text/html": [
       "<span style=\"color: green\">1 rows affected.</span>"
      ],
      "text/plain": [
       "1 rows affected."
      ]
     },
     "metadata": {},
     "output_type": "display_data"
    },
    {
     "data": {
      "text/html": [
       "<table>\n",
       "    <thead>\n",
       "        <tr>\n",
       "            <th>now</th>\n",
       "        </tr>\n",
       "    </thead>\n",
       "    <tbody>\n",
       "        <tr>\n",
       "            <td>2024-04-29 03:22:30.802538+00:00</td>\n",
       "        </tr>\n",
       "    </tbody>\n",
       "</table>"
      ],
      "text/plain": [
       "+----------------------------------+\n",
       "|               now                |\n",
       "+----------------------------------+\n",
       "| 2024-04-29 03:22:30.802538+00:00 |\n",
       "+----------------------------------+"
      ]
     },
     "execution_count": 27,
     "metadata": {},
     "output_type": "execute_result"
    }
   ],
   "source": [
    "%%sql\n",
    "select now();"
   ]
  },
  {
   "cell_type": "markdown",
   "id": "31a11fc1-4a01-4854-853a-b9ff9f05fac2",
   "metadata": {
    "jp-MarkdownHeadingCollapsed": true
   },
   "source": [
    "## List Database Connections"
   ]
  },
  {
   "cell_type": "code",
   "execution_count": 34,
   "id": "ec13d4ed-bb75-49f0-8920-5b1a7280a9f8",
   "metadata": {},
   "outputs": [
    {
     "data": {
      "text/html": [
       "Active connections:\n",
       "<table>\n",
       "    <thead>\n",
       "        <tr>\n",
       "            <th>current</th>\n",
       "            <th>url</th>\n",
       "            <th>alias</th>\n",
       "        </tr>\n",
       "    </thead>\n",
       "    <tbody>\n",
       "        <tr>\n",
       "            <td>*</td>\n",
       "            <td>postgresql+pg8000://</td>\n",
       "            <td>business</td>\n",
       "        </tr>\n",
       "        <tr>\n",
       "            <td></td>\n",
       "            <td>postgresql+pg8000://</td>\n",
       "            <td>warehouse</td>\n",
       "        </tr>\n",
       "    </tbody>\n",
       "</table>"
      ],
      "text/plain": [
       "Active connections:\n",
       "+---------+----------------------+-----------+\n",
       "| current |         url          |   alias   |\n",
       "+---------+----------------------+-----------+\n",
       "|    *    | postgresql+pg8000:// |  business |\n",
       "|         | postgresql+pg8000:// | warehouse |\n",
       "+---------+----------------------+-----------+"
      ]
     },
     "execution_count": 34,
     "metadata": {},
     "output_type": "execute_result"
    }
   ],
   "source": [
    "%sql --connections"
   ]
  },
  {
   "cell_type": "markdown",
   "id": "6e074716-a234-4d68-b8da-8f95f35c8109",
   "metadata": {},
   "source": [
    "## Query Business Database"
   ]
  },
  {
   "cell_type": "code",
   "execution_count": 35,
   "id": "4bd3e31e-3b66-4a8c-bcde-bd7e22cbd859",
   "metadata": {},
   "outputs": [],
   "source": [
    "%sql business"
   ]
  },
  {
   "cell_type": "code",
   "execution_count": 36,
   "id": "5907a7ee-a88b-4ace-99ac-2777dbc2dfff",
   "metadata": {},
   "outputs": [
    {
     "data": {
      "text/html": [
       "<span style=\"None\">Running query in &#x27;business&#x27;</span>"
      ],
      "text/plain": [
       "Running query in 'business'"
      ]
     },
     "metadata": {},
     "output_type": "display_data"
    },
    {
     "data": {
      "text/html": [
       "<span style=\"color: green\">2 rows affected.</span>"
      ],
      "text/plain": [
       "2 rows affected."
      ]
     },
     "metadata": {},
     "output_type": "display_data"
    }
   ],
   "source": [
    "%%sql business_data <<\n",
    "select * from business"
   ]
  },
  {
   "cell_type": "code",
   "execution_count": 37,
   "id": "56572157-e9e7-4bcd-a89c-42ad91db926c",
   "metadata": {},
   "outputs": [
    {
     "data": {
      "text/html": [
       "<table>\n",
       "    <thead>\n",
       "        <tr>\n",
       "            <th>id</th>\n",
       "            <th>legal_name</th>\n",
       "            <th>legal_type</th>\n",
       "            <th>identifier</th>\n",
       "            <th>tax_id</th>\n",
       "            <th>nano_id</th>\n",
       "        </tr>\n",
       "    </thead>\n",
       "    <tbody>\n",
       "        <tr>\n",
       "            <td>1</td>\n",
       "            <td>C3 HUB CCC LTD. - IMPORT_TEST</td>\n",
       "            <td>CC</td>\n",
       "            <td>BC1120292</td>\n",
       "            <td>None</td>\n",
       "            <td>abcd123</td>\n",
       "        </tr>\n",
       "        <tr>\n",
       "            <td>2</td>\n",
       "            <td>FB HEALTH SUPPORT CCC CORP. - IMPORT_TEST</td>\n",
       "            <td>CC</td>\n",
       "            <td>BC1335427</td>\n",
       "            <td>None</td>\n",
       "            <td>efgh456</td>\n",
       "        </tr>\n",
       "    </tbody>\n",
       "</table>"
      ],
      "text/plain": [
       "+----+-------------------------------------------+------------+------------+--------+---------+\n",
       "| id |                 legal_name                | legal_type | identifier | tax_id | nano_id |\n",
       "+----+-------------------------------------------+------------+------------+--------+---------+\n",
       "| 1  |       C3 HUB CCC LTD. - IMPORT_TEST       |     CC     | BC1120292  |  None  | abcd123 |\n",
       "| 2  | FB HEALTH SUPPORT CCC CORP. - IMPORT_TEST |     CC     | BC1335427  |  None  | efgh456 |\n",
       "+----+-------------------------------------------+------------+------------+--------+---------+"
      ]
     },
     "execution_count": 37,
     "metadata": {},
     "output_type": "execute_result"
    }
   ],
   "source": [
    "business_data"
   ]
  },
  {
   "cell_type": "markdown",
   "id": "4adec327-eec7-43a8-b0bb-2ebd7c0b7794",
   "metadata": {},
   "source": [
    "## Query Warehouse Database"
   ]
  },
  {
   "cell_type": "code",
   "execution_count": 38,
   "id": "de052ced-11d7-474e-8177-bba97deb3ca0",
   "metadata": {},
   "outputs": [
    {
     "data": {
      "text/html": [
       "<span style=\"None\">Switching to connection &#x27;warehouse&#x27;</span>"
      ],
      "text/plain": [
       "Switching to connection 'warehouse'"
      ]
     },
     "metadata": {},
     "output_type": "display_data"
    }
   ],
   "source": [
    "%sql warehouse"
   ]
  },
  {
   "cell_type": "code",
   "execution_count": 40,
   "id": "a21eecca-a217-42c7-8ff3-9832fc05c395",
   "metadata": {},
   "outputs": [
    {
     "data": {
      "text/html": [
       "<span style=\"None\">Running query in &#x27;warehouse&#x27;</span>"
      ],
      "text/plain": [
       "Running query in 'warehouse'"
      ]
     },
     "metadata": {},
     "output_type": "display_data"
    },
    {
     "data": {
      "text/html": [
       "<span style=\"color: green\">10 rows affected.</span>"
      ],
      "text/plain": [
       "10 rows affected."
      ]
     },
     "metadata": {},
     "output_type": "display_data"
    }
   ],
   "source": [
    "%%sql colin_data <<\n",
    "select * from colin.corporation limit 10;"
   ]
  },
  {
   "cell_type": "code",
   "execution_count": 41,
   "id": "6a589559-2851-4dae-a0ed-680a4d5c1074",
   "metadata": {},
   "outputs": [
    {
     "data": {
      "text/html": [
       "<table>\n",
       "    <thead>\n",
       "        <tr>\n",
       "            <th>corp_num</th>\n",
       "            <th>corp_frozen_typ_cd</th>\n",
       "            <th>corp_typ_cd</th>\n",
       "            <th>recognition_dts</th>\n",
       "            <th>last_ar_filed_dt</th>\n",
       "            <th>transition_dt</th>\n",
       "            <th>bn_9</th>\n",
       "            <th>bn_15</th>\n",
       "            <th>accession_num</th>\n",
       "            <th>corp_password</th>\n",
       "            <th>prompt_question</th>\n",
       "            <th>admin_email</th>\n",
       "            <th>send_ar_ind</th>\n",
       "            <th>tilma_involved_ind</th>\n",
       "            <th>tilma_cessation_dt</th>\n",
       "            <th>firm_last_image_date</th>\n",
       "            <th>os_session</th>\n",
       "            <th>last_agm_date</th>\n",
       "            <th>firm_lp_xp_termination_date</th>\n",
       "            <th>last_ledger_dt</th>\n",
       "            <th>ar_reminder_option</th>\n",
       "            <th>ar_reminder_date</th>\n",
       "            <th>temp_password</th>\n",
       "            <th>temp_password_expiry_date</th>\n",
       "        </tr>\n",
       "    </thead>\n",
       "    <tbody>\n",
       "        <tr>\n",
       "            <td>0003938</td>\n",
       "            <td>None</td>\n",
       "            <td>BC</td>\n",
       "            <td>None</td>\n",
       "            <td>None</td>\n",
       "            <td>None</td>\n",
       "            <td>None</td>\n",
       "            <td>None</td>\n",
       "            <td>None</td>\n",
       "            <td>None</td>\n",
       "            <td>None</td>\n",
       "            <td>None</td>\n",
       "            <td>Y</td>\n",
       "            <td>N</td>\n",
       "            <td>None</td>\n",
       "            <td>None</td>\n",
       "            <td>None</td>\n",
       "            <td>None</td>\n",
       "            <td>None</td>\n",
       "            <td>None</td>\n",
       "            <td>None</td>\n",
       "            <td>None</td>\n",
       "            <td>None</td>\n",
       "            <td>None</td>\n",
       "        </tr>\n",
       "        <tr>\n",
       "            <td>A0003939</td>\n",
       "            <td>None</td>\n",
       "            <td>A</td>\n",
       "            <td>None</td>\n",
       "            <td>1983-01-21 00:00:00</td>\n",
       "            <td>None</td>\n",
       "            <td>None</td>\n",
       "            <td>None</td>\n",
       "            <td>None</td>\n",
       "            <td>None</td>\n",
       "            <td>None</td>\n",
       "            <td>None</td>\n",
       "            <td>Y</td>\n",
       "            <td>N</td>\n",
       "            <td>None</td>\n",
       "            <td>None</td>\n",
       "            <td>None</td>\n",
       "            <td>None</td>\n",
       "            <td>None</td>\n",
       "            <td>None</td>\n",
       "            <td>None</td>\n",
       "            <td>None</td>\n",
       "            <td>None</td>\n",
       "            <td>None</td>\n",
       "        </tr>\n",
       "        <tr>\n",
       "            <td>0003939</td>\n",
       "            <td>None</td>\n",
       "            <td>BC</td>\n",
       "            <td>None</td>\n",
       "            <td>None</td>\n",
       "            <td>None</td>\n",
       "            <td>None</td>\n",
       "            <td>None</td>\n",
       "            <td>None</td>\n",
       "            <td>None</td>\n",
       "            <td>None</td>\n",
       "            <td>None</td>\n",
       "            <td>Y</td>\n",
       "            <td>N</td>\n",
       "            <td>None</td>\n",
       "            <td>None</td>\n",
       "            <td>None</td>\n",
       "            <td>None</td>\n",
       "            <td>None</td>\n",
       "            <td>None</td>\n",
       "            <td>None</td>\n",
       "            <td>None</td>\n",
       "            <td>None</td>\n",
       "            <td>None</td>\n",
       "        </tr>\n",
       "        <tr>\n",
       "            <td>A0003940</td>\n",
       "            <td>None</td>\n",
       "            <td>A</td>\n",
       "            <td>None</td>\n",
       "            <td>None</td>\n",
       "            <td>None</td>\n",
       "            <td>None</td>\n",
       "            <td>None</td>\n",
       "            <td>None</td>\n",
       "            <td>None</td>\n",
       "            <td>None</td>\n",
       "            <td>None</td>\n",
       "            <td>Y</td>\n",
       "            <td>N</td>\n",
       "            <td>None</td>\n",
       "            <td>None</td>\n",
       "            <td>None</td>\n",
       "            <td>None</td>\n",
       "            <td>None</td>\n",
       "            <td>None</td>\n",
       "            <td>None</td>\n",
       "            <td>None</td>\n",
       "            <td>None</td>\n",
       "            <td>None</td>\n",
       "        </tr>\n",
       "        <tr>\n",
       "            <td>0003940</td>\n",
       "            <td>None</td>\n",
       "            <td>BC</td>\n",
       "            <td>None</td>\n",
       "            <td>None</td>\n",
       "            <td>None</td>\n",
       "            <td>None</td>\n",
       "            <td>None</td>\n",
       "            <td>None</td>\n",
       "            <td>None</td>\n",
       "            <td>None</td>\n",
       "            <td>None</td>\n",
       "            <td>Y</td>\n",
       "            <td>N</td>\n",
       "            <td>None</td>\n",
       "            <td>None</td>\n",
       "            <td>None</td>\n",
       "            <td>None</td>\n",
       "            <td>None</td>\n",
       "            <td>None</td>\n",
       "            <td>None</td>\n",
       "            <td>None</td>\n",
       "            <td>None</td>\n",
       "            <td>None</td>\n",
       "        </tr>\n",
       "        <tr>\n",
       "            <td>A0003941</td>\n",
       "            <td>None</td>\n",
       "            <td>A</td>\n",
       "            <td>None</td>\n",
       "            <td>None</td>\n",
       "            <td>None</td>\n",
       "            <td>None</td>\n",
       "            <td>None</td>\n",
       "            <td>None</td>\n",
       "            <td>None</td>\n",
       "            <td>None</td>\n",
       "            <td>None</td>\n",
       "            <td>Y</td>\n",
       "            <td>N</td>\n",
       "            <td>None</td>\n",
       "            <td>None</td>\n",
       "            <td>None</td>\n",
       "            <td>None</td>\n",
       "            <td>None</td>\n",
       "            <td>None</td>\n",
       "            <td>None</td>\n",
       "            <td>None</td>\n",
       "            <td>None</td>\n",
       "            <td>None</td>\n",
       "        </tr>\n",
       "        <tr>\n",
       "            <td>0003941</td>\n",
       "            <td>None</td>\n",
       "            <td>BC</td>\n",
       "            <td>None</td>\n",
       "            <td>None</td>\n",
       "            <td>None</td>\n",
       "            <td>None</td>\n",
       "            <td>None</td>\n",
       "            <td>None</td>\n",
       "            <td>None</td>\n",
       "            <td>None</td>\n",
       "            <td>None</td>\n",
       "            <td>Y</td>\n",
       "            <td>N</td>\n",
       "            <td>None</td>\n",
       "            <td>None</td>\n",
       "            <td>None</td>\n",
       "            <td>None</td>\n",
       "            <td>None</td>\n",
       "            <td>None</td>\n",
       "            <td>None</td>\n",
       "            <td>None</td>\n",
       "            <td>None</td>\n",
       "            <td>None</td>\n",
       "        </tr>\n",
       "        <tr>\n",
       "            <td>A0003942</td>\n",
       "            <td>None</td>\n",
       "            <td>A</td>\n",
       "            <td>None</td>\n",
       "            <td>1989-01-25 00:00:00</td>\n",
       "            <td>None</td>\n",
       "            <td>None</td>\n",
       "            <td>None</td>\n",
       "            <td>None</td>\n",
       "            <td>None</td>\n",
       "            <td>None</td>\n",
       "            <td>None</td>\n",
       "            <td>Y</td>\n",
       "            <td>N</td>\n",
       "            <td>None</td>\n",
       "            <td>None</td>\n",
       "            <td>None</td>\n",
       "            <td>None</td>\n",
       "            <td>None</td>\n",
       "            <td>None</td>\n",
       "            <td>None</td>\n",
       "            <td>None</td>\n",
       "            <td>None</td>\n",
       "            <td>None</td>\n",
       "        </tr>\n",
       "        <tr>\n",
       "            <td>0003942</td>\n",
       "            <td>None</td>\n",
       "            <td>BC</td>\n",
       "            <td>None</td>\n",
       "            <td>None</td>\n",
       "            <td>None</td>\n",
       "            <td>None</td>\n",
       "            <td>None</td>\n",
       "            <td>None</td>\n",
       "            <td>None</td>\n",
       "            <td>None</td>\n",
       "            <td>None</td>\n",
       "            <td>Y</td>\n",
       "            <td>N</td>\n",
       "            <td>None</td>\n",
       "            <td>None</td>\n",
       "            <td>None</td>\n",
       "            <td>None</td>\n",
       "            <td>None</td>\n",
       "            <td>None</td>\n",
       "            <td>None</td>\n",
       "            <td>None</td>\n",
       "            <td>None</td>\n",
       "            <td>None</td>\n",
       "        </tr>\n",
       "        <tr>\n",
       "            <td>A0003943</td>\n",
       "            <td>None</td>\n",
       "            <td>A</td>\n",
       "            <td>None</td>\n",
       "            <td>1980-12-31 00:00:00</td>\n",
       "            <td>None</td>\n",
       "            <td>None</td>\n",
       "            <td>None</td>\n",
       "            <td>None</td>\n",
       "            <td>None</td>\n",
       "            <td>None</td>\n",
       "            <td>None</td>\n",
       "            <td>Y</td>\n",
       "            <td>N</td>\n",
       "            <td>None</td>\n",
       "            <td>None</td>\n",
       "            <td>None</td>\n",
       "            <td>None</td>\n",
       "            <td>None</td>\n",
       "            <td>None</td>\n",
       "            <td>None</td>\n",
       "            <td>None</td>\n",
       "            <td>None</td>\n",
       "            <td>None</td>\n",
       "        </tr>\n",
       "    </tbody>\n",
       "</table>\n",
       "<span style=\"font-style:italic;text-align:center;\">Truncated to <a href=\"https://jupysql.ploomber.io/en/latest/api/configuration.html#displaylimit\">displaylimit</a> of 10.</span>"
      ],
      "text/plain": [
       "+----------+--------------------+-------------+-----------------+---------------------+---------------+------+-------+---------------+---------------+-----------------+-------------+-------------+--------------------+--------------------+----------------------+------------+---------------+-----------------------------+----------------+--------------------+------------------+---------------+---------------------------+\n",
       "| corp_num | corp_frozen_typ_cd | corp_typ_cd | recognition_dts |   last_ar_filed_dt  | transition_dt | bn_9 | bn_15 | accession_num | corp_password | prompt_question | admin_email | send_ar_ind | tilma_involved_ind | tilma_cessation_dt | firm_last_image_date | os_session | last_agm_date | firm_lp_xp_termination_date | last_ledger_dt | ar_reminder_option | ar_reminder_date | temp_password | temp_password_expiry_date |\n",
       "+----------+--------------------+-------------+-----------------+---------------------+---------------+------+-------+---------------+---------------+-----------------+-------------+-------------+--------------------+--------------------+----------------------+------------+---------------+-----------------------------+----------------+--------------------+------------------+---------------+---------------------------+\n",
       "| 0003938  |        None        |      BC     |       None      |         None        |      None     | None |  None |      None     |      None     |       None      |     None    |      Y      |         N          |        None        |         None         |    None    |      None     |             None            |      None      |        None        |       None       |      None     |            None           |\n",
       "| A0003939 |        None        |      A      |       None      | 1983-01-21 00:00:00 |      None     | None |  None |      None     |      None     |       None      |     None    |      Y      |         N          |        None        |         None         |    None    |      None     |             None            |      None      |        None        |       None       |      None     |            None           |\n",
       "| 0003939  |        None        |      BC     |       None      |         None        |      None     | None |  None |      None     |      None     |       None      |     None    |      Y      |         N          |        None        |         None         |    None    |      None     |             None            |      None      |        None        |       None       |      None     |            None           |\n",
       "| A0003940 |        None        |      A      |       None      |         None        |      None     | None |  None |      None     |      None     |       None      |     None    |      Y      |         N          |        None        |         None         |    None    |      None     |             None            |      None      |        None        |       None       |      None     |            None           |\n",
       "| 0003940  |        None        |      BC     |       None      |         None        |      None     | None |  None |      None     |      None     |       None      |     None    |      Y      |         N          |        None        |         None         |    None    |      None     |             None            |      None      |        None        |       None       |      None     |            None           |\n",
       "| A0003941 |        None        |      A      |       None      |         None        |      None     | None |  None |      None     |      None     |       None      |     None    |      Y      |         N          |        None        |         None         |    None    |      None     |             None            |      None      |        None        |       None       |      None     |            None           |\n",
       "| 0003941  |        None        |      BC     |       None      |         None        |      None     | None |  None |      None     |      None     |       None      |     None    |      Y      |         N          |        None        |         None         |    None    |      None     |             None            |      None      |        None        |       None       |      None     |            None           |\n",
       "| A0003942 |        None        |      A      |       None      | 1989-01-25 00:00:00 |      None     | None |  None |      None     |      None     |       None      |     None    |      Y      |         N          |        None        |         None         |    None    |      None     |             None            |      None      |        None        |       None       |      None     |            None           |\n",
       "| 0003942  |        None        |      BC     |       None      |         None        |      None     | None |  None |      None     |      None     |       None      |     None    |      Y      |         N          |        None        |         None         |    None    |      None     |             None            |      None      |        None        |       None       |      None     |            None           |\n",
       "| A0003943 |        None        |      A      |       None      | 1980-12-31 00:00:00 |      None     | None |  None |      None     |      None     |       None      |     None    |      Y      |         N          |        None        |         None         |    None    |      None     |             None            |      None      |        None        |       None       |      None     |            None           |\n",
       "+----------+--------------------+-------------+-----------------+---------------------+---------------+------+-------+---------------+---------------+-----------------+-------------+-------------+--------------------+--------------------+----------------------+------------+---------------+-----------------------------+----------------+--------------------+------------------+---------------+---------------------------+\n",
       "Truncated to displaylimit of 10."
      ]
     },
     "execution_count": 41,
     "metadata": {},
     "output_type": "execute_result"
    }
   ],
   "source": [
    "colin_data"
   ]
  },
  {
   "cell_type": "code",
   "execution_count": null,
   "id": "8ca08795-2668-4db3-9525-1ab19ceaf354",
   "metadata": {},
   "outputs": [],
   "source": []
  }
 ],
 "metadata": {
  "kernelspec": {
   "display_name": "Python 3 (ipykernel)",
   "language": "python",
   "name": "python3"
  },
  "language_info": {
   "codemirror_mode": {
    "name": "ipython",
    "version": 3
   },
   "file_extension": ".py",
   "mimetype": "text/x-python",
   "name": "python",
   "nbconvert_exporter": "python",
   "pygments_lexer": "ipython3",
   "version": "3.11.8"
  }
 },
 "nbformat": 4,
 "nbformat_minor": 5
}
