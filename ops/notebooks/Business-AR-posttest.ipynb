{
 "cells": [
  {
   "cell_type": "markdown",
   "id": "948e71f2-ae2b-4aa8-b806-4ad5d169a3f4",
   "metadata": {},
   "source": [
    "## Setup"
   ]
  },
  {
   "cell_type": "code",
   "execution_count": 1,
   "id": "2604824c-2921-40f2-8a5f-2a55dc84ebb6",
   "metadata": {},
   "outputs": [
    {
     "name": "stdout",
     "output_type": "stream",
     "text": [
      "There's a new jupysql version available (0.10.11), you're running 0.10.10. To upgrade: pip install jupysql --upgrade\n",
      "Deploy Panel apps for free on Ploomber Cloud! Learn more: https://ploomber.io/s/signup\n"
     ]
    }
   ],
   "source": [
    "%load_ext sql"
   ]
  },
  {
   "cell_type": "code",
   "execution_count": null,
   "id": "f485a231-3b1e-4a84-bb51-2b8f0ed87397",
   "metadata": {},
   "outputs": [],
   "source": [
    "%config SqlMagic.autopandas = False"
   ]
  },
  {
   "cell_type": "code",
   "execution_count": 2,
   "id": "93b3d5e3-dd3b-415b-a45f-5e006a324491",
   "metadata": {},
   "outputs": [
    {
     "data": {
      "text/plain": [
       "True"
      ]
     },
     "execution_count": 2,
     "metadata": {},
     "output_type": "execute_result"
    }
   ],
   "source": [
    "from dotenv import find_dotenv\n",
    "from dotenv import load_dotenv\n",
    "load_dotenv(find_dotenv())"
   ]
  },
  {
   "cell_type": "code",
   "execution_count": 3,
   "id": "cf7ebdac-e22d-49f6-9836-fa3232d4135d",
   "metadata": {},
   "outputs": [],
   "source": [
    "import google.auth\n",
    "credentials, project_id = google.auth.default()"
   ]
  },
  {
   "cell_type": "code",
   "execution_count": 4,
   "id": "a8f98563-8b31-4c99-8049-ac60055e50e2",
   "metadata": {},
   "outputs": [],
   "source": [
    "import os\n",
    "from google.cloud.sql.connector import Connector\n",
    "import sqlalchemy\n",
    "\n",
    "# initialize Connector object\n",
    "connector = Connector()\n",
    "\n",
    "# function to return the database connection object\n",
    "def get_conn():\n",
    "    conn = connector.connect(\n",
    "        INSTANCE_CONNECTION_NAME,\n",
    "        \"pg8000\",\n",
    "        user=DB_USER,\n",
    "        password=DB_PASSWORD,\n",
    "        db=DB_NAME\n",
    "    )\n",
    "    return conn\n",
    "\n",
    "def get_pool():\n",
    "    # create connection pool with 'creator' argument to our connection object function\n",
    "    pool = sqlalchemy.create_engine(\n",
    "        \"postgresql+pg8000://\",\n",
    "        creator=get_conn,\n",
    "    )\n",
    "    \n",
    "    return pool"
   ]
  },
  {
   "cell_type": "markdown",
   "id": "36ad8652-69ba-4bf6-b80b-35146fe3ffc3",
   "metadata": {},
   "source": [
    "## Create Business Connection"
   ]
  },
  {
   "cell_type": "code",
   "execution_count": 5,
   "id": "a90e8335-99b9-43c6-8b2f-b4b415bda24e",
   "metadata": {},
   "outputs": [],
   "source": [
    "DB_USER = os.getenv(\"BUSINESS_USERNAME\", \"\")\n",
    "DB_PASSWORD = os.getenv(\"BUSINESS_PASSWORD\", \"\")\n",
    "DB_NAME = os.getenv(\"BUSINESS_NAME\", \"\")\n",
    "INSTANCE_CONNECTION_NAME = os.getenv(\"BUSINESS_CONNECTION\", \"\")\n",
    "\n",
    "business_pool = get_pool()\n",
    "%sql business_pool --alias business\n",
    "%sql business"
   ]
  },
  {
   "cell_type": "code",
   "execution_count": 6,
   "id": "c1748f94-01bc-46f2-9424-222d3bda779b",
   "metadata": {},
   "outputs": [
    {
     "data": {
      "text/html": [
       "<span style=\"None\">Running query in &#x27;business&#x27;</span>"
      ],
      "text/plain": [
       "Running query in 'business'"
      ]
     },
     "metadata": {},
     "output_type": "display_data"
    },
    {
     "data": {
      "text/html": [
       "<span style=\"color: green\">1 rows affected.</span>"
      ],
      "text/plain": [
       "1 rows affected."
      ]
     },
     "metadata": {},
     "output_type": "display_data"
    },
    {
     "data": {
      "text/html": [
       "<table>\n",
       "    <thead>\n",
       "        <tr>\n",
       "            <th>now</th>\n",
       "        </tr>\n",
       "    </thead>\n",
       "    <tbody>\n",
       "        <tr>\n",
       "            <td>2024-07-10 15:53:04.031259+00:00</td>\n",
       "        </tr>\n",
       "    </tbody>\n",
       "</table>"
      ],
      "text/plain": [
       "+----------------------------------+\n",
       "|               now                |\n",
       "+----------------------------------+\n",
       "| 2024-07-10 15:53:04.031259+00:00 |\n",
       "+----------------------------------+"
      ]
     },
     "execution_count": 6,
     "metadata": {},
     "output_type": "execute_result"
    }
   ],
   "source": [
    "%%sql\n",
    "select now();"
   ]
  },
  {
   "cell_type": "markdown",
   "id": "3ed40752-2f56-49ae-bd02-7eab3799112f",
   "metadata": {},
   "source": [
    "## Create Warehouse Connection"
   ]
  },
  {
   "cell_type": "code",
   "execution_count": 19,
   "id": "b841e5da-1315-498a-88da-e89ba07ad5d0",
   "metadata": {},
   "outputs": [],
   "source": [
    "# DB_USER = os.getenv(\"WAREHOUSE_USERNAME\", \"\")\n",
    "# DB_PASSWORD = os.getenv(\"WAREHOUSE_PASSWORD\", \"\")\n",
    "# DB_NAME = os.getenv(\"WAREHOUSE_NAME\", \"\")\n",
    "# INSTANCE_CONNECTION_NAME = os.getenv(\"WAREHOUSE_CONNECTION\", \"\")\n",
    "\n",
    "# print(INSTANCE_CONNECTION_NAME)\n",
    "\n",
    "# warehouse_pool = get_pool()\n",
    "# %sql warehouse_pool --alias warehouse\n",
    "# %sql warehouse"
   ]
  },
  {
   "cell_type": "code",
   "execution_count": 20,
   "id": "f3bf32a4-46ae-449f-af90-275e61052028",
   "metadata": {},
   "outputs": [
    {
     "data": {
      "text/html": [
       "<span style=\"None\">Running query in &#x27;business&#x27;</span>"
      ],
      "text/plain": [
       "Running query in 'business'"
      ]
     },
     "metadata": {},
     "output_type": "display_data"
    },
    {
     "data": {
      "text/html": [
       "<span style=\"color: green\">1 rows affected.</span>"
      ],
      "text/plain": [
       "1 rows affected."
      ]
     },
     "metadata": {},
     "output_type": "display_data"
    },
    {
     "data": {
      "text/html": [
       "<table>\n",
       "    <thead>\n",
       "        <tr>\n",
       "            <th>now</th>\n",
       "        </tr>\n",
       "    </thead>\n",
       "    <tbody>\n",
       "        <tr>\n",
       "            <td>2024-07-05 16:46:57.471086+00:00</td>\n",
       "        </tr>\n",
       "    </tbody>\n",
       "</table>"
      ],
      "text/plain": [
       "+----------------------------------+\n",
       "|               now                |\n",
       "+----------------------------------+\n",
       "| 2024-07-05 16:46:57.471086+00:00 |\n",
       "+----------------------------------+"
      ]
     },
     "execution_count": 20,
     "metadata": {},
     "output_type": "execute_result"
    }
   ],
   "source": [
    "%%sql\n",
    "select now();"
   ]
  },
  {
   "cell_type": "markdown",
   "id": "31a11fc1-4a01-4854-853a-b9ff9f05fac2",
   "metadata": {},
   "source": [
    "## List Database Connections"
   ]
  },
  {
   "cell_type": "code",
   "execution_count": 21,
   "id": "ec13d4ed-bb75-49f0-8920-5b1a7280a9f8",
   "metadata": {},
   "outputs": [
    {
     "data": {
      "text/html": [
       "Active connections:\n",
       "<table>\n",
       "    <thead>\n",
       "        <tr>\n",
       "            <th>current</th>\n",
       "            <th>url</th>\n",
       "            <th>alias</th>\n",
       "        </tr>\n",
       "    </thead>\n",
       "    <tbody>\n",
       "        <tr>\n",
       "            <td>*</td>\n",
       "            <td>postgresql+pg8000://</td>\n",
       "            <td>business</td>\n",
       "        </tr>\n",
       "    </tbody>\n",
       "</table>"
      ],
      "text/plain": [
       "Active connections:\n",
       "+---------+----------------------+----------+\n",
       "| current |         url          |  alias   |\n",
       "+---------+----------------------+----------+\n",
       "|    *    | postgresql+pg8000:// | business |\n",
       "+---------+----------------------+----------+"
      ]
     },
     "execution_count": 21,
     "metadata": {},
     "output_type": "execute_result"
    }
   ],
   "source": [
    "%sql --connections"
   ]
  },
  {
   "cell_type": "markdown",
   "id": "6e074716-a234-4d68-b8da-8f95f35c8109",
   "metadata": {},
   "source": [
    "## Query Business Database"
   ]
  },
  {
   "cell_type": "code",
   "execution_count": 84,
   "id": "4bd3e31e-3b66-4a8c-bcde-bd7e22cbd859",
   "metadata": {},
   "outputs": [
    {
     "data": {
      "text/html": [
       "<span style=\"None\">displaylimit: Value None will be treated as 0 (no limit)</span>"
      ],
      "text/plain": [
       "displaylimit: Value None will be treated as 0 (no limit)"
      ]
     },
     "metadata": {},
     "output_type": "display_data"
    }
   ],
   "source": [
    "%sql business\n",
    "%config SqlMagic.displaylimit = None"
   ]
  },
  {
   "cell_type": "code",
   "execution_count": 90,
   "id": "5907a7ee-a88b-4ace-99ac-2777dbc2dfff",
   "metadata": {},
   "outputs": [
    {
     "data": {
      "text/html": [
       "<span style=\"None\">Running query in &#x27;business&#x27;</span>"
      ],
      "text/plain": [
       "Running query in 'business'"
      ]
     },
     "metadata": {},
     "output_type": "display_data"
    },
    {
     "data": {
      "text/html": [
       "<span style=\"color: green\">17 rows affected.</span>"
      ],
      "text/plain": [
       "17 rows affected."
      ]
     },
     "metadata": {},
     "output_type": "display_data"
    }
   ],
   "source": [
    "%%sql business_data <<\n",
    "select * from business"
   ]
  },
  {
   "cell_type": "code",
   "execution_count": 91,
   "id": "56572157-e9e7-4bcd-a89c-42ad91db926c",
   "metadata": {},
   "outputs": [
    {
     "data": {
      "text/html": [
       "<div>\n",
       "<style scoped>\n",
       "    .dataframe tbody tr th:only-of-type {\n",
       "        vertical-align: middle;\n",
       "    }\n",
       "\n",
       "    .dataframe tbody tr th {\n",
       "        vertical-align: top;\n",
       "    }\n",
       "\n",
       "    .dataframe thead th {\n",
       "        text-align: right;\n",
       "    }\n",
       "</style>\n",
       "<table border=\"1\" class=\"dataframe\">\n",
       "  <thead>\n",
       "    <tr style=\"text-align: right;\">\n",
       "      <th></th>\n",
       "      <th>id</th>\n",
       "      <th>legal_name</th>\n",
       "      <th>legal_type</th>\n",
       "      <th>identifier</th>\n",
       "      <th>tax_id</th>\n",
       "      <th>email</th>\n",
       "      <th>founding_date</th>\n",
       "      <th>ar_reminder_flag</th>\n",
       "      <th>last_ar_reminder_year</th>\n",
       "    </tr>\n",
       "  </thead>\n",
       "  <tbody>\n",
       "    <tr>\n",
       "      <th>0</th>\n",
       "      <td>6</td>\n",
       "      <td>WESTWOOD HOUSING CO-OPERATIVE</td>\n",
       "      <td>CP</td>\n",
       "      <td>CP0001824</td>\n",
       "      <td>None</td>\n",
       "      <td>None</td>\n",
       "      <td>None</td>\n",
       "      <td>None</td>\n",
       "      <td>None</td>\n",
       "    </tr>\n",
       "    <tr>\n",
       "      <th>1</th>\n",
       "      <td>7</td>\n",
       "      <td>AAA</td>\n",
       "      <td>BC</td>\n",
       "      <td>BC0871227</td>\n",
       "      <td>None</td>\n",
       "      <td>None</td>\n",
       "      <td>None</td>\n",
       "      <td>None</td>\n",
       "      <td>None</td>\n",
       "    </tr>\n",
       "    <tr>\n",
       "      <th>2</th>\n",
       "      <td>8</td>\n",
       "      <td>AC BC 2022.DEC.6 18.24 TEST CORP.</td>\n",
       "      <td>BC</td>\n",
       "      <td>BC0871274</td>\n",
       "      <td>None</td>\n",
       "      <td>None</td>\n",
       "      <td>None</td>\n",
       "      <td>None</td>\n",
       "      <td>None</td>\n",
       "    </tr>\n",
       "    <tr>\n",
       "      <th>3</th>\n",
       "      <td>10</td>\n",
       "      <td>0870638 B.C. LTD.</td>\n",
       "      <td>BC</td>\n",
       "      <td>BC0870638</td>\n",
       "      <td>None</td>\n",
       "      <td>None</td>\n",
       "      <td>None</td>\n",
       "      <td>None</td>\n",
       "      <td>None</td>\n",
       "    </tr>\n",
       "    <tr>\n",
       "      <th>4</th>\n",
       "      <td>11</td>\n",
       "      <td>0870574 B.C. LTD.</td>\n",
       "      <td>BC</td>\n",
       "      <td>BC0870574</td>\n",
       "      <td>None</td>\n",
       "      <td>None</td>\n",
       "      <td>None</td>\n",
       "      <td>None</td>\n",
       "      <td>None</td>\n",
       "    </tr>\n",
       "    <tr>\n",
       "      <th>5</th>\n",
       "      <td>12</td>\n",
       "      <td>WAFFLES R U LTD.</td>\n",
       "      <td>BC</td>\n",
       "      <td>BC0870626</td>\n",
       "      <td>None</td>\n",
       "      <td>None</td>\n",
       "      <td>None</td>\n",
       "      <td>None</td>\n",
       "      <td>None</td>\n",
       "    </tr>\n",
       "    <tr>\n",
       "      <th>6</th>\n",
       "      <td>13</td>\n",
       "      <td>0870596 B.C. LTD.</td>\n",
       "      <td>BC</td>\n",
       "      <td>BC0870596</td>\n",
       "      <td>None</td>\n",
       "      <td>None</td>\n",
       "      <td>None</td>\n",
       "      <td>None</td>\n",
       "      <td>None</td>\n",
       "    </tr>\n",
       "    <tr>\n",
       "      <th>7</th>\n",
       "      <td>14</td>\n",
       "      <td>FRASER VALLEY CONTRACTING INCORPORATED LIMITED</td>\n",
       "      <td>BC</td>\n",
       "      <td>BC0870630</td>\n",
       "      <td>None</td>\n",
       "      <td>None</td>\n",
       "      <td>None</td>\n",
       "      <td>None</td>\n",
       "      <td>None</td>\n",
       "    </tr>\n",
       "    <tr>\n",
       "      <th>8</th>\n",
       "      <td>15</td>\n",
       "      <td>PUPPY PATROL INVESTMENTS INC.</td>\n",
       "      <td>C</td>\n",
       "      <td>C0842268</td>\n",
       "      <td>None</td>\n",
       "      <td>None</td>\n",
       "      <td>None</td>\n",
       "      <td>None</td>\n",
       "      <td>None</td>\n",
       "    </tr>\n",
       "    <tr>\n",
       "      <th>9</th>\n",
       "      <td>16</td>\n",
       "      <td>WONEWOMANWORKS LTD.</td>\n",
       "      <td>C</td>\n",
       "      <td>C0842323</td>\n",
       "      <td>None</td>\n",
       "      <td>None</td>\n",
       "      <td>None</td>\n",
       "      <td>None</td>\n",
       "      <td>None</td>\n",
       "    </tr>\n",
       "    <tr>\n",
       "      <th>10</th>\n",
       "      <td>17</td>\n",
       "      <td>JOHNSEN M.D. AND MEYER M.D. MEDICAL CORPORATION</td>\n",
       "      <td>C</td>\n",
       "      <td>C0398803</td>\n",
       "      <td>None</td>\n",
       "      <td>None</td>\n",
       "      <td>None</td>\n",
       "      <td>None</td>\n",
       "      <td>None</td>\n",
       "    </tr>\n",
       "    <tr>\n",
       "      <th>11</th>\n",
       "      <td>18</td>\n",
       "      <td>EXECUTIVE DRYCLEANERS INC.</td>\n",
       "      <td>C</td>\n",
       "      <td>C0398802</td>\n",
       "      <td>None</td>\n",
       "      <td>None</td>\n",
       "      <td>None</td>\n",
       "      <td>None</td>\n",
       "      <td>None</td>\n",
       "    </tr>\n",
       "    <tr>\n",
       "      <th>12</th>\n",
       "      <td>19</td>\n",
       "      <td>COCONUT GROVE PLANTSCAPING INC.</td>\n",
       "      <td>C</td>\n",
       "      <td>C0639474</td>\n",
       "      <td>None</td>\n",
       "      <td>None</td>\n",
       "      <td>None</td>\n",
       "      <td>None</td>\n",
       "      <td>None</td>\n",
       "    </tr>\n",
       "    <tr>\n",
       "      <th>13</th>\n",
       "      <td>20</td>\n",
       "      <td>THE IRISH ROVERS COMPANY LTD.</td>\n",
       "      <td>C</td>\n",
       "      <td>C0169466</td>\n",
       "      <td>None</td>\n",
       "      <td>None</td>\n",
       "      <td>None</td>\n",
       "      <td>None</td>\n",
       "      <td>None</td>\n",
       "    </tr>\n",
       "    <tr>\n",
       "      <th>14</th>\n",
       "      <td>21</td>\n",
       "      <td>0730025 B.C. COMMUNITY CONTRIBUTION COMPANY</td>\n",
       "      <td>CC</td>\n",
       "      <td>0730025</td>\n",
       "      <td>None</td>\n",
       "      <td>None</td>\n",
       "      <td>None</td>\n",
       "      <td>None</td>\n",
       "      <td>None</td>\n",
       "    </tr>\n",
       "    <tr>\n",
       "      <th>15</th>\n",
       "      <td>22</td>\n",
       "      <td>SEA WOLF HOLDINGS ULC</td>\n",
       "      <td>ULC</td>\n",
       "      <td>0821930</td>\n",
       "      <td>None</td>\n",
       "      <td>None</td>\n",
       "      <td>None</td>\n",
       "      <td>None</td>\n",
       "      <td>None</td>\n",
       "    </tr>\n",
       "    <tr>\n",
       "      <th>16</th>\n",
       "      <td>5</td>\n",
       "      <td>CLIMATE LAW CORPORATION</td>\n",
       "      <td>BC</td>\n",
       "      <td>BC0814603</td>\n",
       "      <td>986395507BC0001</td>\n",
       "      <td>None</td>\n",
       "      <td>None</td>\n",
       "      <td>None</td>\n",
       "      <td>None</td>\n",
       "    </tr>\n",
       "  </tbody>\n",
       "</table>\n",
       "</div>"
      ],
      "text/plain": [
       "    id                                       legal_name legal_type identifier  \\\n",
       "0    6                    WESTWOOD HOUSING CO-OPERATIVE         CP  CP0001824   \n",
       "1    7                                              AAA         BC  BC0871227   \n",
       "2    8                AC BC 2022.DEC.6 18.24 TEST CORP.         BC  BC0871274   \n",
       "3   10                                0870638 B.C. LTD.         BC  BC0870638   \n",
       "4   11                                0870574 B.C. LTD.         BC  BC0870574   \n",
       "5   12                                 WAFFLES R U LTD.         BC  BC0870626   \n",
       "6   13                                0870596 B.C. LTD.         BC  BC0870596   \n",
       "7   14   FRASER VALLEY CONTRACTING INCORPORATED LIMITED         BC  BC0870630   \n",
       "8   15                    PUPPY PATROL INVESTMENTS INC.          C   C0842268   \n",
       "9   16                              WONEWOMANWORKS LTD.          C   C0842323   \n",
       "10  17  JOHNSEN M.D. AND MEYER M.D. MEDICAL CORPORATION          C   C0398803   \n",
       "11  18                       EXECUTIVE DRYCLEANERS INC.          C   C0398802   \n",
       "12  19                  COCONUT GROVE PLANTSCAPING INC.          C   C0639474   \n",
       "13  20                    THE IRISH ROVERS COMPANY LTD.          C   C0169466   \n",
       "14  21      0730025 B.C. COMMUNITY CONTRIBUTION COMPANY         CC    0730025   \n",
       "15  22                            SEA WOLF HOLDINGS ULC        ULC    0821930   \n",
       "16   5                          CLIMATE LAW CORPORATION         BC  BC0814603   \n",
       "\n",
       "             tax_id email founding_date ar_reminder_flag last_ar_reminder_year  \n",
       "0              None  None          None             None                  None  \n",
       "1              None  None          None             None                  None  \n",
       "2              None  None          None             None                  None  \n",
       "3              None  None          None             None                  None  \n",
       "4              None  None          None             None                  None  \n",
       "5              None  None          None             None                  None  \n",
       "6              None  None          None             None                  None  \n",
       "7              None  None          None             None                  None  \n",
       "8              None  None          None             None                  None  \n",
       "9              None  None          None             None                  None  \n",
       "10             None  None          None             None                  None  \n",
       "11             None  None          None             None                  None  \n",
       "12             None  None          None             None                  None  \n",
       "13             None  None          None             None                  None  \n",
       "14             None  None          None             None                  None  \n",
       "15             None  None          None             None                  None  \n",
       "16  986395507BC0001  None          None             None                  None  "
      ]
     },
     "execution_count": 91,
     "metadata": {},
     "output_type": "execute_result"
    }
   ],
   "source": [
    "business_data"
   ]
  },
  {
   "cell_type": "markdown",
   "id": "4ac03827",
   "metadata": {},
   "source": [
    "# Rollback the New Changes"
   ]
  },
  {
   "cell_type": "code",
   "execution_count": 92,
   "id": "ac884cbe-07bc-4f38-bf6a-d6a345fe65e0",
   "metadata": {},
   "outputs": [],
   "source": [
    "identifier = \"BC0870574\"\n",
    "business_id = \"11\""
   ]
  },
  {
   "cell_type": "code",
   "execution_count": 93,
   "id": "969719ca-1483-47b1-a45f-080348b18256",
   "metadata": {},
   "outputs": [],
   "source": [
    "%config SqlMagic.autopandas = True"
   ]
  },
  {
   "cell_type": "code",
   "execution_count": 108,
   "id": "ca26a879",
   "metadata": {},
   "outputs": [
    {
     "data": {
      "text/html": [
       "<span style=\"None\">Running query in &#x27;business&#x27;</span>"
      ],
      "text/plain": [
       "Running query in 'business'"
      ]
     },
     "metadata": {},
     "output_type": "display_data"
    },
    {
     "data": {
      "text/html": [
       "<span style=\"color: green\">1 rows affected.</span>"
      ],
      "text/plain": [
       "1 rows affected."
      ]
     },
     "metadata": {},
     "output_type": "display_data"
    }
   ],
   "source": [
    "%%sql filings <<\n",
    "select * from filing WHERE business_id={{business_id}}"
   ]
  },
  {
   "cell_type": "code",
   "execution_count": 109,
   "id": "6a1b46ce-ae9f-41e4-8437-db1e5ef135b0",
   "metadata": {},
   "outputs": [
    {
     "data": {
      "text/plain": [
       "np.int64(97)"
      ]
     },
     "execution_count": 109,
     "metadata": {},
     "output_type": "execute_result"
    }
   ],
   "source": [
    "filingId = filings.iloc[-1].id\n",
    "filingId"
   ]
  },
  {
   "cell_type": "code",
   "execution_count": 110,
   "id": "cfc86524-8eee-43bb-9416-fa0fd67df851",
   "metadata": {},
   "outputs": [
    {
     "data": {
      "text/html": [
       "<span style=\"None\">Running query in &#x27;business&#x27;</span>"
      ],
      "text/plain": [
       "Running query in 'business'"
      ]
     },
     "metadata": {},
     "output_type": "display_data"
    },
    {
     "data": {
      "text/html": [
       "<span style=\"color: green\">1 rows affected.</span>"
      ],
      "text/plain": [
       "1 rows affected."
      ]
     },
     "metadata": {},
     "output_type": "display_data"
    }
   ],
   "source": [
    "%%sql colin_event_ids <<\n",
    "SELECT * FROM colin_event_ids WHERE filing_id={{filingId}}"
   ]
  },
  {
   "cell_type": "code",
   "execution_count": 111,
   "id": "0cc263ce-7ee8-4ec8-94a0-f4a3753ed2de",
   "metadata": {},
   "outputs": [
    {
     "data": {
      "text/html": [
       "<div>\n",
       "<style scoped>\n",
       "    .dataframe tbody tr th:only-of-type {\n",
       "        vertical-align: middle;\n",
       "    }\n",
       "\n",
       "    .dataframe tbody tr th {\n",
       "        vertical-align: top;\n",
       "    }\n",
       "\n",
       "    .dataframe thead th {\n",
       "        text-align: right;\n",
       "    }\n",
       "</style>\n",
       "<table border=\"1\" class=\"dataframe\">\n",
       "  <thead>\n",
       "    <tr style=\"text-align: right;\">\n",
       "      <th></th>\n",
       "      <th>colin_event_id</th>\n",
       "      <th>filing_id</th>\n",
       "    </tr>\n",
       "  </thead>\n",
       "  <tbody>\n",
       "    <tr>\n",
       "      <th>0</th>\n",
       "      <td>9180257</td>\n",
       "      <td>97</td>\n",
       "    </tr>\n",
       "  </tbody>\n",
       "</table>\n",
       "</div>"
      ],
      "text/plain": [
       "   colin_event_id  filing_id\n",
       "0         9180257         97"
      ]
     },
     "execution_count": 111,
     "metadata": {},
     "output_type": "execute_result"
    }
   ],
   "source": [
    "colin_event_ids"
   ]
  },
  {
   "cell_type": "code",
   "execution_count": 112,
   "id": "1a27e44e-43da-48c2-82bf-6bcf9b9ae81a",
   "metadata": {},
   "outputs": [
    {
     "data": {
      "text/plain": [
       "[np.int64(9180257)]"
      ]
     },
     "execution_count": 112,
     "metadata": {},
     "output_type": "execute_result"
    }
   ],
   "source": [
    "unique_event_ids = []\n",
    "for index, row in colin_event_ids.iterrows():\n",
    "    if row[\"colin_event_id\"] not in unique_event_ids:\n",
    "        unique_event_ids.append(str(row[\"colin_event_id\"].item()))\n",
    "\n",
    "unique_event_ids"
   ]
  },
  {
   "cell_type": "code",
   "execution_count": 113,
   "id": "a73553e5-2bb0-4cab-a759-eed340ca04bc",
   "metadata": {},
   "outputs": [
    {
     "data": {
      "text/html": [
       "<span style=\"None\">Running query in &#x27;business&#x27;</span>"
      ],
      "text/plain": [
       "Running query in 'business'"
      ]
     },
     "metadata": {},
     "output_type": "display_data"
    },
    {
     "data": {
      "text/html": [
       "<span style=\"color: green\">1 rows affected.</span>"
      ],
      "text/plain": [
       "1 rows affected."
      ]
     },
     "metadata": {},
     "output_type": "display_data"
    },
    {
     "data": {
      "text/html": [
       "<div>\n",
       "<style scoped>\n",
       "    .dataframe tbody tr th:only-of-type {\n",
       "        vertical-align: middle;\n",
       "    }\n",
       "\n",
       "    .dataframe tbody tr th {\n",
       "        vertical-align: top;\n",
       "    }\n",
       "\n",
       "    .dataframe thead th {\n",
       "        text-align: right;\n",
       "    }\n",
       "</style>\n",
       "<table border=\"1\" class=\"dataframe\">\n",
       "  <thead>\n",
       "    <tr style=\"text-align: right;\">\n",
       "      <th></th>\n",
       "    </tr>\n",
       "  </thead>\n",
       "  <tbody>\n",
       "  </tbody>\n",
       "</table>\n",
       "</div>"
      ],
      "text/plain": [
       "Empty DataFrame\n",
       "Columns: []\n",
       "Index: []"
      ]
     },
     "execution_count": 113,
     "metadata": {},
     "output_type": "execute_result"
    }
   ],
   "source": [
    "%%sql\n",
    "DELETE FROM colin_event_ids WHERE filing_id = {{filingId}}"
   ]
  },
  {
   "cell_type": "code",
   "execution_count": 114,
   "id": "a35a2c7a-f6ac-4658-86cf-3094f95a6ca3",
   "metadata": {},
   "outputs": [
    {
     "data": {
      "text/html": [
       "<span style=\"None\">Running query in &#x27;business&#x27;</span>"
      ],
      "text/plain": [
       "Running query in 'business'"
      ]
     },
     "metadata": {},
     "output_type": "display_data"
    },
    {
     "data": {
      "text/html": [
       "<span style=\"color: green\">1 rows affected.</span>"
      ],
      "text/plain": [
       "1 rows affected."
      ]
     },
     "metadata": {},
     "output_type": "display_data"
    }
   ],
   "source": [
    "%%sql deleted <<\n",
    "DELETE FROM filing WHERE id={{filingId}}"
   ]
  },
  {
   "cell_type": "markdown",
   "id": "70b23f94",
   "metadata": {},
   "source": [
    "# Rollback Colin"
   ]
  },
  {
   "cell_type": "code",
   "execution_count": 8,
   "id": "f831e6ac",
   "metadata": {},
   "outputs": [
    {
     "data": {
      "text/plain": [
       "{'message': 'Reset for event ids [\"9180257\"]'}"
      ]
     },
     "execution_count": 8,
     "metadata": {},
     "output_type": "execute_result"
    }
   ],
   "source": [
    "import requests\n",
    "from datetime import datetime\n",
    "\n",
    "COLIN_API_URL = os.getenv(\"COLIN_API_URL\", \"\")\n",
    "COLIN_CLIENT = os.getenv(\"COLIN_CLIENT\", \"\")\n",
    "COLIN_SECRET = os.getenv(\"COLIN_SECRET\", \"\")\n",
    "\n",
    "colin_api_endpoint = f\"{COLIN_API_URL}/reset/by_event_id\"\n",
    "\n",
    "#Get Token\n",
    "token_url = os.getenv(\"AUTH_SVC_URL\", \"\")\n",
    "timeout = int(os.getenv(\"AUTH_SVC_TIMEOUT\", 20))\n",
    "\n",
    "data = \"grant_type=client_credentials\"\n",
    "\n",
    "# get service account token\n",
    "res = requests.post(\n",
    "  url=token_url,\n",
    "  data=data,\n",
    "  headers={\"content-type\": \"application/x-www-form-urlencoded\"},\n",
    "  auth=(COLIN_CLIENT, COLIN_SECRET),\n",
    "  timeout=timeout,\n",
    ")\n",
    "\n",
    "token = res.json().get(\"access_token\")\n",
    "\n",
    "reset_details = requests.post(\n",
    "    colin_api_endpoint,\n",
    "    headers={\"content-type\": \"application/json\", \"Authorization\": \"Bearer \"+token},\n",
    "    json={\"event_ids\": unique_event_ids},\n",
    ").json()\n",
    "\n",
    "reset_details"
   ]
  },
  {
   "cell_type": "markdown",
   "id": "9fa28a56",
   "metadata": {},
   "source": [
    "## SBCAUTH Keycloak\n",
    "\n",
    "This is going to have to be manual since sbcauth only does soft delete and keycloak only supports modification via an admin api key. (Previously this had to be admin on master which won't happen TBD if thats still the case)\n",
    "\n",
    "\n",
    "Manual - Delete the user in keycloak.\n",
    "\n",
    "### Find the user id using last name (example based on integration test user)\n",
    "```sql\n",
    "select id into user_id_value from users where last_name = 'WU';\n",
    "```\n",
    "\n",
    "### Delete from SBC Auth DB\n",
    "Note replace 2223 below with the user id\n",
    "```sql\n",
    "begin;\n",
    "update entities set modified_by_id = null where modified_by_id = 2223;\n",
    "update memberships set created_by_id = null where created_by_id = 2223;\n",
    "delete from product_subscriptions where created_by_id = 2223;\n",
    "delete from memberships where user_id = 2223;\n",
    "delete from contact_links where created_by_id = 2223 or user_id = 2223;\n",
    "delete from affiliations where created_by_id = 2223;\n",
    "delete from orgs where created_by_id = 2223;\n",
    "delete from contact_links where user_id = 2223;\n",
    "delete from contact_links where created_by_id = 2223;\n",
    "delete from contacts where created_by_id = 2223;\n",
    "delete from users where id = 2223;\n",
    "```\n",
    "\n"
   ]
  }
 ],
 "metadata": {
  "kernelspec": {
   "display_name": "Python 3 (ipykernel)",
   "language": "python",
   "name": "python3"
  },
  "language_info": {
   "codemirror_mode": {
    "name": "ipython",
    "version": 3
   },
   "file_extension": ".py",
   "mimetype": "text/x-python",
   "name": "python",
   "nbconvert_exporter": "python",
   "pygments_lexer": "ipython3",
   "version": "3.11.9"
  }
 },
 "nbformat": 4,
 "nbformat_minor": 5
}
