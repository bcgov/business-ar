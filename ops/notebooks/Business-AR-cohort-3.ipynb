{
 "cells": [
  {
   "cell_type": "markdown",
   "id": "b1ef6b9e-dee6-4f97-ac96-b69967e11d79",
   "metadata": {},
   "source": [
    "### Load Business AR Data - Cohort 3"
   ]
  },
  {
   "cell_type": "markdown",
   "id": "3d83ad84-a7dd-44b7-930e-0627f237bfed",
   "metadata": {},
   "source": [
    "This will gather data, create the nanoid and load data into the Business AR database"
   ]
  },
  {
   "cell_type": "markdown",
   "id": "948e71f2-ae2b-4aa8-b806-4ad5d169a3f4",
   "metadata": {},
   "source": [
    "## Setup"
   ]
  },
  {
   "cell_type": "code",
   "execution_count": null,
   "id": "2604824c-2921-40f2-8a5f-2a55dc84ebb6",
   "metadata": {},
   "outputs": [],
   "source": [
    "%load_ext sql\n",
    "%load_ext dotenv\n",
    "%config SqlMagic.named_parameters=\"enabled\" "
   ]
  },
  {
   "cell_type": "code",
   "execution_count": null,
   "id": "93b3d5e3-dd3b-415b-a45f-5e006a324491",
   "metadata": {},
   "outputs": [],
   "source": [
    "import pandas as pd\n",
    "import numpy as np\n",
    "from dotenv import find_dotenv\n",
    "from dotenv import load_dotenv\n",
    "from nanoid import generate\n",
    "load_dotenv(find_dotenv())"
   ]
  },
  {
   "cell_type": "code",
   "execution_count": null,
   "id": "01128e38-a36a-4c2f-9f99-3c8254e873d6",
   "metadata": {},
   "outputs": [],
   "source": [
    "import string\n",
    "nanoid_charset = string.ascii_letters + string.digits"
   ]
  },
  {
   "cell_type": "code",
   "execution_count": null,
   "id": "cf7ebdac-e22d-49f6-9836-fa3232d4135d",
   "metadata": {},
   "outputs": [],
   "source": [
    "import google.auth\n",
    "credentials, project_id = google.auth.default()"
   ]
  },
  {
   "cell_type": "code",
   "execution_count": null,
   "id": "a8f98563-8b31-4c99-8049-ac60055e50e2",
   "metadata": {},
   "outputs": [],
   "source": [
    "import os\n",
    "from google.cloud.sql.connector import Connector\n",
    "import sqlalchemy\n",
    "\n",
    "# initialize Connector object\n",
    "connector = Connector()\n",
    "\n",
    "# function to return the database connection object\n",
    "def get_conn():\n",
    "    conn = connector.connect(\n",
    "        INSTANCE_CONNECTION_NAME,\n",
    "        \"pg8000\",\n",
    "        user=DB_USER,\n",
    "        password=DB_PASSWORD,\n",
    "        db=DB_NAME\n",
    "    )\n",
    "    return conn\n",
    "\n",
    "def get_pool():\n",
    "    # create connection pool with 'creator' argument to our connection object function\n",
    "    pool = sqlalchemy.create_engine(\n",
    "        \"postgresql+pg8000://\",\n",
    "        creator=get_conn,\n",
    "    )\n",
    "    \n",
    "    return pool"
   ]
  },
  {
   "cell_type": "markdown",
   "id": "03f5dcc8-f75a-44a8-8fea-b5f738d8dcb9",
   "metadata": {},
   "source": [
    "## Reset Environment Variables"
   ]
  },
  {
   "cell_type": "code",
   "execution_count": null,
   "id": "338eeb4e-a7f0-4c2f-bf3b-d2f96c84f309",
   "metadata": {},
   "outputs": [],
   "source": [
    "%dotenv -o"
   ]
  },
  {
   "cell_type": "markdown",
   "id": "36ad8652-69ba-4bf6-b80b-35146fe3ffc3",
   "metadata": {},
   "source": [
    "## Create Business Connection"
   ]
  },
  {
   "cell_type": "code",
   "execution_count": null,
   "id": "a90e8335-99b9-43c6-8b2f-b4b415bda24e",
   "metadata": {},
   "outputs": [],
   "source": [
    "DB_USER = os.getenv(\"BUSINESS_USERNAME\", \"\")\n",
    "DB_PASSWORD = os.getenv(\"BUSINESS_PASSWORD\", \"\")\n",
    "DB_NAME = os.getenv(\"BUSINESS_NAME\", \"\")\n",
    "INSTANCE_CONNECTION_NAME = os.getenv(\"BUSINESS_CONNECTION\", \"\")\n",
    "\n",
    "business_pool = get_pool()\n",
    "%sql business_pool --alias business\n",
    "%sql business"
   ]
  },
  {
   "cell_type": "code",
   "execution_count": null,
   "id": "c1748f94-01bc-46f2-9424-222d3bda779b",
   "metadata": {},
   "outputs": [],
   "source": [
    "%%sql\n",
    "SELECT current_database(), :INSTANCE_CONNECTION_NAME as Connection, now();"
   ]
  },
  {
   "cell_type": "markdown",
   "id": "3ed40752-2f56-49ae-bd02-7eab3799112f",
   "metadata": {
    "jp-MarkdownHeadingCollapsed": true
   },
   "source": [
    "## Create Warehouse Connection"
   ]
  },
  {
   "cell_type": "code",
   "execution_count": null,
   "id": "b841e5da-1315-498a-88da-e89ba07ad5d0",
   "metadata": {},
   "outputs": [],
   "source": [
    "DB_USER = os.getenv(\"WAREHOUSE_USERNAME\", \"\")\n",
    "DB_PASSWORD = os.getenv(\"WAREHOUSE_PASSWORD\", \"\")\n",
    "DB_NAME = os.getenv(\"WAREHOUSE_NAME\", \"\")\n",
    "INSTANCE_CONNECTION_NAME = os.getenv(\"WAREHOUSE_CONNECTION\", \"\")\n",
    "\n",
    "warehouse_pool = get_pool()\n",
    "%sql warehouse_pool --alias warehouse\n",
    "%sql warehouse"
   ]
  },
  {
   "cell_type": "code",
   "execution_count": null,
   "id": "f3bf32a4-46ae-449f-af90-275e61052028",
   "metadata": {},
   "outputs": [],
   "source": [
    "%%sql\n",
    "SELECT current_database(), :INSTANCE_CONNECTION_NAME as Connection, now();"
   ]
  },
  {
   "cell_type": "markdown",
   "id": "31a11fc1-4a01-4854-853a-b9ff9f05fac2",
   "metadata": {},
   "source": [
    "## List Database Connections"
   ]
  },
  {
   "cell_type": "code",
   "execution_count": null,
   "id": "ec13d4ed-bb75-49f0-8920-5b1a7280a9f8",
   "metadata": {},
   "outputs": [],
   "source": [
    "%sql --connections"
   ]
  },
  {
   "cell_type": "markdown",
   "id": "6e074716-a234-4d68-b8da-8f95f35c8109",
   "metadata": {
    "jp-MarkdownHeadingCollapsed": true
   },
   "source": [
    "## Query Business Database"
   ]
  },
  {
   "cell_type": "code",
   "execution_count": null,
   "id": "4bd3e31e-3b66-4a8c-bcde-bd7e22cbd859",
   "metadata": {},
   "outputs": [],
   "source": [
    "%sql business"
   ]
  },
  {
   "cell_type": "code",
   "execution_count": null,
   "id": "5907a7ee-a88b-4ace-99ac-2777dbc2dfff",
   "metadata": {},
   "outputs": [],
   "source": [
    "%%sql business_data <<\n",
    "select * from business"
   ]
  },
  {
   "cell_type": "code",
   "execution_count": null,
   "id": "56572157-e9e7-4bcd-a89c-42ad91db926c",
   "metadata": {},
   "outputs": [],
   "source": [
    "business_data"
   ]
  },
  {
   "cell_type": "markdown",
   "id": "4adec327-eec7-43a8-b0bb-2ebd7c0b7794",
   "metadata": {
    "jp-MarkdownHeadingCollapsed": true
   },
   "source": [
    "## Query Warehouse Database"
   ]
  },
  {
   "cell_type": "code",
   "execution_count": null,
   "id": "de052ced-11d7-474e-8177-bba97deb3ca0",
   "metadata": {},
   "outputs": [],
   "source": [
    "%sql warehouse"
   ]
  },
  {
   "cell_type": "code",
   "execution_count": null,
   "id": "5d7bfed4-a359-4b44-921a-f27f8f7d79d4",
   "metadata": {},
   "outputs": [],
   "source": [
    "%%sql colin_data <<\n",
    "select n.corp_nme as legal_name\n",
    "    ,c.corp_typ_cd as legal_type\n",
    "    ,CASE\n",
    "         WHEN c.corp_typ_cd IN('BC')\n",
    "         THEN c.corp_typ_cd || c.corp_num\n",
    "         ELSE c.corp_num\n",
    "    END AS identifier\n",
    "    ,c.bn_15 as tax_id\n",
    "from colin.corporation c, colin.corp_name n\n",
    "where c.corp_num = n.corp_num\n",
    "  and n.end_event_id is null\n",
    "  and c.corp_num in ('1161685', '1249291', '1363120', '0787872', '0910741', '1357564', '0966461')\n",
    "order by c.corp_num\n",
    "limit 10;\n"
   ]
  },
  {
   "cell_type": "code",
   "execution_count": null,
   "id": "554a02f6-21f2-4c17-a5c4-256b60c822c6",
   "metadata": {},
   "outputs": [],
   "source": [
    "colin_df = colin_data.DataFrame()\n",
    "colin_df['nano_id'] = colin_df.apply(lambda row: generate(nanoid_charset), axis = 1)\n",
    "colin_df['id'] = colin_df.index + 1\n",
    "colin_df"
   ]
  },
  {
   "cell_type": "code",
   "execution_count": null,
   "id": "39bb5356-5904-40eb-abf0-b5e56fc35de9",
   "metadata": {},
   "outputs": [],
   "source": [
    "%sql business\n",
    "colin_df.to_sql(name='business', con=business_pool, if_exists='append', index=False)"
   ]
  },
  {
   "cell_type": "code",
   "execution_count": null,
   "id": "e3ba72f9-8fb6-492d-aa5b-47cc88755c59",
   "metadata": {},
   "outputs": [],
   "source": [
    "colin_df"
   ]
  },
  {
   "cell_type": "markdown",
   "id": "c229eae5-2fdb-48d3-bb19-1e2f3c22d156",
   "metadata": {},
   "source": [
    "## Load from CSV"
   ]
  },
  {
   "cell_type": "code",
   "execution_count": null,
   "id": "2565ee62-6d9c-4704-b4e7-f760fe12e713",
   "metadata": {},
   "outputs": [],
   "source": [
    "colin_df = pd.read_csv('cohort_3.csv') \n",
    "colin_df"
   ]
  },
  {
   "cell_type": "code",
   "execution_count": null,
   "id": "b445f5f3-ad1d-4a4d-b6b7-8b3278b2ece2",
   "metadata": {},
   "outputs": [],
   "source": [
    "# colin_df[\"identifier\"] = colin_df[\"Jurisdiction\"] + colin_df['corp_num'].apply('{:0>7}'.format)\n",
    "# colin_df['nano_id'] = colin_df.apply(lambda row: generate(nanoid_charset), axis = 1)\n",
    "# colin_df['tax_id'] = None\n",
    "# colin_df['id'] = np.arange(1, colin_df.shape[0] + 1) + 7\n",
    "# to_bar_df = pd.DataFrame()\n",
    "# to_bar_df[['id','legal_name','legal_type','identifier','tax_id','nano_id']] = colin_df[['id','Name','Jurisdiction','identifier','tax_id','nano_id']]\n",
    "# to_bar_df"
   ]
  },
  {
   "cell_type": "code",
   "execution_count": null,
   "id": "347161c5-3b5e-40e7-bf54-f0fd2cff69d7",
   "metadata": {},
   "outputs": [],
   "source": [
    "colin_df['tax_id'] = None\n",
    "colin_df['ar_reminder_flag'] = None\n",
    "colin_df['state'] = None\n",
    "colin_df['op_state'] = None\n",
    "colin_df['corp_class'] = None\n",
    "to_bar_df = colin_df"
   ]
  },
  {
   "cell_type": "code",
   "execution_count": null,
   "id": "ce81fdfe-5da3-4642-828f-f7ead12f9252",
   "metadata": {},
   "outputs": [],
   "source": [
    "to_bar_df.to_sql(name='b2', con=business_pool, if_exists='append', index=False)"
   ]
  },
  {
   "cell_type": "markdown",
   "id": "f095ea79-510a-411f-980f-9207b9f86b73",
   "metadata": {},
   "source": [
    "insert into business (select nextval('business_id_seq'::regclass), legal_name, legal_type, identifier, tax_id, email, founding_date::date, true, date_part('year',last_ar_reminder_year::date), COALESCE(NULLIF(state,''), 'ACT'), op_state, corp_class from b2 )"
   ]
  },
  {
   "cell_type": "markdown",
   "id": "e9f0322f-52f8-43fd-a4ac-739f7fd2f7e3",
   "metadata": {},
   "source": [
    "id\n",
    "recipients\n",
    "message\n",
    "sent_date\n",
    "token\n",
    "status\n",
    "business_id"
   ]
  },
  {
   "cell_type": "code",
   "execution_count": null,
   "id": "1ba6e774-7be1-479e-b5ed-5c2da1693a15",
   "metadata": {},
   "outputs": [],
   "source": [
    "to_inv_email_df = pd.DataFrame()\n",
    "to_inv_email_df[['id','recipients']] = colin_df[['id','email']]\n",
    "to_inv_email_df['business_id'] = to_inv_email_df['id']\n",
    "to_inv_email_df['token'] = colin_df.apply(lambda row: generate(nanoid_charset), axis = 1)\n",
    "to_inv_email_df['message'] = colin_df.apply(lambda row: 'AR Invitation', axis = 1)\n",
    "to_inv_email_df['status'] = colin_df.apply(lambda row: 'SENT', axis = 1)\n",
    "to_inv_email_df"
   ]
  },
  {
   "cell_type": "code",
   "execution_count": null,
   "id": "3110fb7a-6309-43c2-a5e9-3fe7f31993f9",
   "metadata": {},
   "outputs": [],
   "source": [
    "to_inv_email_df.to_sql(name='inv-ch3', con=business_pool, if_exists='append', index=False)"
   ]
  },
  {
   "cell_type": "code",
   "execution_count": null,
   "id": "54ad7525-79ec-4c72-ac25-14b9755aceab",
   "metadata": {},
   "outputs": [],
   "source": []
  },
  {
   "cell_type": "markdown",
   "id": "07a3b58f-0df8-42d2-8ba9-73cd7694dc88",
   "metadata": {},
   "source": [
    "## Output to CSV"
   ]
  },
  {
   "cell_type": "code",
   "execution_count": null,
   "id": "aacf8072-53c8-40b9-b37d-a228224de0be",
   "metadata": {},
   "outputs": [],
   "source": [
    "%%sql business_data <<\n",
    "select b.identifier, b.legal_name, b.legal_type, i.token, i.recipients from business b, invitations i where b.id=i.business_id and b.id >= 38"
   ]
  },
  {
   "cell_type": "code",
   "execution_count": null,
   "id": "c75092c3-796f-44ec-a840-2a3db091b0bf",
   "metadata": {},
   "outputs": [],
   "source": [
    "bdf = business_data.DataFrame()\n",
    "# bdf = bdf[['legal_name','legal_type','identifier','nano_id']]\n",
    "base_url='https://annualreport.business.bcregistry.gov.bc.ca/en-CA'\n",
    "bdf['url'] = f'{base_url}?nanoid=' + bdf['token']\n",
    "bdf"
   ]
  },
  {
   "cell_type": "code",
   "execution_count": null,
   "id": "b2303313-6ec6-4b38-97e2-bc282ea87959",
   "metadata": {},
   "outputs": [],
   "source": [
    "import time\n",
    "from datetime import datetime\n",
    "from datetime import timezone\n",
    "\n",
    "time_stamp = time.time()\n",
    "now = datetime.utcfromtimestamp(time_stamp).replace(tzinfo=timezone.utc)\n",
    "# local_now = now.astimezone(Pacific)\n",
    "local_now = now.astimezone()\n",
    "local_now.strftime(\"%Y.%m.%d.%H\")"
   ]
  },
  {
   "cell_type": "code",
   "execution_count": null,
   "id": "cdde48ab-2820-448b-8c05-a7ab05fe4782",
   "metadata": {},
   "outputs": [],
   "source": [
    "with open('business-ar.'+local_now.strftime(\"%Y.%m.%d.%H\")+'.csv', 'a') as f:      \n",
    "    f.write('\\n\\n Business Annual Report\\n')\n",
    "    bdf.to_csv(f, sep=',', encoding='utf-8', index=False)    "
   ]
  },
  {
   "cell_type": "markdown",
   "id": "f8a2a06d-e1ef-4d67-8568-ce7ff243fec1",
   "metadata": {},
   "source": [
    "## Set Invitations"
   ]
  },
  {
   "cell_type": "code",
   "execution_count": null,
   "id": "29f50a3d-dc47-4f3b-834c-01280d7c74fd",
   "metadata": {},
   "outputs": [],
   "source": [
    "-- %%sql\n",
    "-- insert into invitations (id, recipients, message, sent_date, token, status, additional_message, business_id)\n",
    "--     select nextval('invitations_id_seq'::regclass), 'test@example.com', 'Annual Report Due', now(), nano_id, 'SENT', null, b.id \n",
    "--     from business b"
   ]
  },
  {
   "cell_type": "code",
   "execution_count": null,
   "id": "9fd55681-af48-4bf4-99d1-34a2f0fca82c",
   "metadata": {},
   "outputs": [],
   "source": []
  }
 ],
 "metadata": {
  "kernelspec": {
   "display_name": "Python 3 (ipykernel)",
   "language": "python",
   "name": "python3"
  },
  "language_info": {
   "codemirror_mode": {
    "name": "ipython",
    "version": 3
   },
   "file_extension": ".py",
   "mimetype": "text/x-python",
   "name": "python",
   "nbconvert_exporter": "python",
   "pygments_lexer": "ipython3",
   "version": "3.11.8"
  }
 },
 "nbformat": 4,
 "nbformat_minor": 5
}
