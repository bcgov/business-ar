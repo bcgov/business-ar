{
 "cells": [
  {
   "cell_type": "markdown",
   "id": "948e71f2-ae2b-4aa8-b806-4ad5d169a3f4",
   "metadata": {
    "jp-MarkdownHeadingCollapsed": true
   },
   "source": [
    "## Setup"
   ]
  },
  {
   "cell_type": "code",
   "execution_count": null,
   "id": "2604824c-2921-40f2-8a5f-2a55dc84ebb6",
   "metadata": {},
   "outputs": [],
   "source": [
    "%load_ext sql"
   ]
  },
  {
   "cell_type": "code",
   "execution_count": null,
   "id": "93b3d5e3-dd3b-415b-a45f-5e006a324491",
   "metadata": {},
   "outputs": [],
   "source": [
    "import pandas as pd\n",
    "from dotenv import find_dotenv\n",
    "from dotenv import load_dotenv\n",
    "from nanoid import generate\n",
    "load_dotenv(find_dotenv())"
   ]
  },
  {
   "cell_type": "code",
   "execution_count": null,
   "id": "cf7ebdac-e22d-49f6-9836-fa3232d4135d",
   "metadata": {},
   "outputs": [],
   "source": [
    "import google.auth\n",
    "credentials, project_id = google.auth.default()"
   ]
  },
  {
   "cell_type": "code",
   "execution_count": null,
   "id": "a8f98563-8b31-4c99-8049-ac60055e50e2",
   "metadata": {},
   "outputs": [],
   "source": [
    "import os\n",
    "from google.cloud.sql.connector import Connector\n",
    "import sqlalchemy\n",
    "\n",
    "# initialize Connector object\n",
    "connector = Connector()\n",
    "\n",
    "# function to return the database connection object\n",
    "def get_conn():\n",
    "    conn = connector.connect(\n",
    "        INSTANCE_CONNECTION_NAME,\n",
    "        \"pg8000\",\n",
    "        user=DB_USER,\n",
    "        password=DB_PASSWORD,\n",
    "        db=DB_NAME\n",
    "    )\n",
    "    return conn\n",
    "\n",
    "def get_pool():\n",
    "    # create connection pool with 'creator' argument to our connection object function\n",
    "    pool = sqlalchemy.create_engine(\n",
    "        \"postgresql+pg8000://\",\n",
    "        creator=get_conn,\n",
    "    )\n",
    "    \n",
    "    return pool"
   ]
  },
  {
   "cell_type": "markdown",
   "id": "36ad8652-69ba-4bf6-b80b-35146fe3ffc3",
   "metadata": {
    "jp-MarkdownHeadingCollapsed": true
   },
   "source": [
    "## Create Business Connection"
   ]
  },
  {
   "cell_type": "code",
   "execution_count": null,
   "id": "a90e8335-99b9-43c6-8b2f-b4b415bda24e",
   "metadata": {},
   "outputs": [],
   "source": [
    "DB_USER = os.getenv(\"BUSINESS_USERNAME\", \"\")\n",
    "DB_PASSWORD = os.getenv(\"BUSINESS_PASSWORD\", \"\")\n",
    "DB_NAME = os.getenv(\"BUSINESS_NAME\", \"\")\n",
    "INSTANCE_CONNECTION_NAME = os.getenv(\"BUSINESS_CONNECTION\", \"\")\n",
    "\n",
    "business_pool = get_pool()\n",
    "%sql business_pool --alias business_db\n",
    "%sql business_db"
   ]
  },
  {
   "cell_type": "code",
   "execution_count": null,
   "id": "c1748f94-01bc-46f2-9424-222d3bda779b",
   "metadata": {},
   "outputs": [],
   "source": [
    "%%sql\n",
    "select now();"
   ]
  },
  {
   "cell_type": "markdown",
   "id": "3ed40752-2f56-49ae-bd02-7eab3799112f",
   "metadata": {
    "jp-MarkdownHeadingCollapsed": true
   },
   "source": [
    "## Create Warehouse Connection"
   ]
  },
  {
   "cell_type": "code",
   "execution_count": null,
   "id": "b841e5da-1315-498a-88da-e89ba07ad5d0",
   "metadata": {},
   "outputs": [],
   "source": [
    "DB_USER = os.getenv(\"WAREHOUSE_USERNAME\", \"\")\n",
    "DB_PASSWORD = os.getenv(\"WAREHOUSE_PASSWORD\", \"\")\n",
    "DB_NAME = os.getenv(\"WAREHOUSE_NAME\", \"\")\n",
    "INSTANCE_CONNECTION_NAME = os.getenv(\"WAREHOUSE_CONNECTION\", \"\")\n",
    "\n",
    "warehouse_pool = get_pool()\n",
    "%sql warehouse_pool --alias warehouse_db\n",
    "%sql warehouse_db"
   ]
  },
  {
   "cell_type": "code",
   "execution_count": null,
   "id": "f3bf32a4-46ae-449f-af90-275e61052028",
   "metadata": {},
   "outputs": [],
   "source": [
    "%%sql\n",
    "select now();"
   ]
  },
  {
   "cell_type": "markdown",
   "id": "31a11fc1-4a01-4854-853a-b9ff9f05fac2",
   "metadata": {
    "jp-MarkdownHeadingCollapsed": true
   },
   "source": [
    "## List Database Connections"
   ]
  },
  {
   "cell_type": "code",
   "execution_count": null,
   "id": "ec13d4ed-bb75-49f0-8920-5b1a7280a9f8",
   "metadata": {},
   "outputs": [],
   "source": [
    "%sql --connections"
   ]
  },
  {
   "cell_type": "markdown",
   "id": "6e074716-a234-4d68-b8da-8f95f35c8109",
   "metadata": {
    "jp-MarkdownHeadingCollapsed": true
   },
   "source": [
    "## Query Business Database"
   ]
  },
  {
   "cell_type": "code",
   "execution_count": null,
   "id": "4bd3e31e-3b66-4a8c-bcde-bd7e22cbd859",
   "metadata": {},
   "outputs": [],
   "source": [
    "%sql business_db"
   ]
  },
  {
   "cell_type": "code",
   "execution_count": null,
   "id": "5907a7ee-a88b-4ace-99ac-2777dbc2dfff",
   "metadata": {},
   "outputs": [],
   "source": [
    "%%sql business_data <<\n",
    "select * from business"
   ]
  },
  {
   "cell_type": "code",
   "execution_count": null,
   "id": "56572157-e9e7-4bcd-a89c-42ad91db926c",
   "metadata": {},
   "outputs": [],
   "source": [
    "business_data"
   ]
  },
  {
   "cell_type": "markdown",
   "id": "4adec327-eec7-43a8-b0bb-2ebd7c0b7794",
   "metadata": {
    "jp-MarkdownHeadingCollapsed": true
   },
   "source": [
    "## Query Warehouse Database"
   ]
  },
  {
   "cell_type": "code",
   "execution_count": null,
   "id": "de052ced-11d7-474e-8177-bba97deb3ca0",
   "metadata": {},
   "outputs": [],
   "source": [
    "%sql warehouse_db"
   ]
  },
  {
   "cell_type": "code",
   "execution_count": null,
   "id": "a21eecca-a217-42c7-8ff3-9832fc05c395",
   "metadata": {},
   "outputs": [],
   "source": [
    "%%sql colin_data <<\n",
    "SELECT cn.corp_nme, c.corp_typ_cd, c.corp_num, c.bn_15\n",
    "from colin.corporation c, colin.corp_name cn \n",
    "where c.corp_num = cn.corp_num\n",
    "and cn.end_event_id is null\n",
    "limit 5"
   ]
  },
  {
   "cell_type": "code",
   "execution_count": null,
   "id": "6a589559-2851-4dae-a0ed-680a4d5c1074",
   "metadata": {},
   "outputs": [],
   "source": [
    "colin_df = colin_data.DataFrame()\n",
    "colin_df"
   ]
  },
  {
   "cell_type": "markdown",
   "id": "58be6501-9f23-4bdb-ba3d-063c65974c8f",
   "metadata": {
    "jp-MarkdownHeadingCollapsed": true
   },
   "source": [
    "## Send data to Business AR for use"
   ]
  },
  {
   "cell_type": "code",
   "execution_count": null,
   "id": "4ea64a03-0f64-4286-ad1f-1bca07b089a3",
   "metadata": {},
   "outputs": [],
   "source": [
    "colin_df['nano_id'] = colin_df.apply(lambda row: generate(), axis = 1)\n",
    "colin_df"
   ]
  },
  {
   "cell_type": "code",
   "execution_count": null,
   "id": "05ae2b90-290b-483e-8acf-7497ec81c9c7",
   "metadata": {},
   "outputs": [],
   "source": [
    "colin_df.to_sql(name='business', con=business_pool, if_exists='append', index=False)"
   ]
  },
  {
   "cell_type": "code",
   "execution_count": null,
   "id": "8c50d311-bace-4ca6-82e2-c090e69dfaab",
   "metadata": {},
   "outputs": [],
   "source": [
    "%%sql\n",
    "select * from business"
   ]
  },
  {
   "cell_type": "markdown",
   "id": "bda065ac-f70d-4925-98dc-f7e60e5f4ce4",
   "metadata": {
    "jp-MarkdownHeadingCollapsed": true
   },
   "source": [
    "## Hand crafted data"
   ]
  },
  {
   "cell_type": "code",
   "execution_count": null,
   "id": "b7a9ac4a-3cf1-4bfc-a8b0-89f018048fee",
   "metadata": {},
   "outputs": [],
   "source": [
    "business_df = pd.DataFrame({'id':[4],'legal_name':['cookie2'],'legal_type':['BC'], 'identifier':[ '0005063'],'tax_id':[None]})\n",
    "business_df['nano_id'] = business_df.apply(lambda row: generate(), axis = 1)\n",
    "business_df.to_sql(name='business', con=business_pool, if_exists='append', index=False)"
   ]
  },
  {
   "cell_type": "code",
   "execution_count": null,
   "id": "050cad02-9bfd-45fe-bc6a-e8f9ba67ebf4",
   "metadata": {},
   "outputs": [],
   "source": []
  }
 ],
 "metadata": {
  "kernelspec": {
   "display_name": "Python 3 (ipykernel)",
   "language": "python",
   "name": "python3"
  },
  "language_info": {
   "codemirror_mode": {
    "name": "ipython",
    "version": 3
   },
   "file_extension": ".py",
   "mimetype": "text/x-python",
   "name": "python",
   "nbconvert_exporter": "python",
   "pygments_lexer": "ipython3",
   "version": "3.11.8"
  }
 },
 "nbformat": 4,
 "nbformat_minor": 5
}
