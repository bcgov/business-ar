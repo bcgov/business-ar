{
 "cells": [
  {
   "cell_type": "markdown",
   "metadata": {},
   "source": [
    "### Load Business AR Data - Cohort 7"
   ]
  },
  {
   "cell_type": "markdown",
   "metadata": {},
   "source": [
    "This will gather data, create the nanoid and load data into the Business AR database"
   ]
  },
  {
   "cell_type": "markdown",
   "metadata": {},
   "source": [
    "## Setup"
   ]
  },
  {
   "cell_type": "code",
   "execution_count": 2,
   "metadata": {},
   "outputs": [],
   "source": [
    "%load_ext sql\n",
    "%load_ext dotenv\n",
    "%config SqlMagic.named_parameters=\"enabled\" "
   ]
  },
  {
   "cell_type": "code",
   "execution_count": 3,
   "metadata": {},
   "outputs": [
    {
     "data": {
      "text/plain": [
       "True"
      ]
     },
     "execution_count": 3,
     "metadata": {},
     "output_type": "execute_result"
    }
   ],
   "source": [
    "import pandas as pd\n",
    "import numpy as np\n",
    "from dotenv import find_dotenv\n",
    "from dotenv import load_dotenv\n",
    "from nanoid import generate\n",
    "load_dotenv(find_dotenv())"
   ]
  },
  {
   "cell_type": "code",
   "execution_count": 4,
   "metadata": {},
   "outputs": [],
   "source": [
    "import string\n",
    "nanoid_charset = string.ascii_letters + string.digits"
   ]
  },
  {
   "cell_type": "code",
   "execution_count": 5,
   "metadata": {},
   "outputs": [],
   "source": [
    "import google.auth\n",
    "credentials, project_id = google.auth.default()"
   ]
  },
  {
   "cell_type": "code",
   "execution_count": 6,
   "metadata": {},
   "outputs": [],
   "source": [
    "import os\n",
    "from google.cloud.sql.connector import Connector\n",
    "import sqlalchemy\n",
    "\n",
    "# initialize Connector object\n",
    "connector = Connector()\n",
    "\n",
    "# function to return the database connection object\n",
    "def get_conn():\n",
    "    conn = connector.connect(\n",
    "        INSTANCE_CONNECTION_NAME,\n",
    "        \"pg8000\",\n",
    "        user=DB_USER,\n",
    "        password=DB_PASSWORD,\n",
    "        db=DB_NAME\n",
    "    )\n",
    "    return conn\n",
    "\n",
    "def get_pool():\n",
    "    # create connection pool with 'creator' argument to our connection object function\n",
    "    pool = sqlalchemy.create_engine(\n",
    "        \"postgresql+pg8000://\",\n",
    "        creator=get_conn,\n",
    "    )\n",
    "    \n",
    "    return pool"
   ]
  },
  {
   "cell_type": "markdown",
   "metadata": {},
   "source": [
    "## Reset Environment Variables"
   ]
  },
  {
   "cell_type": "code",
   "execution_count": 7,
   "metadata": {},
   "outputs": [],
   "source": [
    "%dotenv -o"
   ]
  },
  {
   "cell_type": "code",
   "execution_count": 29,
   "metadata": {},
   "outputs": [
    {
     "name": "stdout",
     "output_type": "stream",
     "text": [
      "2024-09-19 18:10:06,042 INFO sqlalchemy.engine.Engine select pg_catalog.version()\n",
      "2024-09-19 18:10:06,044 INFO sqlalchemy.engine.Engine [raw sql] ()\n",
      "2024-09-19 18:10:06,190 INFO sqlalchemy.engine.Engine select current_schema()\n",
      "2024-09-19 18:10:06,191 INFO sqlalchemy.engine.Engine [raw sql] ()\n",
      "2024-09-19 18:10:06,335 INFO sqlalchemy.engine.Engine show standard_conforming_strings\n",
      "2024-09-19 18:10:06,336 INFO sqlalchemy.engine.Engine [raw sql] ()\n",
      "2024-09-19 18:10:07,006 INFO sqlalchemy.engine.Engine select pg_catalog.version()\n",
      "2024-09-19 18:10:07,007 INFO sqlalchemy.engine.Engine [raw sql] ()\n",
      "2024-09-19 18:10:07,154 INFO sqlalchemy.engine.Engine select current_schema()\n",
      "2024-09-19 18:10:07,156 INFO sqlalchemy.engine.Engine [raw sql] ()\n",
      "2024-09-19 18:10:07,303 INFO sqlalchemy.engine.Engine show standard_conforming_strings\n",
      "2024-09-19 18:10:07,304 INFO sqlalchemy.engine.Engine [raw sql] ()\n"
     ]
    }
   ],
   "source": [
    "def get_pool(db_user, db_password, db_name, instance_connection_name):\n",
    "    # function to return the database connection object\n",
    "    def get_conn():\n",
    "        conn = connector.connect(\n",
    "            instance_connection_name,\n",
    "            \"pg8000\",\n",
    "            user=db_user,\n",
    "            password=db_password,\n",
    "            db=db_name\n",
    "        )\n",
    "        return conn\n",
    "\n",
    "    # create connection pool with 'creator' argument to our connection object function\n",
    "    pool = sqlalchemy.create_engine(\n",
    "        \"postgresql+pg8000://\",\n",
    "        creator=get_conn,\n",
    "        echo=True,\n",
    "    )\n",
    "    return pool\n",
    "\n",
    "## Create Business Connection\n",
    "business_pool = get_pool(\n",
    "    db_user=os.getenv(\"BUSINESS_USERNAME\", \"\"),\n",
    "    db_password=os.getenv(\"BUSINESS_PASSWORD\", \"\"),\n",
    "    db_name=os.getenv(\"BUSINESS_NAME\", \"\"),\n",
    "    instance_connection_name=os.getenv(\"BUSINESS_CONNECTION\", \"\")\n",
    ")\n",
    "%sql business_pool --alias business\n",
    "\n",
    "## Create Warehouse Connection\n",
    "warehouse_pool = get_pool(\n",
    "    db_user=os.getenv(\"WAREHOUSE_USERNAME\", \"\"),\n",
    "    db_password=os.getenv(\"WAREHOUSE_PASSWORD\", \"\"),\n",
    "    db_name=os.getenv(\"WAREHOUSE_NAME\", \"\"),\n",
    "    instance_connection_name=os.getenv(\"WAREHOUSE_CONNECTION\", \"\")\n",
    ")\n",
    "%sql warehouse_pool --alias warehouse\n"
   ]
  },
  {
   "cell_type": "markdown",
   "metadata": {},
   "source": [
    "## Create Business Connection"
   ]
  },
  {
   "cell_type": "code",
   "execution_count": 30,
   "metadata": {},
   "outputs": [
    {
     "data": {
      "text/html": [
       "<span style=\"None\">Switching to connection &#x27;business&#x27;</span>"
      ],
      "text/plain": [
       "Switching to connection 'business'"
      ]
     },
     "metadata": {},
     "output_type": "display_data"
    }
   ],
   "source": [
    "# DB_USER = os.getenv(\"BUSINESS_USERNAME\", \"\")\n",
    "# DB_PASSWORD = os.getenv(\"BUSINESS_PASSWORD\", \"\")\n",
    "# DB_NAME = os.getenv(\"BUSINESS_NAME\", \"\")\n",
    "# INSTANCE_CONNECTION_NAME = os.getenv(\"BUSINESS_CONNECTION\", \"\")\n",
    "\n",
    "# business_pool = get_pool()\n",
    "# %sql business_pool --alias business\n",
    "%sql business"
   ]
  },
  {
   "cell_type": "code",
   "execution_count": 12,
   "metadata": {},
   "outputs": [
    {
     "data": {
      "text/html": [
       "<span style=\"None\">Running query in &#x27;business&#x27;</span>"
      ],
      "text/plain": [
       "Running query in 'business'"
      ]
     },
     "metadata": {},
     "output_type": "display_data"
    },
    {
     "name": "stderr",
     "output_type": "stream",
     "text": [
      "InvalidQueryParameters: Cannot execute query because the following variables are undefined: INSTANCE_CONNECTION_NAME\n",
      "If you need help solving this issue, send us a message: https://ploomber.io/community\n"
     ]
    }
   ],
   "source": [
    "%%sql\n",
    "SELECT current_database(), :INSTANCE_CONNECTION_NAME as Connection, now();"
   ]
  },
  {
   "cell_type": "markdown",
   "metadata": {},
   "source": [
    "## List Database Connections"
   ]
  },
  {
   "cell_type": "code",
   "execution_count": 13,
   "metadata": {},
   "outputs": [
    {
     "data": {
      "text/html": [
       "Active connections:\n",
       "<table>\n",
       "    <thead>\n",
       "        <tr>\n",
       "            <th>current</th>\n",
       "            <th>url</th>\n",
       "            <th>alias</th>\n",
       "        </tr>\n",
       "    </thead>\n",
       "    <tbody>\n",
       "        <tr>\n",
       "            <td>*</td>\n",
       "            <td>postgresql+pg8000://</td>\n",
       "            <td>business</td>\n",
       "        </tr>\n",
       "        <tr>\n",
       "            <td></td>\n",
       "            <td>postgresql+pg8000://</td>\n",
       "            <td>warehouse</td>\n",
       "        </tr>\n",
       "    </tbody>\n",
       "</table>"
      ],
      "text/plain": [
       "Active connections:\n",
       "+---------+----------------------+-----------+\n",
       "| current |         url          |   alias   |\n",
       "+---------+----------------------+-----------+\n",
       "|    *    | postgresql+pg8000:// |  business |\n",
       "|         | postgresql+pg8000:// | warehouse |\n",
       "+---------+----------------------+-----------+"
      ]
     },
     "execution_count": 13,
     "metadata": {},
     "output_type": "execute_result"
    }
   ],
   "source": [
    "%sql --connections"
   ]
  },
  {
   "cell_type": "markdown",
   "metadata": {},
   "source": [
    "## Query Business Database"
   ]
  },
  {
   "cell_type": "code",
   "execution_count": 14,
   "metadata": {},
   "outputs": [],
   "source": [
    "%sql business"
   ]
  },
  {
   "cell_type": "code",
   "execution_count": 15,
   "metadata": {},
   "outputs": [
    {
     "data": {
      "text/html": [
       "<span style=\"None\">Running query in &#x27;business&#x27;</span>"
      ],
      "text/plain": [
       "Running query in 'business'"
      ]
     },
     "metadata": {},
     "output_type": "display_data"
    },
    {
     "data": {
      "text/html": [
       "<span style=\"color: green\">1573 rows affected.</span>"
      ],
      "text/plain": [
       "1573 rows affected."
      ]
     },
     "metadata": {},
     "output_type": "display_data"
    }
   ],
   "source": [
    "%%sql business_data <<\n",
    "select * from business;"
   ]
  },
  {
   "cell_type": "code",
   "execution_count": 16,
   "metadata": {},
   "outputs": [
    {
     "data": {
      "text/html": [
       "<table>\n",
       "    <thead>\n",
       "        <tr>\n",
       "            <th>id</th>\n",
       "            <th>legal_name</th>\n",
       "            <th>legal_type</th>\n",
       "            <th>identifier</th>\n",
       "            <th>tax_id</th>\n",
       "            <th>email</th>\n",
       "            <th>founding_date</th>\n",
       "            <th>ar_reminder_flag</th>\n",
       "            <th>last_ar_reminder_year</th>\n",
       "            <th>state</th>\n",
       "            <th>op_state</th>\n",
       "            <th>corp_class</th>\n",
       "        </tr>\n",
       "    </thead>\n",
       "    <tbody>\n",
       "        <tr>\n",
       "            <td>286</td>\n",
       "            <td>S-1118 HOLDINGS LTD.</td>\n",
       "            <td>BC</td>\n",
       "            <td>BC0653374</td>\n",
       "            <td>None</td>\n",
       "            <td>cwfung@live.ca</td>\n",
       "            <td>2002-08-21 00:00:00+00:00</td>\n",
       "            <td>False</td>\n",
       "            <td>2024</td>\n",
       "            <td>ACT</td>\n",
       "            <td>None</td>\n",
       "            <td>None</td>\n",
       "        </tr>\n",
       "        <tr>\n",
       "            <td>443</td>\n",
       "            <td>TWIN RIVERS MOTEL LTD.</td>\n",
       "            <td>BC</td>\n",
       "            <td>BC0081392</td>\n",
       "            <td>None</td>\n",
       "            <td>crisparinvestments@gmail.com</td>\n",
       "            <td>1968-08-22 00:00:00+00:00</td>\n",
       "            <td>False</td>\n",
       "            <td>2024</td>\n",
       "            <td>ACT</td>\n",
       "            <td>None</td>\n",
       "            <td>None</td>\n",
       "        </tr>\n",
       "        <tr>\n",
       "            <td>652</td>\n",
       "            <td>PREMIER AUTO TRANSMISSION LTD.</td>\n",
       "            <td>BC</td>\n",
       "            <td>BC0195824</td>\n",
       "            <td>None</td>\n",
       "            <td>adil727@hotmail.com</td>\n",
       "            <td>1979-08-23 00:00:00+00:00</td>\n",
       "            <td>False</td>\n",
       "            <td>2024</td>\n",
       "            <td>ACT</td>\n",
       "            <td>None</td>\n",
       "            <td>None</td>\n",
       "        </tr>\n",
       "        <tr>\n",
       "            <td>2</td>\n",
       "            <td>SEA TO SKY POWERWASHING INC.</td>\n",
       "            <td>BC</td>\n",
       "            <td>BC0910741</td>\n",
       "            <td>812919801BC0001</td>\n",
       "            <td>None</td>\n",
       "            <td>None</td>\n",
       "            <td>False</td>\n",
       "            <td>None</td>\n",
       "            <td>None</td>\n",
       "            <td>None</td>\n",
       "            <td>None</td>\n",
       "        </tr>\n",
       "        <tr>\n",
       "            <td>133</td>\n",
       "            <td>JAZZ FOREST PRODUCTS LTD.</td>\n",
       "            <td>BC</td>\n",
       "            <td>BC0939637</td>\n",
       "            <td>None</td>\n",
       "            <td>raj@jazzforest.ca</td>\n",
       "            <td>2012-05-03 00:00:00+00:00</td>\n",
       "            <td>False</td>\n",
       "            <td>2024</td>\n",
       "            <td>ACT</td>\n",
       "            <td>None</td>\n",
       "            <td>None</td>\n",
       "        </tr>\n",
       "        <tr>\n",
       "            <td>134</td>\n",
       "            <td>SUNCASE NETWORKS INC.</td>\n",
       "            <td>BC</td>\n",
       "            <td>BC0942673</td>\n",
       "            <td>None</td>\n",
       "            <td>taoliu@hotmail.com</td>\n",
       "            <td>2012-06-07 00:00:00+00:00</td>\n",
       "            <td>False</td>\n",
       "            <td>2024</td>\n",
       "            <td>ACT</td>\n",
       "            <td>None</td>\n",
       "            <td>None</td>\n",
       "        </tr>\n",
       "        <tr>\n",
       "            <td>135</td>\n",
       "            <td>MOOZX INTERNET VENTURES INC.</td>\n",
       "            <td>BC</td>\n",
       "            <td>BC0945028</td>\n",
       "            <td>None</td>\n",
       "            <td>roland@moozx.com</td>\n",
       "            <td>2012-07-06 00:00:00+00:00</td>\n",
       "            <td>False</td>\n",
       "            <td>2024</td>\n",
       "            <td>ACT</td>\n",
       "            <td>None</td>\n",
       "            <td>None</td>\n",
       "        </tr>\n",
       "        <tr>\n",
       "            <td>25</td>\n",
       "            <td>THOUGHTFUL BRANDS INC.</td>\n",
       "            <td>BC</td>\n",
       "            <td>BC0885932</td>\n",
       "            <td>None</td>\n",
       "            <td>None</td>\n",
       "            <td>None</td>\n",
       "            <td>False</td>\n",
       "            <td>None</td>\n",
       "            <td>None</td>\n",
       "            <td>None</td>\n",
       "            <td>None</td>\n",
       "        </tr>\n",
       "        <tr>\n",
       "            <td>26</td>\n",
       "            <td>MISTYWEST ENERGY AND TRANSPORT LTD.</td>\n",
       "            <td>BC</td>\n",
       "            <td>BC0885946</td>\n",
       "            <td>None</td>\n",
       "            <td>None</td>\n",
       "            <td>None</td>\n",
       "            <td>False</td>\n",
       "            <td>None</td>\n",
       "            <td>None</td>\n",
       "            <td>None</td>\n",
       "            <td>None</td>\n",
       "        </tr>\n",
       "        <tr>\n",
       "            <td>27</td>\n",
       "            <td>KUBE ENTERPRISES LTD.</td>\n",
       "            <td>BC</td>\n",
       "            <td>BC0885960</td>\n",
       "            <td>None</td>\n",
       "            <td>None</td>\n",
       "            <td>None</td>\n",
       "            <td>False</td>\n",
       "            <td>None</td>\n",
       "            <td>None</td>\n",
       "            <td>None</td>\n",
       "            <td>None</td>\n",
       "        </tr>\n",
       "    </tbody>\n",
       "</table>\n",
       "<span style=\"font-style:italic;text-align:center;\">Truncated to <a href=\"https://jupysql.ploomber.io/en/latest/api/configuration.html#displaylimit\">displaylimit</a> of 10.</span>"
      ],
      "text/plain": [
       "+-----+-------------------------------------+------------+------------+-----------------+------------------------------+---------------------------+------------------+-----------------------+-------+----------+------------+\n",
       "|  id |              legal_name             | legal_type | identifier |      tax_id     |            email             |       founding_date       | ar_reminder_flag | last_ar_reminder_year | state | op_state | corp_class |\n",
       "+-----+-------------------------------------+------------+------------+-----------------+------------------------------+---------------------------+------------------+-----------------------+-------+----------+------------+\n",
       "| 286 |         S-1118 HOLDINGS LTD.        |     BC     | BC0653374  |       None      |        cwfung@live.ca        | 2002-08-21 00:00:00+00:00 |      False       |          2024         |  ACT  |   None   |    None    |\n",
       "| 443 |        TWIN RIVERS MOTEL LTD.       |     BC     | BC0081392  |       None      | crisparinvestments@gmail.com | 1968-08-22 00:00:00+00:00 |      False       |          2024         |  ACT  |   None   |    None    |\n",
       "| 652 |    PREMIER AUTO TRANSMISSION LTD.   |     BC     | BC0195824  |       None      |     adil727@hotmail.com      | 1979-08-23 00:00:00+00:00 |      False       |          2024         |  ACT  |   None   |    None    |\n",
       "|  2  |     SEA TO SKY POWERWASHING INC.    |     BC     | BC0910741  | 812919801BC0001 |             None             |            None           |      False       |          None         |  None |   None   |    None    |\n",
       "| 133 |      JAZZ FOREST PRODUCTS LTD.      |     BC     | BC0939637  |       None      |      raj@jazzforest.ca       | 2012-05-03 00:00:00+00:00 |      False       |          2024         |  ACT  |   None   |    None    |\n",
       "| 134 |        SUNCASE NETWORKS INC.        |     BC     | BC0942673  |       None      |      taoliu@hotmail.com      | 2012-06-07 00:00:00+00:00 |      False       |          2024         |  ACT  |   None   |    None    |\n",
       "| 135 |     MOOZX INTERNET VENTURES INC.    |     BC     | BC0945028  |       None      |       roland@moozx.com       | 2012-07-06 00:00:00+00:00 |      False       |          2024         |  ACT  |   None   |    None    |\n",
       "|  25 |        THOUGHTFUL BRANDS INC.       |     BC     | BC0885932  |       None      |             None             |            None           |      False       |          None         |  None |   None   |    None    |\n",
       "|  26 | MISTYWEST ENERGY AND TRANSPORT LTD. |     BC     | BC0885946  |       None      |             None             |            None           |      False       |          None         |  None |   None   |    None    |\n",
       "|  27 |        KUBE ENTERPRISES LTD.        |     BC     | BC0885960  |       None      |             None             |            None           |      False       |          None         |  None |   None   |    None    |\n",
       "+-----+-------------------------------------+------------+------------+-----------------+------------------------------+---------------------------+------------------+-----------------------+-------+----------+------------+\n",
       "Truncated to displaylimit of 10."
      ]
     },
     "execution_count": 16,
     "metadata": {},
     "output_type": "execute_result"
    }
   ],
   "source": [
    "business_data"
   ]
  },
  {
   "cell_type": "markdown",
   "metadata": {},
   "source": [
    "## Create Warehouse Connection"
   ]
  },
  {
   "cell_type": "code",
   "execution_count": 13,
   "metadata": {},
   "outputs": [],
   "source": [
    "# DB_USER = os.getenv(\"WAREHOUSE_USERNAME\", \"\")\n",
    "# DB_PASSWORD = os.getenv(\"WAREHOUSE_PASSWORD\", \"\")\n",
    "# DB_NAME = os.getenv(\"WAREHOUSE_NAME\", \"\")\n",
    "# INSTANCE_CONNECTION_NAME = os.getenv(\"WAREHOUSE_CONNECTION\", \"\")\n",
    "\n",
    "# warehouse_pool = get_pool()\n",
    "# %sql warehouse_pool --alias warehouse\n",
    "# %sql warehouse"
   ]
  },
  {
   "cell_type": "code",
   "execution_count": 14,
   "metadata": {},
   "outputs": [
    {
     "data": {
      "text/html": [
       "<span style=\"None\">Running query in &#x27;warehouse&#x27;</span>"
      ],
      "text/plain": [
       "Running query in 'warehouse'"
      ]
     },
     "metadata": {},
     "output_type": "display_data"
    },
    {
     "data": {
      "text/html": [
       "<span style=\"color: green\">1 rows affected.</span>"
      ],
      "text/plain": [
       "1 rows affected."
      ]
     },
     "metadata": {},
     "output_type": "display_data"
    },
    {
     "data": {
      "text/html": [
       "<table>\n",
       "    <thead>\n",
       "        <tr>\n",
       "            <th>current_database</th>\n",
       "            <th>connection</th>\n",
       "            <th>now</th>\n",
       "        </tr>\n",
       "    </thead>\n",
       "    <tbody>\n",
       "        <tr>\n",
       "            <td>fin_warehouse</td>\n",
       "            <td>mvnjri-prod:northamerica-northeast1:fin-warehouse-prod</td>\n",
       "            <td>2024-09-19 17:32:42.824556+00:00</td>\n",
       "        </tr>\n",
       "    </tbody>\n",
       "</table>"
      ],
      "text/plain": [
       "+------------------+--------------------------------------------------------+----------------------------------+\n",
       "| current_database |                       connection                       |               now                |\n",
       "+------------------+--------------------------------------------------------+----------------------------------+\n",
       "|  fin_warehouse   | mvnjri-prod:northamerica-northeast1:fin-warehouse-prod | 2024-09-19 17:32:42.824556+00:00 |\n",
       "+------------------+--------------------------------------------------------+----------------------------------+"
      ]
     },
     "execution_count": 14,
     "metadata": {},
     "output_type": "execute_result"
    }
   ],
   "source": [
    "%%sql\n",
    "SELECT current_database(), :INSTANCE_CONNECTION_NAME as Connection, now();"
   ]
  },
  {
   "cell_type": "markdown",
   "metadata": {},
   "source": [
    "## Query Warehouse Database"
   ]
  },
  {
   "cell_type": "code",
   "execution_count": 38,
   "metadata": {},
   "outputs": [
    {
     "data": {
      "text/html": [
       "<span style=\"None\">Switching to connection &#x27;warehouse&#x27;</span>"
      ],
      "text/plain": [
       "Switching to connection 'warehouse'"
      ]
     },
     "metadata": {},
     "output_type": "display_data"
    }
   ],
   "source": [
    "%sql warehouse"
   ]
  },
  {
   "cell_type": "code",
   "execution_count": 42,
   "metadata": {},
   "outputs": [
    {
     "data": {
      "text/html": [
       "<span style=\"None\">Running query in &#x27;warehouse&#x27;</span>"
      ],
      "text/plain": [
       "Running query in 'warehouse'"
      ]
     },
     "metadata": {},
     "output_type": "display_data"
    },
    {
     "name": "stdout",
     "output_type": "stream",
     "text": [
      "2024-09-19 18:28:08,192 INFO sqlalchemy.engine.Engine SELECT co.corp_num\n",
      "     , co.recognition_dts\n",
      "     , EXTRACT(YEAR FROM co.last_ar_filed_dt) AS last_ar_filed_year\n",
      "     , co.admin_email\n",
      "     , cn.CORP_NME\n",
      "     , ct.corp_class\n",
      "FROM \"colin\".\"corporation\"   co\n",
      "   , \"colin\".corp_type       ct\n",
      "   , \"colin\".corp_state      cs\n",
      "   , \"colin\".corp_name       cn\n",
      "WHERE co.corp_typ_cd    = ct.corp_typ_cd\n",
      "  AND co.corp_num       = cs.corp_num\n",
      "  AND co.corp_num       = cn.corp_num\n",
      "  AND cs.end_event_id   IS NULL\n",
      "  and cn.end_event_id is null\n",
      "  and cn.corp_name_typ_cd = 'CO'\n",
      "  AND cs.state_typ_cd   = 'ACT'\n",
      "  AND ct.corp_class     = 'BC'\n",
      "  AND co.corp_typ_cd   <> 'BEN'\n",
      "  AND co.admin_email IS NOT NULL\n",
      "  AND co.send_ar_ind = 'Y'\n",
      "  AND NOT EXISTS (SELECT 'x'\n",
      "                  FROM \"colin\".filing f, \"colin\".event e, \"colin\".filing_user u\n",
      "                  WHERE f.event_id = e.event_id\n",
      "                    AND f.event_id = u.event_id\n",
      "                    AND e.corp_num = co.corp_num\n",
      "                    AND u.role_typ_cd = 'bcol')\n",
      "  AND NOT EXISTS (SELECT 'x'\n",
      "                  FROM \"colin\".corporation\n",
      "                  WHERE admin_email = co.admin_email\n",
      "                    AND corp_num <> co.corp_num)\n",
      "  AND (date_part('doy', co.recognition_dts) BETWEEN date_part('doy', current_date)\n",
      "       AND date_part('doy', current_date))\n",
      "  AND (\n",
      "\n",
      "       (EXTRACT(YEAR FROM co.recognition_dts) = EXTRACT(YEAR FROM current_date) - 1 AND co.last_ar_filed_dt IS NULL)\n",
      "\n",
      "       OR (co.last_ar_filed_dt IS NOT NULL AND EXTRACT(YEAR FROM co.last_ar_filed_dt) = EXTRACT(YEAR FROM current_date) - 1)\n",
      "      );\n",
      "2024-09-19 18:28:08,193 INFO sqlalchemy.engine.Engine [generated in 0.00077s] ()\n"
     ]
    },
    {
     "data": {
      "text/html": [
       "<span style=\"color: green\">124 rows affected.</span>"
      ],
      "text/plain": [
       "124 rows affected."
      ]
     },
     "metadata": {},
     "output_type": "display_data"
    }
   ],
   "source": [
    "%%sql colin_data <<\n",
    "SELECT co.corp_num\n",
    "     , co.recognition_dts\n",
    "     , EXTRACT(YEAR FROM co.last_ar_filed_dt) AS last_ar_filed_year\n",
    "     , co.admin_email\n",
    "     , cn.CORP_NME\n",
    "     , ct.corp_class\n",
    "FROM \"colin\".\"corporation\"   co\n",
    "   , \"colin\".corp_type       ct\n",
    "   , \"colin\".corp_state      cs\n",
    "   , \"colin\".corp_name       cn\n",
    "WHERE co.corp_typ_cd    = ct.corp_typ_cd\n",
    "  AND co.corp_num       = cs.corp_num\n",
    "  AND co.corp_num       = cn.corp_num\n",
    "  AND cs.end_event_id   IS NULL\n",
    "  and cn.end_event_id is null\n",
    "  and cn.corp_name_typ_cd = 'CO'\n",
    "  AND cs.state_typ_cd   = 'ACT'                                                                                -- active\n",
    "  AND ct.corp_class     = 'BC'                                                                                 -- BC Corporations\n",
    "  AND co.corp_typ_cd   <> 'BEN'                                                                                -- no Benefit Companies\n",
    "  AND co.admin_email IS NOT NULL                                                                               -- they have an email\n",
    "  AND co.send_ar_ind = 'Y'                                                                                     -- AR reminder indicator is \"Y\"\n",
    "  AND NOT EXISTS (SELECT 'x'\n",
    "                  FROM \"colin\".filing f, \"colin\".event e, \"colin\".filing_user u\n",
    "                  WHERE f.event_id = e.event_id\n",
    "                    AND f.event_id = u.event_id                                                                -- no previous BCOL filings\n",
    "                    AND e.corp_num = co.corp_num\n",
    "                    AND u.role_typ_cd = 'bcol')\n",
    "  AND NOT EXISTS (SELECT 'x'\n",
    "                  FROM \"colin\".corporation\n",
    "                  WHERE admin_email = co.admin_email\n",
    "                    AND corp_num <> co.corp_num)                                                               -- no other business using the same email\n",
    "  AND (date_part('doy', co.recognition_dts) BETWEEN date_part('doy', current_date)                            -- AR reminder within the next 14 days based on the day of year\n",
    "       AND date_part('doy', current_date))                                      -- AR reminder on the anniversary date\n",
    "  AND (\n",
    "       -- Exclude companies founded in the current year, include those from previous year\n",
    "       (EXTRACT(YEAR FROM co.recognition_dts) = EXTRACT(YEAR FROM current_date) - 1 AND co.last_ar_filed_dt IS NULL)\n",
    "       -- Or include if last_ar_filed_dt is not NULL and was filed in the previous year\n",
    "       OR (co.last_ar_filed_dt IS NOT NULL AND EXTRACT(YEAR FROM co.last_ar_filed_dt) = EXTRACT(YEAR FROM current_date) - 1)\n",
    "      );"
   ]
  },
  {
   "cell_type": "code",
   "execution_count": 43,
   "metadata": {},
   "outputs": [
    {
     "data": {
      "text/html": [
       "<div>\n",
       "<style scoped>\n",
       "    .dataframe tbody tr th:only-of-type {\n",
       "        vertical-align: middle;\n",
       "    }\n",
       "\n",
       "    .dataframe tbody tr th {\n",
       "        vertical-align: top;\n",
       "    }\n",
       "\n",
       "    .dataframe thead th {\n",
       "        text-align: right;\n",
       "    }\n",
       "</style>\n",
       "<table border=\"1\" class=\"dataframe\">\n",
       "  <thead>\n",
       "    <tr style=\"text-align: right;\">\n",
       "      <th></th>\n",
       "      <th>corp_num</th>\n",
       "      <th>recognition_dts</th>\n",
       "      <th>last_ar_filed_year</th>\n",
       "      <th>admin_email</th>\n",
       "      <th>corp_nme</th>\n",
       "      <th>corp_class</th>\n",
       "    </tr>\n",
       "  </thead>\n",
       "  <tbody>\n",
       "    <tr>\n",
       "      <th>0</th>\n",
       "      <td>0614385</td>\n",
       "      <td>2000-09-19 00:00:00</td>\n",
       "      <td>2023</td>\n",
       "      <td>geg@telus.net</td>\n",
       "      <td>GG OILFIELD SERVICES LTD.</td>\n",
       "      <td>BC</td>\n",
       "    </tr>\n",
       "    <tr>\n",
       "      <th>1</th>\n",
       "      <td>1379419</td>\n",
       "      <td>2022-09-20 10:17:02</td>\n",
       "      <td>2023</td>\n",
       "      <td>nswong@hotmail.com</td>\n",
       "      <td>ALIYA HOLDING LIMITED</td>\n",
       "      <td>BC</td>\n",
       "    </tr>\n",
       "    <tr>\n",
       "      <th>2</th>\n",
       "      <td>1440313</td>\n",
       "      <td>2023-09-20 12:44:08</td>\n",
       "      <td>None</td>\n",
       "      <td>farokh.hassani@gmail.com</td>\n",
       "      <td>NEXPERT AUTO CORP.</td>\n",
       "      <td>BC</td>\n",
       "    </tr>\n",
       "    <tr>\n",
       "      <th>3</th>\n",
       "      <td>0634198</td>\n",
       "      <td>2001-09-20 00:00:00</td>\n",
       "      <td>2023</td>\n",
       "      <td>iat@askiat.com</td>\n",
       "      <td>IAT INDUSTRIAL AUTOMATION TECHNOLOGY INC.</td>\n",
       "      <td>BC</td>\n",
       "    </tr>\n",
       "    <tr>\n",
       "      <th>4</th>\n",
       "      <td>0981007</td>\n",
       "      <td>2013-09-20 15:12:57</td>\n",
       "      <td>2023</td>\n",
       "      <td>LifeGeoPro@gmail.com</td>\n",
       "      <td>UNFARM LIFE-GEO INC.</td>\n",
       "      <td>BC</td>\n",
       "    </tr>\n",
       "    <tr>\n",
       "      <th>...</th>\n",
       "      <td>...</td>\n",
       "      <td>...</td>\n",
       "      <td>...</td>\n",
       "      <td>...</td>\n",
       "      <td>...</td>\n",
       "      <td>...</td>\n",
       "    </tr>\n",
       "    <tr>\n",
       "      <th>119</th>\n",
       "      <td>0920650</td>\n",
       "      <td>2011-09-20 08:27:01</td>\n",
       "      <td>2023</td>\n",
       "      <td>claire@synapseconsulting.ca</td>\n",
       "      <td>SYNAPSE CONSULTING INC.</td>\n",
       "      <td>BC</td>\n",
       "    </tr>\n",
       "    <tr>\n",
       "      <th>120</th>\n",
       "      <td>0980954</td>\n",
       "      <td>2013-09-20 12:16:05</td>\n",
       "      <td>2023</td>\n",
       "      <td>vkk@shaw.ca</td>\n",
       "      <td>VANCOUVER SEIYU KARATE INC.</td>\n",
       "      <td>BC</td>\n",
       "    </tr>\n",
       "    <tr>\n",
       "      <th>121</th>\n",
       "      <td>1324991</td>\n",
       "      <td>2021-09-20 13:18:43</td>\n",
       "      <td>2023</td>\n",
       "      <td>ich830paul@gmail.com</td>\n",
       "      <td>ECO H&amp;C CLEANING LTD.</td>\n",
       "      <td>BC</td>\n",
       "    </tr>\n",
       "    <tr>\n",
       "      <th>122</th>\n",
       "      <td>1379539</td>\n",
       "      <td>2022-09-20 17:45:44</td>\n",
       "      <td>2023</td>\n",
       "      <td>aashishkohli@hotmail.com</td>\n",
       "      <td>AASHISH KOHLI LAW CORPORATION</td>\n",
       "      <td>BC</td>\n",
       "    </tr>\n",
       "    <tr>\n",
       "      <th>123</th>\n",
       "      <td>1324974</td>\n",
       "      <td>2021-09-20 12:11:40</td>\n",
       "      <td>2023</td>\n",
       "      <td>lilyzh236@gmail.com</td>\n",
       "      <td>ZHANGLILY PERSONAL REAL ESTATE CORPORATION</td>\n",
       "      <td>BC</td>\n",
       "    </tr>\n",
       "  </tbody>\n",
       "</table>\n",
       "<p>124 rows × 6 columns</p>\n",
       "</div>"
      ],
      "text/plain": [
       "    corp_num     recognition_dts last_ar_filed_year  \\\n",
       "0    0614385 2000-09-19 00:00:00               2023   \n",
       "1    1379419 2022-09-20 10:17:02               2023   \n",
       "2    1440313 2023-09-20 12:44:08               None   \n",
       "3    0634198 2001-09-20 00:00:00               2023   \n",
       "4    0981007 2013-09-20 15:12:57               2023   \n",
       "..       ...                 ...                ...   \n",
       "119  0920650 2011-09-20 08:27:01               2023   \n",
       "120  0980954 2013-09-20 12:16:05               2023   \n",
       "121  1324991 2021-09-20 13:18:43               2023   \n",
       "122  1379539 2022-09-20 17:45:44               2023   \n",
       "123  1324974 2021-09-20 12:11:40               2023   \n",
       "\n",
       "                     admin_email                                    corp_nme  \\\n",
       "0                  geg@telus.net                   GG OILFIELD SERVICES LTD.   \n",
       "1             nswong@hotmail.com                       ALIYA HOLDING LIMITED   \n",
       "2       farokh.hassani@gmail.com                          NEXPERT AUTO CORP.   \n",
       "3                 iat@askiat.com   IAT INDUSTRIAL AUTOMATION TECHNOLOGY INC.   \n",
       "4           LifeGeoPro@gmail.com                        UNFARM LIFE-GEO INC.   \n",
       "..                           ...                                         ...   \n",
       "119  claire@synapseconsulting.ca                     SYNAPSE CONSULTING INC.   \n",
       "120                  vkk@shaw.ca                 VANCOUVER SEIYU KARATE INC.   \n",
       "121         ich830paul@gmail.com                       ECO H&C CLEANING LTD.   \n",
       "122     aashishkohli@hotmail.com               AASHISH KOHLI LAW CORPORATION   \n",
       "123          lilyzh236@gmail.com  ZHANGLILY PERSONAL REAL ESTATE CORPORATION   \n",
       "\n",
       "    corp_class  \n",
       "0           BC  \n",
       "1           BC  \n",
       "2           BC  \n",
       "3           BC  \n",
       "4           BC  \n",
       "..         ...  \n",
       "119         BC  \n",
       "120         BC  \n",
       "121         BC  \n",
       "122         BC  \n",
       "123         BC  \n",
       "\n",
       "[124 rows x 6 columns]"
      ]
     },
     "execution_count": 43,
     "metadata": {},
     "output_type": "execute_result"
    }
   ],
   "source": [
    "colin_df = colin_data.DataFrame()\n",
    "colin_df"
   ]
  },
  {
   "cell_type": "code",
   "execution_count": 44,
   "metadata": {},
   "outputs": [
    {
     "name": "stdout",
     "output_type": "stream",
     "text": [
      "Original columns: ['corp_num', 'recognition_dts', 'last_ar_filed_year', 'admin_email', 'corp_nme', 'corp_class']\n",
      "Columns after renaming: ['identifier', 'founding_date', 'last_ar_reminder_year', 'email', 'legal_name', 'legal_type']\n",
      "INSERT INTO \"public\".\"business\" (identifier, legal_name, legal_type, founding_date, last_ar_reminder_year, email)\n",
      "VALUES \n",
      "('0614385', 'GG OILFIELD SERVICES LTD.', 'BC', '2000-09-19', 2023, 'geg@telus.net'),\n",
      "('1379419', 'ALIYA HOLDING LIMITED', 'BC', '2022-09-20', 2023, 'nswong@hotmail.com'),\n",
      "('1440313', 'NEXPERT AUTO CORP.', 'BC', '2023-09-20', NULL, 'farokh.hassani@gmail.com'),\n",
      "('0634198', 'IAT INDUSTRIAL AUTOMATION TECHNOLOGY INC.', 'BC', '2001-09-20', 2023, 'iat@askiat.com'),\n",
      "('0981007', 'UNFARM LIFE-GEO INC.', 'BC', '2013-09-20', 2023, 'LifeGeoPro@gmail.com'),\n",
      "('1224052', 'SAVOCO SOLUTIONS INC.', 'BC', '2019-09-20', 2023, 'savocosolutions@gmail.com'),\n",
      "('1180225', 'VANITY GRACE FURNISHINGS LTD.', 'BC', '2018-09-20', 2023, 'info@vanitygrace.com'),\n",
      "('0102935', 'VALLEY CAREER TRAINING CENTRES LTD.', 'BC', '1971-09-20', 2023, 'accounting@valleydrivingschool.com'),\n",
      "('1440236', 'PREVAIL & CO LTD.', 'BC', '2023-09-20', NULL, 'rachel@prevailandco.ca'),\n",
      "('0835413', 'BRONSON HOMES INC.', 'BC', '2008-09-19', 2023, 'amjadinterlink@gmail.com'),\n",
      "('1379408', 'SWEET ARROW ENTERPRISES INC.', 'BC', '2022-09-20', 2023, 'diceballos4@gmail.com'),\n",
      "('0592743', 'POSITIVE PRESENTATIONS PLUS INC.', 'BC', '1999-09-20', 2023, 'info@elaineallison.com'),\n",
      "('0655073', 'KENZA SKIN CARE INC.', 'BC', '2002-09-20', 2023, 'kenza.dayspa@yahoo.com'),\n",
      "('1266371', 'MEPHISTO CONSTRUCTION INC.', 'BC', '2020-09-19', 2023, 'denpetrov1999@gmail.com'),\n",
      "('1440260', 'TY FOREVER FLOWERS INC.', 'BC', '2023-09-20', NULL, 'bulmerfamily12@gmail.com'),\n",
      "('0372958', 'COMPULOGIC SYSTEMS INC.', 'BC', '1989-09-20', 2023, 'gerald@logicsystems.ca'),\n",
      "('0735540', 'PROSPEROUS INDUSTRY LTD.', 'BC', '2005-09-20', 2023, 'charliedeng2003@yahoo.ca'),\n",
      "('1440310', 'CREATIVE VISION CABINETS LTD.', 'BC', '2023-09-20', NULL, 'info@vision-cabinets.ca'),\n",
      "('1325018', 'TREEFROG TROPICALS INC.', 'BC', '2021-09-20', 2023, 'treefrogtropicals@gmail.com'),\n",
      "('1224124', 'NG TECH CONSULTING INC.', 'BC', '2019-09-20', 2023, 'naomi.galinski@gmail.com'),\n",
      "('1325039', 'BRIGHTER CLEANING SERVICES INC.', 'BC', '2021-09-20', 2023, 'patricemet1@gmail.com'),\n",
      "('1180259', 'BINDI MARKETING INC.', 'BC', '2018-09-20', 2023, 'billyyyyang@gmail.com'),\n",
      "('1089920', 'TARKIN PROFESSIONAL SERVICES LIMITED', 'BC', '2016-09-19', 2023, 'divyanshu.dikshit@gmail.com'),\n",
      "('1440293', 'MEOW MEOW MEOW HOLDINGS INC.', 'BC', '2023-09-20', NULL, 'woofer@shaw.ca'),\n",
      "('1440380', 'LIBRA CREATIVE DRAFTING LTD.', 'BC', '2023-09-20', NULL, 'minoo.sdi@gmail.com'),\n",
      "('1266387', 'TCP SIMPLE TECHNOLOGIES INC.', 'BC', '2020-09-19', 2023, 'Jas@tcpnation.com'),\n",
      "('1379424', 'LINCOLN HEATING INC.', 'BC', '2022-09-20', 2023, 'lincolnheatinginc708@gmail.com'),\n",
      "('0527430', 'MERCURY ADJUSTERS INC.', 'BC', '1996-09-19', 2023, 'paul@mercuryadj.com'),\n",
      "('0769517', 'XLANCE BOOKKEEPING LTD.', 'BC', '2006-09-20', 2023, 'db@xlancebookkeeping.ca'),\n",
      "('0803240', 'WEI WANG ENTERPRISES LTD.', 'BC', '2007-09-20', 2023, 'ww618@hotmail.com'),\n",
      "('1224121', 'AUTOGO TRANSPORT INC.', 'BC', '2019-09-20', 2023, 'autogo47@gmail.com'),\n",
      "('1266393', 'INNOVATION ROOFING LTD.', 'BC', '2020-09-19', 2023, 'karanverma751@hotmail.com'),\n",
      "('1379407', 'CNA FINANCIAL CONSULTING SERVICES LTD.', 'BC', '2022-09-20', 2023, 'admin@cnafcs.ca'),\n",
      "('1379491', 'KRAL CONSULTING INC.', 'BC', '2022-09-20', 2023, 'martin_kral@hotmail.com'),\n",
      "('1266389', 'KEY VIDA CONSULTING INC.', 'BC', '2020-09-19', 2023, 'chayle@keyvida.co'),\n",
      "('0614371', 'LOCUMDOC HOLDINGS INC.', 'BC', '2000-09-19', 2023, 'docazvan@telus.net'),\n",
      "('1440419', 'AUTOBAHN DRIVING SCHOOL LTD.', 'BC', '2023-09-20', NULL, 'sukhdhindsa1978@gmail.com'),\n",
      "('1440395', 'CODEWELL TECHNOLOGIES LIMITED', 'BC', '2023-09-20', NULL, 'andrew@smartrep.io'),\n",
      "('1440396', 'VMB PROPERTY MANAGEMENT LTD.', 'BC', '2023-09-20', NULL, 'Vmbpalacios@gmail.com'),\n",
      "('0527462', 'ANTLE TOWING LTD.', 'BC', '1996-09-19', 2023, 'Antletowing@gmail.com'),\n",
      "('0254938', 'LICKLEY CONSTRUCTION CO. LTD.', 'BC', '1982-09-20', 2023, 'missie56.jp@gmail.com'),\n",
      "('1324916', 'OLAOBA ENTERPRISES LTD.', 'BC', '2021-09-20', 2023, 'olaoba_enterprise@gmail.com'),\n",
      "('1440346', 'ICEMAN MECHANICAL INC.', 'BC', '2023-09-20', NULL, 'qwu117@gmail.com'),\n",
      "('1440278', 'C & C JEWELRY INC.', 'BC', '2023-09-20', NULL, 'carinameng@hotmail.com'),\n",
      "('1089902', 'MICHAEL MIHAYLOV PERSONAL REAL ESTATE CORPORATION', 'BC', '2016-09-19', 2023, 'wyrent@gmail.com'),\n",
      "('0980972', 'DEEP STEALTH DUNGEON FETISH WEAR AND ACCESSORIES INC.', 'BC', '2013-09-20', 2023, 'dsd@deepstealthdungeon.com'),\n",
      "('1440400', 'VIGEL MANUFACTURING TECHNOLOGIES LTD.', 'BC', '2023-09-20', NULL, 'gbaldev021@gmail.com'),\n",
      "('1440237', 'NU-PAC VENTURES LTD.', 'BC', '2023-09-20', NULL, 'sahilrrc@ymail.com'),\n",
      "('0454824', 'YOGA HUT SERVICES LTD.', 'BC', '1993-09-20', 2023, 'jim.mcintyre@shaw.ca'),\n",
      "('0216568', 'KEVIN MCLAUGHLIN INSURANCE SERVICES LTD.', 'BC', '1980-09-19', 2023, 'KevinMcL@hotmail.ca'),\n",
      "('1266400', 'IRON EARTH EXCAVATING INC.', 'BC', '2020-09-19', 2023, 'Codyboan06@gmail.com'),\n",
      "('0735528', 'BAYROOT ENTERPRISES LTD.', 'BC', '2005-09-20', 2023, 'riversidemotel@telus.net'),\n",
      "('0803186', 'HUMBLE ABODES INC.', 'BC', '2007-09-20', 2023, 'dan@scamptransport.com'),\n",
      "('1440352', 'KATHLEEN MASTERY CONSULTING CORP.', 'BC', '2023-09-20', NULL, 'knabangxang@gmail.com'),\n",
      "('1379449', 'SMILEY DAYCARE LTD.', 'BC', '2022-09-20', 2023, 'Smileydaycareltd@gmail.com'),\n",
      "('1224126', 'REEL WRANGLER LTD.', 'BC', '2019-09-20', 2023, 'reelntaoil@gmail.com'),\n",
      "('1440291', 'SMARTEC VENDING LTD.', 'BC', '2023-09-20', NULL, 'MILOSARMIENTO16@GMAIL.COM'),\n",
      "('0180467', 'D & N VENTURES LTD.', 'BC', '1978-09-20', 2023, 'sbsrvc@telus.net'),\n",
      "('1089968', 'RRR&E CONSULTING INC.', 'BC', '2016-09-19', 2023, 'richard.klue@gmail.com'),\n",
      "('1180184', 'S & S HAYRE HOLDINGS LTD.', 'BC', '2018-09-20', 2023, '82mann@live.com'),\n",
      "('1440257', 'BHINDER CUSTOM FRAMING LTD.', 'BC', '2023-09-20', NULL, 'toorpargat231@gmail.com'),\n",
      "('0634224', 'BRUCE''S MARINE REPAIRS INC.', 'BC', '2001-09-20', 2023, 'BWRENCHES@AOL.COM'),\n",
      "('1324975', 'MN MARINE SERVICES LIMITED', 'BC', '2021-09-20', 2023, 'mnmarineservicesltd@gmail.com'),\n",
      "('0920772', 'G.L. EXCAVATING LTD.', 'BC', '2011-09-20', 2023, 'GARRYMANGAT19@YAHOO.COM'),\n",
      "('0480729', 'GENERAL BUILDING PAINTING & PRESSURE WASHING LTD.', 'BC', '1994-09-20', 2023, 'gbpainting@shaw.ca'),\n",
      "('1180115', 'AT''LI GATU HELICOPTERS LTD.', 'BC', '2018-09-20', 2023, 'atligatu@gmail.com'),\n",
      "('1379445', 'D. FREETHY CONSULTING LTD.', 'BC', '2022-09-20', 2023, 'Tinkertoesf@gmail.com'),\n",
      "('0890839', 'NOTE + EMOTE DESIGN LTD.', 'BC', '2010-09-20', 2023, 'lolita@noteandemote.com'),\n",
      "('0920762', 'JESSY GREWAL PERSONAL REAL ESTATE CORPORATION', 'BC', '2011-09-20', 2023, 'jessygrewal@gmail.com'),\n",
      "('1324955', 'BITMILLION HOLDING INC.', 'BC', '2021-09-20', 2023, 'alan@starise.ca'),\n",
      "('1180103', 'RRL CONSULTING SERVICES LTD.', 'BC', '2018-09-20', 2023, 'binsaanich@outlook.com'),\n",
      "('1440415', 'CJAY COACHING INC.', 'BC', '2023-09-20', NULL, 'corinne@c-jay.ca'),\n",
      "('1440292', 'BUIST CAPITAL INC.', 'BC', '2023-09-20', NULL, 'buistcapital@outlook.com'),\n",
      "('1134597', 'ZL TECHNOLOGY EXCHANGE INC.', 'BC', '2017-09-20', 2023, 'zhongzhao@yahoo.com'),\n",
      "('1180100', 'SRI FUDOSHIN MARTIAL ARTS SCHOOL INC.', 'BC', '2018-09-20', 2023, 'thivanka.ca@gmail.com'),\n",
      "('1325001', 'DEMI GU PERSONAL REAL ESTATE CORPORATION', 'BC', '2021-09-20', 2023, 'demigu@yahoo.com'),\n",
      "('0769499', 'BAY BRIDGE TRANSPORT LTD.', 'BC', '2006-09-20', 2023, 'jeetdhillon_33@yahoo.ca'),\n",
      "('1325046', 'LEEANNE CHOW CONSULTING LTD.', 'BC', '2021-09-20', 2023, 'leeanne.c@gmail.com'),\n",
      "('1440242', 'IMAGINARY CRITTERS CREATIVE LTD.', 'BC', '2023-09-20', NULL, 'imaginarycritters@gmail.com'),\n",
      "('0803255', 'NUGRAVITON SOFTWARE INC.', 'BC', '2007-09-20', 2023, 'wangfred@gmail.com'),\n",
      "('1224061', 'BALANCE4MOTION STRATEGIES INC.', 'BC', '2019-09-20', 2023, 'edinger.monika@gmail.com'),\n",
      "('1266405', 'KARPION GLASS LTD.', 'BC', '2020-09-19', 2023, 'gabriellerichdale@gmail.com'),\n",
      "('1379488', 'DELTA SALES PROS LTD.', 'BC', '2022-09-20', 2023, 'aishamirza94@hotmail.ca'),\n",
      "('0950650', 'EKE ACADEMY OF MARTIAL ARTS LIMITED', 'BC', '2012-09-19', 2023, 'ekejam@gmail.com'),\n",
      "('0592685', 'RED SKY MARKETING INC.', 'BC', '1999-09-20', 2023, 'njacques@shaw.ca'),\n",
      "('0950575', 'KALOYA TRANSPORT LTD.', 'BC', '2012-09-19', 2023, 'KALOYATRANSPORT@HOTMAIL.COM'),\n",
      "('0890841', 'HADTCO SYSTEMS LTD.', 'BC', '2010-09-20', 2023, 'hadtcosystems@gmail.com'),\n",
      "('1440312', 'WISHBONE SYSTEMS INC.', 'BC', '2023-09-20', NULL, 'accounts@wishbonesystems.ca'),\n",
      "('C1440268', 'NYULI CONTRACTING LTD.', 'BC', '2023-09-20', NULL, 'nyulicontracting@gmail.com'),\n",
      "('1440426', 'PRIVITA CONSULTING LTD.', 'BC', '2023-09-20', NULL, 'krunal09patel@gmail.com'),\n",
      "('1440298', 'GURSAHIB SERVICES LTD.', 'BC', '2023-09-20', NULL, 'khehra_binder@hotmail.com'),\n",
      "('1440339', 'ONKAR MARINETECH INC.', 'BC', '2023-09-20', NULL, 'b_kiran@hotmail.com'),\n",
      "('1440334', 'GILL ZEBRA BLINDS LTD.', 'BC', '2023-09-20', NULL, 'Amargillcanada@gmail.com'),\n",
      "('1440441', 'LEO BUSINESS CONSULTING INC.', 'BC', '2023-09-20', NULL, 'sharifipourmehrbod@gmail.com'),\n",
      "('0393867', 'KAVCO SERVICES LTD.', 'BC', '1990-09-20', 2023, 'kavco.office@gmail.com'),\n",
      "('0950646', 'CANADA YITECH  IMMIGRATION AND INVESTMENT INC.', 'BC', '2012-09-19', 2023, 'canadayitech@gmail.com'),\n",
      "('1440224', 'CLUBHOUSE INDOOR GOLF VANCOUVER INC.', 'BC', '2023-09-20', NULL, 'sophieguo1996@gmail.com'),\n",
      "('1325051', 'HAPPY BOATING LTD.', 'BC', '2021-09-20', 2023, 'happyboating2021@gmail.com'),\n",
      "('1325075', 'WILLOW HEAVY CIVIL LTD.', 'BC', '2021-09-20', 2023, 'Blockbox12@gmail.com'),\n",
      "('0634223', 'SING YEE HOLDINGS LTD.', 'BC', '2001-09-20', 2023, 'Kevin-923@hotmail.com'),\n",
      "('1325076', 'UNDERSTORY FILMS INC.', 'BC', '2021-09-20', 2023, 'jenmuranetz@gmail.com'),\n",
      "('0655089', 'GDK SOLUTIONS INC.', 'BC', '2002-09-20', 2023, 'alice@amgtaxmatters.ca'),\n",
      "('0769571', 'RAA INVESTMENTS INC.', 'BC', '2006-09-20', 2023, 'rjivraj17@gmail.com'),\n",
      "('1440386', 'OUTLINE ELECTRICAL LTD.', 'BC', '2023-09-20', NULL, 'info@outlineelectrical.ca'),\n",
      "('1180262', 'TOFUU MUSIC LTD.', 'BC', '2018-09-20', 2023, 'braden.chan@gmail.com'),\n",
      "('1440413', 'BIN HOLDINGS INC.', 'BC', '2023-09-20', NULL, 'phamtan15991@gmail.com'),\n",
      "('0735484', 'DIGITAL SPECTRUM IT SERVICES INC.', 'BC', '2005-09-20', 2023, 'info@digispec.ca'),\n",
      "('1089158', 'AA MEDTEK CO., LTD.', 'BC', '2016-09-19', 2023, 'howardruan@hotmail.com'),\n",
      "('0298004', 'NOVEL TOY COMPANY LTD.', 'BC', '1985-09-20', 2023, 'hello@noveltoy.ca'),\n",
      "('0454781', 'LIFESTYLES CONDOMINIUM SERVICES INC.', 'BC', '1993-09-20', 2023, 'perry@lifestylesstrata.ca'),\n",
      "('1134700', 'STEVESTON''S BEST OF BRITISH FOOD & GIFTS LTD.', 'BC', '2017-09-20', 2023, 'stevestonsbestofbritish@gmail.com'),\n",
      "('1325061', 'TRANSPARENT IMMIGRATION SERVICES INC.', 'BC', '2021-09-20', 2023, 'kaurmaninder22@gmail.com'),\n",
      "('1440425', 'TAYCO WATER SOLUTIONS CORPORATION', 'BC', '2023-09-20', NULL, 'Taylor.eg.gallagher@gmail.com'),\n",
      "('1379456', 'VIEW DYNAMICS INVESTMENTS INC.', 'BC', '2022-09-20', 2023, 'ewa@accellencesolutions.com'),\n",
      "('0412737', 'SEABEST HOLDINGS LTD.', 'BC', '1991-09-20', 2023, 'melissa.boschee1955@gmail.com'),\n",
      "('1325038', 'DOLPHIN HOUSEDOC INC.', 'BC', '2021-09-20', 2023, 'concisehousedoc@gmail.com'),\n",
      "('0504631', 'JSP PRODUCTIONS INC.', 'BC', '1995-09-20', 2023, 'john@onejohnprince.com'),\n",
      "('0614398', 'CANADIAN AIRCRAFT, VINTAGE/ULTRALITE LTD.', 'BC', '2000-09-19', 2023, 'relayent0315@gmail.com'),\n",
      "('1440434', 'DIGIVOT MARKETING INC.', 'BC', '2023-09-20', NULL, 'pavan@digivot.com'),\n",
      "('0920650', 'SYNAPSE CONSULTING INC.', 'BC', '2011-09-20', 2023, 'claire@synapseconsulting.ca'),\n",
      "('0980954', 'VANCOUVER SEIYU KARATE INC.', 'BC', '2013-09-20', 2023, 'vkk@shaw.ca'),\n",
      "('1324991', 'ECO H&C CLEANING LTD.', 'BC', '2021-09-20', 2023, 'ich830paul@gmail.com'),\n",
      "('1379539', 'AASHISH KOHLI LAW CORPORATION', 'BC', '2022-09-20', 2023, 'aashishkohli@hotmail.com'),\n",
      "('1324974', 'ZHANGLILY PERSONAL REAL ESTATE CORPORATION', 'BC', '2021-09-20', 2023, 'lilyzh236@gmail.com');\n"
     ]
    }
   ],
   "source": [
    "# Print original columns to verify names\n",
    "print(\"Original columns:\", colin_df.columns.tolist())\n",
    "\n",
    "# Rename columns (adjusted based on actual column names)\n",
    "colin_df.rename(columns={\n",
    "    'corp_num': 'identifier',\n",
    "    'corp_nme': 'legal_name',  # Adjusted to match actual column name\n",
    "    'recognition_dts': 'founding_date',\n",
    "    'admin_email': 'email',\n",
    "    'last_ar_filed_year': 'last_ar_reminder_year',\n",
    "    'corp_class': 'legal_type'  # Use 'corp_class' as 'legal_type'\n",
    "}, inplace=True)\n",
    "\n",
    "# Print columns after renaming to confirm\n",
    "print(\"Columns after renaming:\", colin_df.columns.tolist())\n",
    "\n",
    "# Replace 'None' strings with actual None values\n",
    "colin_df.replace('None', None, inplace=True)\n",
    "\n",
    "# Convert data types\n",
    "colin_df['last_ar_reminder_year'] = pd.to_numeric(colin_df['last_ar_reminder_year'], errors='coerce').astype('Int64')\n",
    "colin_df['founding_date'] = pd.to_datetime(colin_df['founding_date'], errors='coerce')\n",
    "\n",
    "# Select the required columns\n",
    "colin_df = colin_df[['identifier', 'legal_name', 'legal_type', 'founding_date', 'last_ar_reminder_year', 'email']]\n",
    "\n",
    "# Function to escape and format values for SQL\n",
    "def escape_and_format(value):\n",
    "    if isinstance(value, str):\n",
    "        # Escape single quotes in strings\n",
    "        return \"'\" + value.replace(\"'\", \"''\") + \"'\"\n",
    "    elif pd.isnull(value):\n",
    "        # Handle None values\n",
    "        return 'NULL'\n",
    "    elif isinstance(value, pd.Timestamp):\n",
    "        # Format dates as 'YYYY-MM-DD'\n",
    "        return \"'\" + value.strftime('%Y-%m-%d') + \"'\"\n",
    "    else:\n",
    "        # For other data types, convert to string or handle None\n",
    "        return str(int(value)) if value is not None else 'NULL'\n",
    "\n",
    "# Generate the VALUES part of the INSERT statement\n",
    "values = \",\\n\".join([\n",
    "    \"(\" + \", \".join([\n",
    "        escape_and_format(row['identifier']),\n",
    "        escape_and_format(row['legal_name']),\n",
    "        escape_and_format(row['legal_type']),\n",
    "        escape_and_format(row['founding_date']),\n",
    "        escape_and_format(row['last_ar_reminder_year']),\n",
    "        escape_and_format(row['email'])\n",
    "    ]) + \")\"\n",
    "    for _, row in colin_df.iterrows()\n",
    "])\n",
    "\n",
    "# Complete the INSERT statement\n",
    "insert_statement = f\"\"\"INSERT INTO \"public\".\"business\" (identifier, legal_name, legal_type, founding_date, last_ar_reminder_year, email)\n",
    "VALUES \n",
    "{values};\"\"\"\n",
    "\n",
    "# Print the INSERT statement\n",
    "print(insert_statement)\n"
   ]
  },
  {
   "cell_type": "code",
   "execution_count": 45,
   "metadata": {},
   "outputs": [
    {
     "data": {
      "text/html": [
       "<span style=\"None\">Switching to connection &#x27;business&#x27;</span>"
      ],
      "text/plain": [
       "Switching to connection 'business'"
      ]
     },
     "metadata": {},
     "output_type": "display_data"
    }
   ],
   "source": [
    "# Verify connection by querying the current database\n",
    "%sql business\n"
   ]
  },
  {
   "cell_type": "code",
   "execution_count": 27,
   "metadata": {},
   "outputs": [
    {
     "data": {
      "text/html": [
       "<span style=\"None\">Running query in &#x27;business&#x27;</span>"
      ],
      "text/plain": [
       "Running query in 'business'"
      ]
     },
     "metadata": {},
     "output_type": "display_data"
    },
    {
     "data": {
      "text/html": [
       "<span style=\"color: green\">1573 rows affected.</span>"
      ],
      "text/plain": [
       "1573 rows affected."
      ]
     },
     "metadata": {},
     "output_type": "display_data"
    },
    {
     "data": {
      "text/html": [
       "<table>\n",
       "    <thead>\n",
       "        <tr>\n",
       "            <th>id</th>\n",
       "            <th>legal_name</th>\n",
       "            <th>legal_type</th>\n",
       "            <th>identifier</th>\n",
       "            <th>tax_id</th>\n",
       "            <th>email</th>\n",
       "            <th>founding_date</th>\n",
       "            <th>ar_reminder_flag</th>\n",
       "            <th>last_ar_reminder_year</th>\n",
       "            <th>state</th>\n",
       "            <th>op_state</th>\n",
       "            <th>corp_class</th>\n",
       "        </tr>\n",
       "    </thead>\n",
       "    <tbody>\n",
       "        <tr>\n",
       "            <td>286</td>\n",
       "            <td>S-1118 HOLDINGS LTD.</td>\n",
       "            <td>BC</td>\n",
       "            <td>BC0653374</td>\n",
       "            <td>None</td>\n",
       "            <td>cwfung@live.ca</td>\n",
       "            <td>2002-08-21 00:00:00+00:00</td>\n",
       "            <td>False</td>\n",
       "            <td>2024</td>\n",
       "            <td>ACT</td>\n",
       "            <td>None</td>\n",
       "            <td>None</td>\n",
       "        </tr>\n",
       "        <tr>\n",
       "            <td>443</td>\n",
       "            <td>TWIN RIVERS MOTEL LTD.</td>\n",
       "            <td>BC</td>\n",
       "            <td>BC0081392</td>\n",
       "            <td>None</td>\n",
       "            <td>crisparinvestments@gmail.com</td>\n",
       "            <td>1968-08-22 00:00:00+00:00</td>\n",
       "            <td>False</td>\n",
       "            <td>2024</td>\n",
       "            <td>ACT</td>\n",
       "            <td>None</td>\n",
       "            <td>None</td>\n",
       "        </tr>\n",
       "        <tr>\n",
       "            <td>652</td>\n",
       "            <td>PREMIER AUTO TRANSMISSION LTD.</td>\n",
       "            <td>BC</td>\n",
       "            <td>BC0195824</td>\n",
       "            <td>None</td>\n",
       "            <td>adil727@hotmail.com</td>\n",
       "            <td>1979-08-23 00:00:00+00:00</td>\n",
       "            <td>False</td>\n",
       "            <td>2024</td>\n",
       "            <td>ACT</td>\n",
       "            <td>None</td>\n",
       "            <td>None</td>\n",
       "        </tr>\n",
       "        <tr>\n",
       "            <td>2</td>\n",
       "            <td>SEA TO SKY POWERWASHING INC.</td>\n",
       "            <td>BC</td>\n",
       "            <td>BC0910741</td>\n",
       "            <td>812919801BC0001</td>\n",
       "            <td>None</td>\n",
       "            <td>None</td>\n",
       "            <td>False</td>\n",
       "            <td>None</td>\n",
       "            <td>None</td>\n",
       "            <td>None</td>\n",
       "            <td>None</td>\n",
       "        </tr>\n",
       "        <tr>\n",
       "            <td>133</td>\n",
       "            <td>JAZZ FOREST PRODUCTS LTD.</td>\n",
       "            <td>BC</td>\n",
       "            <td>BC0939637</td>\n",
       "            <td>None</td>\n",
       "            <td>raj@jazzforest.ca</td>\n",
       "            <td>2012-05-03 00:00:00+00:00</td>\n",
       "            <td>False</td>\n",
       "            <td>2024</td>\n",
       "            <td>ACT</td>\n",
       "            <td>None</td>\n",
       "            <td>None</td>\n",
       "        </tr>\n",
       "        <tr>\n",
       "            <td>134</td>\n",
       "            <td>SUNCASE NETWORKS INC.</td>\n",
       "            <td>BC</td>\n",
       "            <td>BC0942673</td>\n",
       "            <td>None</td>\n",
       "            <td>taoliu@hotmail.com</td>\n",
       "            <td>2012-06-07 00:00:00+00:00</td>\n",
       "            <td>False</td>\n",
       "            <td>2024</td>\n",
       "            <td>ACT</td>\n",
       "            <td>None</td>\n",
       "            <td>None</td>\n",
       "        </tr>\n",
       "        <tr>\n",
       "            <td>135</td>\n",
       "            <td>MOOZX INTERNET VENTURES INC.</td>\n",
       "            <td>BC</td>\n",
       "            <td>BC0945028</td>\n",
       "            <td>None</td>\n",
       "            <td>roland@moozx.com</td>\n",
       "            <td>2012-07-06 00:00:00+00:00</td>\n",
       "            <td>False</td>\n",
       "            <td>2024</td>\n",
       "            <td>ACT</td>\n",
       "            <td>None</td>\n",
       "            <td>None</td>\n",
       "        </tr>\n",
       "        <tr>\n",
       "            <td>25</td>\n",
       "            <td>THOUGHTFUL BRANDS INC.</td>\n",
       "            <td>BC</td>\n",
       "            <td>BC0885932</td>\n",
       "            <td>None</td>\n",
       "            <td>None</td>\n",
       "            <td>None</td>\n",
       "            <td>False</td>\n",
       "            <td>None</td>\n",
       "            <td>None</td>\n",
       "            <td>None</td>\n",
       "            <td>None</td>\n",
       "        </tr>\n",
       "        <tr>\n",
       "            <td>26</td>\n",
       "            <td>MISTYWEST ENERGY AND TRANSPORT LTD.</td>\n",
       "            <td>BC</td>\n",
       "            <td>BC0885946</td>\n",
       "            <td>None</td>\n",
       "            <td>None</td>\n",
       "            <td>None</td>\n",
       "            <td>False</td>\n",
       "            <td>None</td>\n",
       "            <td>None</td>\n",
       "            <td>None</td>\n",
       "            <td>None</td>\n",
       "        </tr>\n",
       "        <tr>\n",
       "            <td>27</td>\n",
       "            <td>KUBE ENTERPRISES LTD.</td>\n",
       "            <td>BC</td>\n",
       "            <td>BC0885960</td>\n",
       "            <td>None</td>\n",
       "            <td>None</td>\n",
       "            <td>None</td>\n",
       "            <td>False</td>\n",
       "            <td>None</td>\n",
       "            <td>None</td>\n",
       "            <td>None</td>\n",
       "            <td>None</td>\n",
       "        </tr>\n",
       "    </tbody>\n",
       "</table>\n",
       "<span style=\"font-style:italic;text-align:center;\">Truncated to <a href=\"https://jupysql.ploomber.io/en/latest/api/configuration.html#displaylimit\">displaylimit</a> of 10.</span>"
      ],
      "text/plain": [
       "+-----+-------------------------------------+------------+------------+-----------------+------------------------------+---------------------------+------------------+-----------------------+-------+----------+------------+\n",
       "|  id |              legal_name             | legal_type | identifier |      tax_id     |            email             |       founding_date       | ar_reminder_flag | last_ar_reminder_year | state | op_state | corp_class |\n",
       "+-----+-------------------------------------+------------+------------+-----------------+------------------------------+---------------------------+------------------+-----------------------+-------+----------+------------+\n",
       "| 286 |         S-1118 HOLDINGS LTD.        |     BC     | BC0653374  |       None      |        cwfung@live.ca        | 2002-08-21 00:00:00+00:00 |      False       |          2024         |  ACT  |   None   |    None    |\n",
       "| 443 |        TWIN RIVERS MOTEL LTD.       |     BC     | BC0081392  |       None      | crisparinvestments@gmail.com | 1968-08-22 00:00:00+00:00 |      False       |          2024         |  ACT  |   None   |    None    |\n",
       "| 652 |    PREMIER AUTO TRANSMISSION LTD.   |     BC     | BC0195824  |       None      |     adil727@hotmail.com      | 1979-08-23 00:00:00+00:00 |      False       |          2024         |  ACT  |   None   |    None    |\n",
       "|  2  |     SEA TO SKY POWERWASHING INC.    |     BC     | BC0910741  | 812919801BC0001 |             None             |            None           |      False       |          None         |  None |   None   |    None    |\n",
       "| 133 |      JAZZ FOREST PRODUCTS LTD.      |     BC     | BC0939637  |       None      |      raj@jazzforest.ca       | 2012-05-03 00:00:00+00:00 |      False       |          2024         |  ACT  |   None   |    None    |\n",
       "| 134 |        SUNCASE NETWORKS INC.        |     BC     | BC0942673  |       None      |      taoliu@hotmail.com      | 2012-06-07 00:00:00+00:00 |      False       |          2024         |  ACT  |   None   |    None    |\n",
       "| 135 |     MOOZX INTERNET VENTURES INC.    |     BC     | BC0945028  |       None      |       roland@moozx.com       | 2012-07-06 00:00:00+00:00 |      False       |          2024         |  ACT  |   None   |    None    |\n",
       "|  25 |        THOUGHTFUL BRANDS INC.       |     BC     | BC0885932  |       None      |             None             |            None           |      False       |          None         |  None |   None   |    None    |\n",
       "|  26 | MISTYWEST ENERGY AND TRANSPORT LTD. |     BC     | BC0885946  |       None      |             None             |            None           |      False       |          None         |  None |   None   |    None    |\n",
       "|  27 |        KUBE ENTERPRISES LTD.        |     BC     | BC0885960  |       None      |             None             |            None           |      False       |          None         |  None |   None   |    None    |\n",
       "+-----+-------------------------------------+------------+------------+-----------------+------------------------------+---------------------------+------------------+-----------------------+-------+----------+------------+\n",
       "Truncated to displaylimit of 10."
      ]
     },
     "execution_count": 27,
     "metadata": {},
     "output_type": "execute_result"
    }
   ],
   "source": [
    "%%sql\n",
    "SELECT * from business;"
   ]
  },
  {
   "cell_type": "code",
   "execution_count": 46,
   "metadata": {},
   "outputs": [
    {
     "name": "stdout",
     "output_type": "stream",
     "text": [
      "2024-09-19 18:28:30,223 INFO sqlalchemy.engine.Engine BEGIN (implicit)\n",
      "2024-09-19 18:28:30,227 INFO sqlalchemy.engine.Engine SELECT pg_catalog.pg_class.relname \n",
      "FROM pg_catalog.pg_class JOIN pg_catalog.pg_namespace ON pg_catalog.pg_namespace.oid = pg_catalog.pg_class.relnamespace \n",
      "WHERE pg_catalog.pg_class.relname = %s::VARCHAR AND pg_catalog.pg_class.relkind = ANY (ARRAY[%s::VARCHAR, %s::VARCHAR, %s::VARCHAR, %s::VARCHAR, %s::VARCHAR]) AND pg_catalog.pg_table_is_visible(pg_catalog.pg_class.oid) AND pg_catalog.pg_namespace.nspname != %s::VARCHAR\n",
      "2024-09-19 18:28:30,228 INFO sqlalchemy.engine.Engine [cached since 1075s ago] ('business', 'r', 'p', 'f', 'v', 'm', 'pg_catalog')\n",
      "2024-09-19 18:28:30,519 INFO sqlalchemy.engine.Engine INSERT INTO business (identifier, legal_name, legal_type, founding_date, last_ar_reminder_year, email) VALUES (%s::VARCHAR, %s::VARCHAR, %s::VARCHAR, %s::TIMESTAMP WITHOUT TIME ZONE, %s::BIGINT, %s::VARCHAR)\n",
      "2024-09-19 18:28:30,519 INFO sqlalchemy.engine.Engine [generated in 0.00087s] [('0614385', 'GG OILFIELD SERVICES LTD.', 'BC', datetime.datetime(2000, 9, 19, 0, 0), 2023, 'geg@telus.net'), ('1379419', 'ALIYA HOLDING LIMITED', 'BC', datetime.datetime(2022, 9, 20, 10, 17, 2), 2023, 'nswong@hotmail.com'), ('1440313', 'NEXPERT AUTO CORP.', 'BC', datetime.datetime(2023, 9, 20, 12, 44, 8), None, 'farokh.hassani@gmail.com'), ('0634198', 'IAT INDUSTRIAL AUTOMATION TECHNOLOGY INC.', 'BC', datetime.datetime(2001, 9, 20, 0, 0), 2023, 'iat@askiat.com'), ('0981007', 'UNFARM LIFE-GEO INC.', 'BC', datetime.datetime(2013, 9, 20, 15, 12, 57), 2023, 'LifeGeoPro@gmail.com'), ('1224052', 'SAVOCO SOLUTIONS INC.', 'BC', datetime.datetime(2019, 9, 20, 14, 6, 59), 2023, 'savocosolutions@gmail.com'), ('1180225', 'VANITY GRACE FURNISHINGS LTD.', 'BC', datetime.datetime(2018, 9, 20, 15, 56, 41), 2023, 'info@vanitygrace.com'), ('0102935', 'VALLEY CAREER TRAINING CENTRES LTD.', 'BC', datetime.datetime(1971, 9, 20, 0, 0), 2023, 'accounting@valleydrivingschool.com')  ... displaying 10 of 124 total bound parameter sets ...  ('1379539', 'AASHISH KOHLI LAW CORPORATION', 'BC', datetime.datetime(2022, 9, 20, 17, 45, 44), 2023, 'aashishkohli@hotmail.com'), ('1324974', 'ZHANGLILY PERSONAL REAL ESTATE CORPORATION', 'BC', datetime.datetime(2021, 9, 20, 12, 11, 40), 2023, 'lilyzh236@gmail.com')]\n",
      "2024-09-19 18:28:57,972 INFO sqlalchemy.engine.Engine COMMIT\n"
     ]
    }
   ],
   "source": [
    "try:\n",
    "    colin_df.to_sql(name='business', con=business_pool, if_exists='append', index=False)\n",
    "except Exception as e:\n",
    "    print(\"An error occurred during to_sql operation:\", e)\n"
   ]
  },
  {
   "cell_type": "code",
   "execution_count": 82,
   "metadata": {},
   "outputs": [],
   "source": [
    "# Close the connection and reconnect\n",
    "business_pool.dispose()  # Disposes the current pool and closes all connections\n",
    "business_pool = get_pool()  # Recreate the connection pool\n"
   ]
  },
  {
   "cell_type": "code",
   "execution_count": 1,
   "metadata": {},
   "outputs": [
    {
     "ename": "NameError",
     "evalue": "name 'colin_df' is not defined",
     "output_type": "error",
     "traceback": [
      "\u001b[0;31m---------------------------------------------------------------------------\u001b[0m",
      "\u001b[0;31mNameError\u001b[0m                                 Traceback (most recent call last)",
      "Cell \u001b[0;32mIn[1], line 1\u001b[0m\n\u001b[0;32m----> 1\u001b[0m \u001b[43mcolin_df\u001b[49m\n",
      "\u001b[0;31mNameError\u001b[0m: name 'colin_df' is not defined"
     ]
    }
   ],
   "source": [
    "colin_df"
   ]
  },
  {
   "cell_type": "markdown",
   "metadata": {},
   "source": [
    "## Load from CSV"
   ]
  },
  {
   "cell_type": "code",
   "execution_count": null,
   "metadata": {},
   "outputs": [],
   "source": [
    "colin_df = pd.read_csv('cohort_7.csv') \n",
    "colin_df"
   ]
  },
  {
   "cell_type": "code",
   "execution_count": null,
   "metadata": {},
   "outputs": [],
   "source": [
    "# colin_df[\"identifier\"] = colin_df[\"Jurisdiction\"] + colin_df['corp_num'].apply('{:0>7}'.format)\n",
    "# colin_df['nano_id'] = colin_df.apply(lambda row: generate(nanoid_charset), axis = 1)\n",
    "# colin_df['tax_id'] = None\n",
    "# colin_df['id'] = np.arange(1, colin_df.shape[0] + 1) + 7\n",
    "#to_bar_df = pd.DataFrame()\n",
    "#to_bar_df[['id','legal_name','legal_type','identifier','tax_id','nano_id']] = colin_df[['id','Name','Jurisdiction','identifier','tax_id','nano_id']]\n",
    "#to_bar_df\n"
   ]
  },
  {
   "cell_type": "code",
   "execution_count": null,
   "metadata": {},
   "outputs": [],
   "source": [
    "# colin_df['tax_id'] = None\n",
    "# colin_df['ar_reminder_flag'] = None\n",
    "# colin_df['state'] = None\n",
    "# colin_df['op_state'] = None\n",
    "# colin_df['corp_class'] = None\n",
    "to_bar_df = colin_df"
   ]
  },
  {
   "cell_type": "code",
   "execution_count": null,
   "metadata": {},
   "outputs": [
    {
     "data": {
      "text/plain": [
       "1"
      ]
     },
     "metadata": {},
     "output_type": "display_data"
    }
   ],
   "source": [
    "to_bar_df.to_sql(name='b2', con=business_pool, if_exists='append', index=False)"
   ]
  },
  {
   "cell_type": "code",
   "execution_count": null,
   "metadata": {},
   "outputs": [],
   "source": [
    "%%sql\n",
    "INSERT INTO business (id, legal_name, legal_type, identifier, email, founding_date, last_ar_reminder_year, state)\n",
    "SELECT \n",
    "    (SELECT COALESCE(MAX(id), 0) FROM business) + ROW_NUMBER() OVER (), \n",
    "    legal_name, \n",
    "    legal_type, \n",
    "    identifier, \n",
    "    email, \n",
    "    founding_date::date, \n",
    "    last_ar_reminder_year, \n",
    "    'ACT'\n",
    "FROM b2;\n"
   ]
  },
  {
   "cell_type": "code",
   "execution_count": null,
   "metadata": {},
   "outputs": [],
   "source": [
    "to_inv_email_df = pd.DataFrame()\n",
    "to_inv_email_df[['id','recipients']] = colin_df[['id','email']]\n",
    "to_inv_email_df['business_id'] = to_inv_email_df['id']\n",
    "to_inv_email_df['token'] = colin_df.apply(lambda row: generate(nanoid_charset), axis = 1)\n",
    "to_inv_email_df['message'] = colin_df.apply(lambda row: 'AR Invitation', axis = 1)\n",
    "to_inv_email_df['status'] = colin_df.apply(lambda row: 'SENT', axis = 1)\n",
    "to_inv_email_df"
   ]
  },
  {
   "cell_type": "code",
   "execution_count": null,
   "metadata": {},
   "outputs": [],
   "source": [
    "%%sql business_data <<\n",
    "select * from business where id = 9"
   ]
  },
  {
   "cell_type": "markdown",
   "metadata": {},
   "source": [
    "## If using csv files then no need to run following two cells"
   ]
  },
  {
   "cell_type": "code",
   "execution_count": null,
   "metadata": {},
   "outputs": [],
   "source": [
    "business_df = business_data.DataFrame()"
   ]
  },
  {
   "cell_type": "code",
   "execution_count": null,
   "metadata": {},
   "outputs": [],
   "source": [
    "to_inv_email_df = pd.DataFrame()\n",
    "to_inv_email_df[['id','recipients']] = business_df[['id','email']]\n",
    "to_inv_email_df['business_id'] = to_inv_email_df['id']\n",
    "to_inv_email_df['token'] = business_df.apply(lambda row: generate(nanoid_charset), axis = 1)\n",
    "to_inv_email_df['message'] = business_df.apply(lambda row: 'AR Invitation', axis = 1)\n",
    "to_inv_email_df['status'] = business_df.apply(lambda row: 'SENT', axis = 1)\n",
    "to_inv_email_df"
   ]
  },
  {
   "cell_type": "markdown",
   "metadata": {},
   "source": [
    "Writes into inv_ch6 table"
   ]
  },
  {
   "cell_type": "code",
   "execution_count": null,
   "metadata": {},
   "outputs": [
    {
     "data": {
      "text/plain": [
       "1"
      ]
     },
     "metadata": {},
     "output_type": "display_data"
    }
   ],
   "source": [
    "to_inv_email_df.to_sql(name='inv_ch6', con=business_pool, if_exists='append', index=False)"
   ]
  },
  {
   "cell_type": "markdown",
   "metadata": {},
   "source": [
    "Insert into invitations table from inv_ch6 table"
   ]
  },
  {
   "cell_type": "code",
   "execution_count": null,
   "metadata": {},
   "outputs": [],
   "source": [
    "%%sql\n",
    "insert into invitations (id,recipients,message,sent_date,token,status,business_id)\n",
    "(select nextval('invitations_id_seq'::regclass), recipients, message, now(), token, 'SENT', business_id from inv_ch6)"
   ]
  },
  {
   "cell_type": "markdown",
   "metadata": {},
   "source": [
    "## Output to CSV"
   ]
  },
  {
   "cell_type": "code",
   "execution_count": null,
   "metadata": {},
   "outputs": [],
   "source": [
    "%%sql business_data <<\n",
    "select b.identifier, b.legal_name, b.legal_type, i.token, i.recipients from business b, invitations i where b.id=i.business_id and b.id >= 104"
   ]
  },
  {
   "cell_type": "code",
   "execution_count": null,
   "metadata": {},
   "outputs": [],
   "source": [
    "business_data"
   ]
  },
  {
   "cell_type": "code",
   "execution_count": null,
   "metadata": {},
   "outputs": [],
   "source": [
    "bdf = business_data.DataFrame()\n",
    "# bdf = bdf[['legal_name','legal_type','identifier','nano_id']]\n",
    "base_url='https://annualreport.business.bcregistry.gov.bc.ca/en-CA'\n",
    "bdf['url'] = f'{base_url}?nanoid=' + bdf['token']\n",
    "bdf"
   ]
  },
  {
   "cell_type": "code",
   "execution_count": null,
   "metadata": {},
   "outputs": [],
   "source": [
    "import time\n",
    "from datetime import datetime\n",
    "from datetime import timezone\n",
    "\n",
    "time_stamp = time.time()\n",
    "now = datetime.utcfromtimestamp(time_stamp).replace(tzinfo=timezone.utc)\n",
    "# local_now = now.astimezone(Pacific)\n",
    "local_now = now.astimezone()\n",
    "local_now.strftime(\"%Y.%m.%d.%H\")"
   ]
  },
  {
   "cell_type": "code",
   "execution_count": null,
   "metadata": {},
   "outputs": [],
   "source": [
    "with open('business-ar.'+local_now.strftime(\"%Y.%m.%d.%H\")+'.csv', 'a') as f:      \n",
    "    f.write('\\n\\n Business Annual Report\\n')\n",
    "    bdf.to_csv(f, sep=',', encoding='utf-8', index=False)    "
   ]
  },
  {
   "cell_type": "markdown",
   "metadata": {},
   "source": [
    "## Set Invitations"
   ]
  },
  {
   "cell_type": "code",
   "execution_count": null,
   "metadata": {},
   "outputs": [],
   "source": [
    "%%sql\n",
    "INSERT INTO invitations (id, recipients, message, sent_date, token, status, additional_message, business_id)\n",
    "SELECT \n",
    "    nextval('invitations_id_seq'::regclass), \n",
    "    'test@example.com', \n",
    "    'Annual Report Due', \n",
    "    now(), \n",
    "    b2.nano_id,\n",
    "    'SENT', \n",
    "    NULL, \n",
    "    b.id\n",
    "FROM \n",
    "    business b\n",
    "JOIN \n",
    "    b2 ON b.id = b2.id;\n"
   ]
  }
 ],
 "metadata": {
  "kernelspec": {
   "display_name": "base",
   "language": "python",
   "name": "python3"
  },
  "language_info": {
   "codemirror_mode": {
    "name": "ipython",
    "version": 3
   },
   "file_extension": ".py",
   "mimetype": "text/x-python",
   "name": "python",
   "nbconvert_exporter": "python",
   "pygments_lexer": "ipython3",
   "version": "3.11.9"
  }
 },
 "nbformat": 4,
 "nbformat_minor": 2
}
