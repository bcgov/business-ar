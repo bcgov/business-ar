{
 "cells": [
  {
   "cell_type": "markdown",
   "metadata": {},
   "source": [
    "### Load Business AR Data - Cohort 7"
   ]
  },
  {
   "cell_type": "markdown",
   "metadata": {},
   "source": [
    "This will gather data, create the nanoid and load data into the Business AR database"
   ]
  },
  {
   "cell_type": "markdown",
   "metadata": {},
   "source": [
    "## Setup"
   ]
  },
  {
   "cell_type": "code",
   "execution_count": 1,
   "metadata": {},
   "outputs": [
    {
     "name": "stdout",
     "output_type": "stream",
     "text": [
      "There's a new jupysql version available (0.10.13), you're running 0.10.12. To upgrade: pip install jupysql --upgrade\n",
      "Deploy Streamlit apps for free on Ploomber Cloud! Learn more: https://ploomber.io/s/signup\n"
     ]
    }
   ],
   "source": [
    "%load_ext sql\n",
    "%load_ext dotenv\n",
    "%config SqlMagic.named_parameters=\"enabled\" "
   ]
  },
  {
   "cell_type": "code",
   "execution_count": 2,
   "metadata": {},
   "outputs": [
    {
     "data": {
      "text/plain": [
       "True"
      ]
     },
     "execution_count": 2,
     "metadata": {},
     "output_type": "execute_result"
    }
   ],
   "source": [
    "import pandas as pd\n",
    "import numpy as np\n",
    "from dotenv import find_dotenv\n",
    "from dotenv import load_dotenv\n",
    "from nanoid import generate\n",
    "load_dotenv(find_dotenv())"
   ]
  },
  {
   "cell_type": "code",
   "execution_count": 3,
   "metadata": {},
   "outputs": [],
   "source": [
    "import string\n",
    "nanoid_charset = string.ascii_letters + string.digits"
   ]
  },
  {
   "cell_type": "code",
   "execution_count": 4,
   "metadata": {},
   "outputs": [],
   "source": [
    "import google.auth\n",
    "credentials, project_id = google.auth.default()"
   ]
  },
  {
   "cell_type": "code",
   "execution_count": 5,
   "metadata": {},
   "outputs": [],
   "source": [
    "import os\n",
    "from google.cloud.sql.connector import Connector\n",
    "import sqlalchemy\n",
    "\n",
    "# initialize Connector object\n",
    "connector = Connector()\n",
    "\n",
    "# function to return the database connection object\n",
    "def get_conn():\n",
    "    conn = connector.connect(\n",
    "        INSTANCE_CONNECTION_NAME,\n",
    "        \"pg8000\",\n",
    "        user=DB_USER,\n",
    "        password=DB_PASSWORD,\n",
    "        db=DB_NAME\n",
    "    )\n",
    "    return conn\n",
    "\n",
    "def get_pool():\n",
    "    # create connection pool with 'creator' argument to our connection object function\n",
    "    pool = sqlalchemy.create_engine(\n",
    "        \"postgresql+pg8000://\",\n",
    "        creator=get_conn,\n",
    "    )\n",
    "    \n",
    "    return pool"
   ]
  },
  {
   "cell_type": "markdown",
   "metadata": {},
   "source": [
    "## Reset Environment Variables"
   ]
  },
  {
   "cell_type": "code",
   "execution_count": 6,
   "metadata": {},
   "outputs": [],
   "source": [
    "%dotenv -o"
   ]
  },
  {
   "cell_type": "markdown",
   "metadata": {},
   "source": [
    "## Create Business Connection"
   ]
  },
  {
   "cell_type": "code",
   "execution_count": 7,
   "metadata": {},
   "outputs": [],
   "source": [
    "DB_USER = os.getenv(\"BUSINESS_USERNAME\", \"\")\n",
    "DB_PASSWORD = os.getenv(\"BUSINESS_PASSWORD\", \"\")\n",
    "DB_NAME = os.getenv(\"BUSINESS_NAME\", \"\")\n",
    "INSTANCE_CONNECTION_NAME = os.getenv(\"BUSINESS_CONNECTION\", \"\")\n",
    "\n",
    "business_pool = get_pool()\n",
    "%sql business_pool --alias business\n",
    "%sql business"
   ]
  },
  {
   "cell_type": "code",
   "execution_count": 8,
   "metadata": {},
   "outputs": [
    {
     "data": {
      "text/html": [
       "<span style=\"None\">Running query in &#x27;business&#x27;</span>"
      ],
      "text/plain": [
       "Running query in 'business'"
      ]
     },
     "metadata": {},
     "output_type": "display_data"
    },
    {
     "data": {
      "text/html": [
       "<span style=\"color: green\">1 rows affected.</span>"
      ],
      "text/plain": [
       "1 rows affected."
      ]
     },
     "metadata": {},
     "output_type": "display_data"
    },
    {
     "data": {
      "text/html": [
       "<table>\n",
       "    <thead>\n",
       "        <tr>\n",
       "            <th>current_database</th>\n",
       "            <th>connection</th>\n",
       "            <th>now</th>\n",
       "        </tr>\n",
       "    </thead>\n",
       "    <tbody>\n",
       "        <tr>\n",
       "            <td>business-ar</td>\n",
       "            <td>a083gt-dev:northamerica-northeast1:businesses-db-dev</td>\n",
       "            <td>2024-09-16 22:23:36.841589+00:00</td>\n",
       "        </tr>\n",
       "    </tbody>\n",
       "</table>"
      ],
      "text/plain": [
       "+------------------+------------------------------------------------------+----------------------------------+\n",
       "| current_database |                      connection                      |               now                |\n",
       "+------------------+------------------------------------------------------+----------------------------------+\n",
       "|   business-ar    | a083gt-dev:northamerica-northeast1:businesses-db-dev | 2024-09-16 22:23:36.841589+00:00 |\n",
       "+------------------+------------------------------------------------------+----------------------------------+"
      ]
     },
     "execution_count": 8,
     "metadata": {},
     "output_type": "execute_result"
    }
   ],
   "source": [
    "%%sql\n",
    "SELECT current_database(), :INSTANCE_CONNECTION_NAME as Connection, now();"
   ]
  },
  {
   "cell_type": "markdown",
   "metadata": {},
   "source": [
    "## List Database Connections"
   ]
  },
  {
   "cell_type": "code",
   "execution_count": 9,
   "metadata": {},
   "outputs": [
    {
     "data": {
      "text/html": [
       "Active connections:\n",
       "<table>\n",
       "    <thead>\n",
       "        <tr>\n",
       "            <th>current</th>\n",
       "            <th>url</th>\n",
       "            <th>alias</th>\n",
       "        </tr>\n",
       "    </thead>\n",
       "    <tbody>\n",
       "        <tr>\n",
       "            <td>*</td>\n",
       "            <td>postgresql+pg8000://</td>\n",
       "            <td>business</td>\n",
       "        </tr>\n",
       "    </tbody>\n",
       "</table>"
      ],
      "text/plain": [
       "Active connections:\n",
       "+---------+----------------------+----------+\n",
       "| current |         url          |  alias   |\n",
       "+---------+----------------------+----------+\n",
       "|    *    | postgresql+pg8000:// | business |\n",
       "+---------+----------------------+----------+"
      ]
     },
     "execution_count": 9,
     "metadata": {},
     "output_type": "execute_result"
    }
   ],
   "source": [
    "%sql --connections"
   ]
  },
  {
   "cell_type": "markdown",
   "metadata": {},
   "source": [
    "## Query Business Database"
   ]
  },
  {
   "cell_type": "code",
   "execution_count": null,
   "metadata": {},
   "outputs": [],
   "source": [
    "%sql business"
   ]
  },
  {
   "cell_type": "code",
   "execution_count": null,
   "metadata": {},
   "outputs": [],
   "source": [
    "%%sql business_data <<\n",
    "select * from business where id >= 104"
   ]
  },
  {
   "cell_type": "code",
   "execution_count": null,
   "metadata": {},
   "outputs": [],
   "source": [
    "business_data"
   ]
  },
  {
   "cell_type": "markdown",
   "metadata": {},
   "source": [
    "## Create Warehouse Connection"
   ]
  },
  {
   "cell_type": "code",
   "execution_count": 16,
   "metadata": {},
   "outputs": [],
   "source": [
    "DB_USER = os.getenv(\"WAREHOUSE_USERNAME\", \"\")\n",
    "DB_PASSWORD = os.getenv(\"WAREHOUSE_PASSWORD\", \"\")\n",
    "DB_NAME = os.getenv(\"WAREHOUSE_NAME\", \"\")\n",
    "INSTANCE_CONNECTION_NAME = os.getenv(\"WAREHOUSE_CONNECTION\", \"\")\n",
    "\n",
    "warehouse_pool = get_pool()\n",
    "%sql warehouse_pool --alias warehouse\n",
    "%sql warehouse"
   ]
  },
  {
   "cell_type": "code",
   "execution_count": 17,
   "metadata": {},
   "outputs": [
    {
     "data": {
      "text/html": [
       "<span style=\"None\">Running query in &#x27;warehouse&#x27;</span>"
      ],
      "text/plain": [
       "Running query in 'warehouse'"
      ]
     },
     "metadata": {},
     "output_type": "display_data"
    },
    {
     "data": {
      "text/html": [
       "<span style=\"color: green\">1 rows affected.</span>"
      ],
      "text/plain": [
       "1 rows affected."
      ]
     },
     "metadata": {},
     "output_type": "display_data"
    },
    {
     "data": {
      "text/html": [
       "<table>\n",
       "    <thead>\n",
       "        <tr>\n",
       "            <th>current_database</th>\n",
       "            <th>connection</th>\n",
       "            <th>now</th>\n",
       "        </tr>\n",
       "    </thead>\n",
       "    <tbody>\n",
       "        <tr>\n",
       "            <td>fin_warehouse</td>\n",
       "            <td>mvnjri-prod:northamerica-northeast1:fin-warehouse-prod</td>\n",
       "            <td>2024-09-18 21:27:09.068706+00:00</td>\n",
       "        </tr>\n",
       "    </tbody>\n",
       "</table>"
      ],
      "text/plain": [
       "+------------------+--------------------------------------------------------+----------------------------------+\n",
       "| current_database |                       connection                       |               now                |\n",
       "+------------------+--------------------------------------------------------+----------------------------------+\n",
       "|  fin_warehouse   | mvnjri-prod:northamerica-northeast1:fin-warehouse-prod | 2024-09-18 21:27:09.068706+00:00 |\n",
       "+------------------+--------------------------------------------------------+----------------------------------+"
      ]
     },
     "execution_count": 17,
     "metadata": {},
     "output_type": "execute_result"
    }
   ],
   "source": [
    "%%sql\n",
    "SELECT current_database(), :INSTANCE_CONNECTION_NAME as Connection, now();"
   ]
  },
  {
   "cell_type": "markdown",
   "metadata": {},
   "source": [
    "## Query Warehouse Database"
   ]
  },
  {
   "cell_type": "code",
   "execution_count": 18,
   "metadata": {},
   "outputs": [],
   "source": [
    "%sql warehouse"
   ]
  },
  {
   "cell_type": "code",
   "execution_count": 20,
   "metadata": {},
   "outputs": [
    {
     "data": {
      "text/html": [
       "<span style=\"None\">Running query in &#x27;warehouse&#x27;</span>"
      ],
      "text/plain": [
       "Running query in 'warehouse'"
      ]
     },
     "metadata": {},
     "output_type": "display_data"
    },
    {
     "name": "stderr",
     "output_type": "stream",
     "text": [
      "/opt/conda/lib/python3.11/site-packages/sql/connection/connection.py:867: JupySQLRollbackPerformed: Found invalid transaction. JupySQL executed a ROLLBACK operation.\n",
      "  warnings.warn(\n"
     ]
    },
    {
     "data": {
      "text/html": [
       "<span style=\"color: green\">170 rows affected.</span>"
      ],
      "text/plain": [
       "170 rows affected."
      ]
     },
     "metadata": {},
     "output_type": "display_data"
    }
   ],
   "source": [
    "%%sql colin_data <<\n",
    "SELECT co.corp_num\n",
    "     , co.recognition_dts\n",
    "     , EXTRACT(YEAR FROM co.last_ar_filed_dt) AS last_ar_filed_year\n",
    "     , co.admin_email\n",
    "     , cn.CORP_NME\n",
    "     , ct.corp_class\n",
    "FROM \"colin\".\"corporation\"   co\n",
    "   , \"colin\".corp_type       ct\n",
    "   , \"colin\".corp_state      cs\n",
    "   , \"colin\".corp_name       cn\n",
    "WHERE co.corp_typ_cd    = ct.corp_typ_cd\n",
    "  AND co.corp_num       = cs.corp_num\n",
    "  AND co.corp_num       = cn.corp_num\n",
    "  AND cs.end_event_id   IS NULL\n",
    "  AND cs.state_typ_cd   = 'ACT'                                                                                -- active\n",
    "  AND ct.corp_class     = 'BC'                                                                                 -- BC Corporations\n",
    "  AND co.corp_typ_cd   <> 'BEN'                                                                                -- no Benefit Companies\n",
    "  AND co.admin_email IS NOT NULL                                                                               -- they have an email\n",
    "  AND co.send_ar_ind = 'Y'                                                                                     -- AR reminder indicator is \"Y\"\n",
    "  AND NOT EXISTS (SELECT 'x'\n",
    "                  FROM \"colin\".filing f, \"colin\".event e, \"colin\".filing_user u\n",
    "                  WHERE f.event_id = e.event_id\n",
    "                    AND f.event_id = u.event_id                                                                -- no previous BCOL filings\n",
    "                    AND e.corp_num = co.corp_num\n",
    "                    AND u.role_typ_cd = 'bcol')\n",
    "  AND NOT EXISTS (SELECT 'x'\n",
    "                  FROM \"colin\".corporation\n",
    "                  WHERE admin_email = co.admin_email\n",
    "                    AND corp_num <> co.corp_num)                                                               -- no other business using the same email\n",
    "  AND TO_CHAR(co.recognition_dts, 'MMDD') = TO_CHAR(current_date, 'MMDD')                                      -- AR reminder on the anniversary date\n",
    "  AND (\n",
    "       -- Exclude companies founded in the current year, include those from previous year\n",
    "       (EXTRACT(YEAR FROM co.recognition_dts) = EXTRACT(YEAR FROM current_date) - 1 AND co.last_ar_filed_dt IS NULL)\n",
    "       -- Or include if last_ar_filed_dt is not NULL and was filed in the previous year\n",
    "       OR (co.last_ar_filed_dt IS NOT NULL AND EXTRACT(YEAR FROM co.last_ar_filed_dt) = EXTRACT(YEAR FROM current_date) - 1)\n",
    "      );\n"
   ]
  },
  {
   "cell_type": "code",
   "execution_count": 21,
   "metadata": {},
   "outputs": [
    {
     "data": {
      "text/html": [
       "<div>\n",
       "<style scoped>\n",
       "    .dataframe tbody tr th:only-of-type {\n",
       "        vertical-align: middle;\n",
       "    }\n",
       "\n",
       "    .dataframe tbody tr th {\n",
       "        vertical-align: top;\n",
       "    }\n",
       "\n",
       "    .dataframe thead th {\n",
       "        text-align: right;\n",
       "    }\n",
       "</style>\n",
       "<table border=\"1\" class=\"dataframe\">\n",
       "  <thead>\n",
       "    <tr style=\"text-align: right;\">\n",
       "      <th></th>\n",
       "      <th>corp_num</th>\n",
       "      <th>recognition_dts</th>\n",
       "      <th>last_ar_filed_year</th>\n",
       "      <th>admin_email</th>\n",
       "      <th>corp_nme</th>\n",
       "      <th>corp_class</th>\n",
       "    </tr>\n",
       "  </thead>\n",
       "  <tbody>\n",
       "    <tr>\n",
       "      <th>0</th>\n",
       "      <td>1179777</td>\n",
       "      <td>2018-09-18 11:24:17</td>\n",
       "      <td>2023</td>\n",
       "      <td>melissaxchen@outlook.com</td>\n",
       "      <td>LUNAR RAIN JEWELLERY LTD.</td>\n",
       "      <td>BC</td>\n",
       "    </tr>\n",
       "    <tr>\n",
       "      <th>1</th>\n",
       "      <td>1179777</td>\n",
       "      <td>2018-09-18 11:24:17</td>\n",
       "      <td>2023</td>\n",
       "      <td>melissaxchen@outlook.com</td>\n",
       "      <td>LUNAR RAIN JEWELLERY LTD.</td>\n",
       "      <td>BC</td>\n",
       "    </tr>\n",
       "    <tr>\n",
       "      <th>2</th>\n",
       "      <td>1134394</td>\n",
       "      <td>2017-09-18 15:24:14</td>\n",
       "      <td>2023</td>\n",
       "      <td>spa.thaivancouver@gmail.com</td>\n",
       "      <td>HATTHA BY KT SALES AND SERVICES LIMITED</td>\n",
       "      <td>BC</td>\n",
       "    </tr>\n",
       "    <tr>\n",
       "      <th>3</th>\n",
       "      <td>1266211</td>\n",
       "      <td>2020-09-18 08:09:09</td>\n",
       "      <td>2023</td>\n",
       "      <td>heritagesignworks1@gmail.com</td>\n",
       "      <td>1266211 B.C. LTD.</td>\n",
       "      <td>BC</td>\n",
       "    </tr>\n",
       "    <tr>\n",
       "      <th>4</th>\n",
       "      <td>1014000</td>\n",
       "      <td>2014-09-18 15:51:18</td>\n",
       "      <td>2023</td>\n",
       "      <td>lovetoski78@gmail.com</td>\n",
       "      <td>ELKHORN ENTERPRISES LTD.</td>\n",
       "      <td>BC</td>\n",
       "    </tr>\n",
       "    <tr>\n",
       "      <th>...</th>\n",
       "      <td>...</td>\n",
       "      <td>...</td>\n",
       "      <td>...</td>\n",
       "      <td>...</td>\n",
       "      <td>...</td>\n",
       "      <td>...</td>\n",
       "    </tr>\n",
       "    <tr>\n",
       "      <th>165</th>\n",
       "      <td>0980805</td>\n",
       "      <td>2013-09-18 22:40:13</td>\n",
       "      <td>2023</td>\n",
       "      <td>immcanda2013@gmail.com</td>\n",
       "      <td>SOUTH OF FRASER CONSULTING LTD.</td>\n",
       "      <td>BC</td>\n",
       "    </tr>\n",
       "    <tr>\n",
       "      <th>166</th>\n",
       "      <td>0980805</td>\n",
       "      <td>2013-09-18 22:40:13</td>\n",
       "      <td>2023</td>\n",
       "      <td>immcanda2013@gmail.com</td>\n",
       "      <td>0980805 B.C. LTD.</td>\n",
       "      <td>BC</td>\n",
       "    </tr>\n",
       "    <tr>\n",
       "      <th>167</th>\n",
       "      <td>1089865</td>\n",
       "      <td>2016-09-18 13:31:29</td>\n",
       "      <td>2023</td>\n",
       "      <td>macs@lakesideenvironmental.com</td>\n",
       "      <td>RAYSUNSHINE SECURITY DARALUZ INC.</td>\n",
       "      <td>BC</td>\n",
       "    </tr>\n",
       "    <tr>\n",
       "      <th>168</th>\n",
       "      <td>1089865</td>\n",
       "      <td>2016-09-18 13:31:29</td>\n",
       "      <td>2023</td>\n",
       "      <td>macs@lakesideenvironmental.com</td>\n",
       "      <td>1089865 B.C. LTD.</td>\n",
       "      <td>BC</td>\n",
       "    </tr>\n",
       "    <tr>\n",
       "      <th>169</th>\n",
       "      <td>1266257</td>\n",
       "      <td>2020-09-18 11:53:16</td>\n",
       "      <td>2023</td>\n",
       "      <td>john_han@me.com</td>\n",
       "      <td>HOMEY PROFESSIONAL SERVICES LTD.</td>\n",
       "      <td>BC</td>\n",
       "    </tr>\n",
       "  </tbody>\n",
       "</table>\n",
       "<p>170 rows × 6 columns</p>\n",
       "</div>"
      ],
      "text/plain": [
       "    corp_num     recognition_dts last_ar_filed_year  \\\n",
       "0    1179777 2018-09-18 11:24:17               2023   \n",
       "1    1179777 2018-09-18 11:24:17               2023   \n",
       "2    1134394 2017-09-18 15:24:14               2023   \n",
       "3    1266211 2020-09-18 08:09:09               2023   \n",
       "4    1014000 2014-09-18 15:51:18               2023   \n",
       "..       ...                 ...                ...   \n",
       "165  0980805 2013-09-18 22:40:13               2023   \n",
       "166  0980805 2013-09-18 22:40:13               2023   \n",
       "167  1089865 2016-09-18 13:31:29               2023   \n",
       "168  1089865 2016-09-18 13:31:29               2023   \n",
       "169  1266257 2020-09-18 11:53:16               2023   \n",
       "\n",
       "                        admin_email                                 corp_nme  \\\n",
       "0          melissaxchen@outlook.com                LUNAR RAIN JEWELLERY LTD.   \n",
       "1          melissaxchen@outlook.com                LUNAR RAIN JEWELLERY LTD.   \n",
       "2       spa.thaivancouver@gmail.com  HATTHA BY KT SALES AND SERVICES LIMITED   \n",
       "3      heritagesignworks1@gmail.com                        1266211 B.C. LTD.   \n",
       "4             lovetoski78@gmail.com                 ELKHORN ENTERPRISES LTD.   \n",
       "..                              ...                                      ...   \n",
       "165          immcanda2013@gmail.com          SOUTH OF FRASER CONSULTING LTD.   \n",
       "166          immcanda2013@gmail.com                        0980805 B.C. LTD.   \n",
       "167  macs@lakesideenvironmental.com        RAYSUNSHINE SECURITY DARALUZ INC.   \n",
       "168  macs@lakesideenvironmental.com                        1089865 B.C. LTD.   \n",
       "169                 john_han@me.com         HOMEY PROFESSIONAL SERVICES LTD.   \n",
       "\n",
       "    corp_class  \n",
       "0           BC  \n",
       "1           BC  \n",
       "2           BC  \n",
       "3           BC  \n",
       "4           BC  \n",
       "..         ...  \n",
       "165         BC  \n",
       "166         BC  \n",
       "167         BC  \n",
       "168         BC  \n",
       "169         BC  \n",
       "\n",
       "[170 rows x 6 columns]"
      ]
     },
     "execution_count": 21,
     "metadata": {},
     "output_type": "execute_result"
    }
   ],
   "source": [
    "colin_df = colin_data.DataFrame()\n",
    "colin_df"
   ]
  },
  {
   "cell_type": "code",
   "execution_count": 24,
   "metadata": {},
   "outputs": [
    {
     "name": "stdout",
     "output_type": "stream",
     "text": [
      "Original columns: ['identifier', 'founding_date', 'last_ar_reminder_year', 'email', 'corp_nme', 'legal_type']\n",
      "Columns after renaming: ['identifier', 'founding_date', 'last_ar_reminder_year', 'email', 'legal_name', 'legal_type']\n",
      "INSERT INTO \"public\".\"business\" (identifier, legal_name, legal_type, founding_date, last_ar_reminder_year, email)\n",
      "VALUES \n",
      "('1179777', 'LUNAR RAIN JEWELLERY LTD.', 'BC', '2018-09-18', '2023', 'melissaxchen@outlook.com'),\n",
      "('1179777', 'LUNAR RAIN JEWELLERY LTD.', 'BC', '2018-09-18', '2023', 'melissaxchen@outlook.com'),\n",
      "('1134394', 'HATTHA BY KT SALES AND SERVICES LIMITED', 'BC', '2017-09-18', '2023', 'spa.thaivancouver@gmail.com'),\n",
      "('1266211', '1266211 B.C. LTD.', 'BC', '2020-09-18', '2023', 'heritagesignworks1@gmail.com'),\n",
      "('1014000', 'ELKHORN ENTERPRISES LTD.', 'BC', '2014-09-18', '2023', 'lovetoski78@gmail.com'),\n",
      "('1134424', 'MEL YACHT SERVICES LTD.', 'BC', '2017-09-18', '2023', 'MELYACHTSERVICES@GMAIL.COM'),\n",
      "('1439961', 'GREENLINK EXPLORATION CORP.', 'BC', '2023-09-18', 'None', 'greenlinkexploration@gmail.com'),\n",
      "('1049481', 'GRACE YANG PERSONAL REAL ESTATE CORPORATION', 'BC', '2015-09-18', '2023', 'GYANG999@hotmail.com'),\n",
      "('1179721', 'PROACTIVE ROAD SAFETY, INC.', 'BC', '2018-09-18', '2023', 'proactive.road.safety@gmail.com'),\n",
      "('1266325', 'BLAY SCIENTIFIC CANADA LTD.', 'BC', '2020-09-18', '2023', 'jason.thomson@blayscientific.com'),\n",
      "('1439773', 'TULUMO SERVICES LTD.', 'BC', '2023-09-18', 'None', 'tulumoservices@gmail.com'),\n",
      "('1439773', 'ASTRON PAY FINANCE LTD.', 'BC', '2023-09-18', 'None', 'tulumoservices@gmail.com'),\n",
      "('1179828', '1179828 B.C. LTD.', 'BC', '2018-09-18', '2023', 'riverroadcaferichmond@gmail.com'),\n",
      "('1134360', '1134360 B.C. LTD.', 'BC', '2017-09-18', '2023', 'copter64@hotmail.com'),\n",
      "('1439973', 'SKYE WATER VENTURES LTD.', 'BC', '2023-09-18', 'None', 'Macleod@uniserve.com'),\n",
      "('1439783', 'AMAR ELECTRICAL LTD.', 'BC', '2023-09-18', 'None', 'surjitgir@gmail.com'),\n",
      "('0333469', 'GUILDFORD PRINTERS INC.', 'BC', '1987-09-18', '2023', 'info@guildfordprinters.com'),\n",
      "('0980713', 'TES ADVISORY INC.', 'BC', '2013-09-18', '2023', 'raina_rajinder@yahoo.com'),\n",
      "('1049484', 'ALI VISANJI ENTERPRISES INC.', 'BC', '2015-09-18', '2023', 'alivisanji@gmail.com'),\n",
      "('1134438', 'EUROWORK HOLDINGS LTD.', 'BC', '2017-09-18', '2023', 'Mckay9556@yahoo.ca'),\n",
      "('1134410', 'WANMAN INVESTMENT CORPORATION', 'BC', '2017-09-18', '2023', 'christineypohl@gmail.com'),\n",
      "('1439819', 'FOUDIMOV CONSULTING INC.', 'BC', '2023-09-18', 'None', 'antonalog@gmail.com'),\n",
      "('1439965', 'DIRECT LUXURY TIMEPIECES LTD.', 'BC', '2023-09-18', 'None', 'weix455@gmail.com'),\n",
      "('1439965', '1439965 B.C. LTD.', 'BC', '2023-09-18', 'None', 'weix455@gmail.com'),\n",
      "('0802952', '0802952 B.C. LTD.', 'BC', '2007-09-18', '2023', 'pk.wong@telus.net'),\n",
      "('0950516', 'ALICE RICHARD - COUNSELLING SERVICES LTD.', 'BC', '2012-09-18', '2023', 'afr@shaw.ca'),\n",
      "('1089871', 'SUN NORTH AMERICAN ENTERPRISES LTD.', 'BC', '2016-09-18', '2023', 'jason.sun.ca@gmail.com'),\n",
      "('0282717', 'KROGH HOLDINGS LTD.', 'BC', '1984-09-18', '2023', 'captexautomotive@shawbiz.ca'),\n",
      "('0835328', 'SIWASH HOLDINGS LTD.', 'BC', '2008-09-18', '2023', 'sbennett@nmmedia.ca'),\n",
      "('1439795', 'FAST & DEEP CLEANING LTD.', 'BC', '2023-09-18', 'None', 'kulgill1206@gmail.com'),\n",
      "('0432537', 'RAINBOW DRYWALL LTD.', 'BC', '1992-09-18', '2023', 'sukhibahugun@gmail.com'),\n",
      "('0654859', 'JIM MCDONALD ENGINEERING LTD.', 'BC', '2002-09-18', '2023', 'jim.mcdonald7846@gmail.com'),\n",
      "('0654859', 'JIM MCDONALD ENGINEERING LTD.', 'BC', '2002-09-18', '2023', 'jim.mcdonald7846@gmail.com'),\n",
      "('0654859', '0654859 B.C. LTD.', 'BC', '2002-09-18', '2023', 'jim.mcdonald7846@gmail.com'),\n",
      "('1134426', 'C. A. SOANES ENTERPRISES INC.', 'BC', '2017-09-18', '2023', 'csoanes9@hotmail.com'),\n",
      "('1439988', 'MAANDEGAR INTERIOR DESIGN INC.', 'BC', '2023-09-18', 'None', 'daneshgarzade.business2023@gmail.com'),\n",
      "('0282709', 'BILL CRAWFORD LTD.', 'BC', '1984-09-18', '2023', 'chabart@shaw.ca'),\n",
      "('1324865', 'SAI BI SOLUTIONS INC.', 'BC', '2021-09-18', '2023', 'arunpanda70@gmail.com'),\n",
      "('1379276', 'ASCENDANCE CREATIVE INC.', 'BC', '2022-09-18', '2023', 'AscendanceCreativeMedia@gmail.com'),\n",
      "('1439950', 'ELISEVEN GENERAL CONSTRUCTION LTD.', 'BC', '2023-09-18', 'None', 'carelizabethgp@gmail.com'),\n",
      "('1439979', 'RED LINE SNOW REMOVAL LTD.', 'BC', '2023-09-18', 'None', 'redlinesnowremoval@gmail.com'),\n",
      "('0633996', 'SOLO DRIVING SCHOOL LTD.', 'BC', '2001-09-18', '2023', 'bruskykh@gmail.com'),\n",
      "('1439786', 'K35B.COM FAUCET CARTRIDGES INC.', 'BC', '2023-09-18', 'None', 'mike@emeff.com'),\n",
      "('0980799', 'LEDGERLIBERTY SOLUTIONS INC.', 'BC', '2013-09-18', '2023', 'scomace@gmail.com'),\n",
      "('0131463', 'CRANKSHAW HOLDINGS LTD.', 'BC', '1974-09-18', '2023', 'service@crankshawholdings.ca'),\n",
      "('0412531', 'G.S. PLUMBING LTD.', 'BC', '1991-09-18', '2023', 'siderisfamily@gmail.com'),\n",
      "('1223720', 'CREATIVE COLLECTIVE SALON LTD.', 'BC', '2019-09-18', '2023', 'Arasmussen_7@hotmail.com'),\n",
      "('1013899', 'ROBERT BOYES LTD.', 'BC', '2014-09-18', '2023', 'robert_boyes@hotmail.com'),\n",
      "('1324859', 'TOKO GOULD IMMIGRATION CONSULTING INC.', 'BC', '2021-09-18', '2023', 'tokogould@gmail.com'),\n",
      "('1265489', 'INDUSTREND GLOBAL SUPPLY CHAIN CORP.', 'BC', '2020-09-18', '2023', 'industrend.global@gmail.com'),\n",
      "('1179876', '1179876 B.C. LTD.', 'BC', '2018-09-18', '2023', 'jamshid_azerakhsh@live.com'),\n",
      "('1439976', 'LUMINA LENS LTD.', 'BC', '2023-09-18', 'None', 'prabhjot.mann@yahoo.com'),\n",
      "('0920557', 'SHARLENE SMITH CONSULTING LTD.', 'BC', '2011-09-18', '2023', 'sharlenesmith@me.com'),\n",
      "('1013976', 'MAPLE STAR RECRUITMENT AND EMPLOYMENT AGENCY LTD.', 'BC', '2014-09-18', '2023', 'SAHAJ@INSIGNIACOLLEGE.COM'),\n",
      "('1013976', 'MAPLESTAR RECRUITMENT & EMPLOYMENT AGENCY LTD.', 'BC', '2014-09-18', '2023', 'SAHAJ@INSIGNIACOLLEGE.COM'),\n",
      "('0980705', 'JC FAMILY HOLDING INC.', 'BC', '2013-09-18', '2023', 'jackychung@hotmail.com'),\n",
      "('0654873', 'THE AVENUE GALLERY INC.', 'BC', '2002-09-18', '2023', 'info@theavenuegallery.com'),\n",
      "('0769143', '8 ONE STUDIO INC.', 'BC', '2006-09-18', '2023', 'will@luimoto.com'),\n",
      "('1379274', 'ALUULA MARKETING INC.', 'BC', '2022-09-18', '2023', 'stacy@aluulamarketing.com'),\n",
      "('1439785', 'AFSHAR HEALTH CORPORATION INC.', 'BC', '2023-09-18', 'None', 'aliafshar7373@gmail.com'),\n",
      "('0634065', '634065 B.C. LTD.', 'BC', '2001-09-18', '2023', 'cscleasing@gmail.com'),\n",
      "('1324881', 'HYPERSECU ENTERPRISES INC.', 'BC', '2021-09-18', '2023', 'jmli.gm@gmail.com'),\n",
      "('1223794', 'CANMADE IMMIGRATION INC.', 'BC', '2019-09-18', '2023', 'wynnchuyuhao@gmail.com'),\n",
      "('C1439820', '1439820 B.C. LTD.', 'BC', '2023-09-18', 'None', 'jason@98foodco.com'),\n",
      "('0131451', 'PARTENAIR HOLDINGS LTD.', 'BC', '1974-09-18', '2023', 'dfredrickson@shaw.ca'),\n",
      "('0654793', 'EXQUISITE TRUCKING LTD.', 'BC', '2002-09-18', '2023', 'EXQUISITETRUCK@GMAIL.COM'),\n",
      "('0803006', 'WHITESHELL CAPITAL LTD.', 'BC', '2007-09-18', '2023', 'jeffclay@shaw.ca'),\n",
      "('1223732', 'BRAR BROS. TIRE LTD.', 'BC', '2019-09-18', '2023', 'sbmoga22@gmail.com'),\n",
      "('1049382', 'QZ DETAILING INC.', 'BC', '2015-09-18', '2023', 'lumei1999@yahoo.com'),\n",
      "('1266361', '1266361 B.C. LTD.', 'BC', '2020-09-18', '2023', 'Maovu87@gmail.com'),\n",
      "('1439972', 'MEXADA CONSTRUCTION LTD.', 'BC', '2023-09-18', 'None', 'stmiramontes@gmail.com'),\n",
      "('0835340', 'THESHEHS ENTERPRISES LTD.', 'BC', '2008-09-18', '2023', 'simonsth@gmail.com'),\n",
      "('1179887', 'MOONLITE FRAMING INC.', 'BC', '2018-09-18', '2023', 'RAVMOONLITE@GMAIL.COM'),\n",
      "('1179887', 'MOONLITE FRAMING & CONTRACTING INC.', 'BC', '2018-09-18', '2023', 'RAVMOONLITE@GMAIL.COM'),\n",
      "('1439787', 'ANY ROUTE TRANSPORT LTD.', 'BC', '2023-09-18', 'None', 'sandeepsinghdeol717@gmail.com'),\n",
      "('1223688', 'HEART SISTERS PUBLISHING INC.', 'BC', '2019-09-18', '2023', 'heartsisterspublishing@gmail.com'),\n",
      "('1134411', '1134411 B.C. LTD.', 'BC', '2017-09-18', '2023', 'mikemartins1980@gmail.com'),\n",
      "('C0861622', 'SAUNDRY ENTERPRISES INC.', 'BC', '2009-09-18', '2023', 'psaundry@live.ca'),\n",
      "('0634058', 'ANDERSON''S TECHNICAL SERVICES LTD.', 'BC', '2001-09-18', '2023', 'doug@andersons.ca'),\n",
      "('0950530', '0950530 B.C. LTD.', 'BC', '2012-09-18', '2023', 'ddraga@protonmail.com'),\n",
      "('0980661', 'TENAVO TECHNOLOGIES INC.', 'BC', '2013-09-18', '2023', 'wfang2002@gmail.com'),\n",
      "('1266326', 'COLAB ADVANTAGE LTD.', 'BC', '2020-09-18', '2023', 'kristina.henriksson@colabadvantage.ca'),\n",
      "('1439921', 'NATIONAL CARGO EXPRESS INC.', 'BC', '2023-09-18', 'None', 'accounting@nationalcargo.ca'),\n",
      "('1439933', 'JOYFUL HOMES CORPORATION', 'BC', '2023-09-18', 'None', 'joyfulhomescorp@gmail.com'),\n",
      "('1049398', 'TONGXINYUAN HEALTH CONSULTING INC.', 'BC', '2015-09-18', '2023', 'JLJ73528@HOTMAIL.COM'),\n",
      "('1134335', 'NOBEL HOMES INC.', 'BC', '2017-09-18', '2023', 'afshin.enam@gmail.com'),\n",
      "('1439962', 'R GILL CONSULTING INC.', 'BC', '2023-09-18', 'None', 'ROOPIGILL@GMAIL.COM'),\n",
      "('1179881', 'MEENANAND TELECOM LTD.', 'BC', '2018-09-18', '2023', 'PAVANKUMAR7389@YAHOO.CA'),\n",
      "('1179881', '1179881 B.C. LTD.', 'BC', '2018-09-18', '2023', 'PAVANKUMAR7389@YAHOO.CA'),\n",
      "('1439960', 'TAXWATCH CANADA HOLDINGS LTD.', 'BC', '2023-09-18', 'None', 'tony@tmsl-cpa.ca'),\n",
      "('1223727', 'EARLY DOORS CONSULTING LTD.', 'BC', '2019-09-18', '2023', 'dave@earlydoorsconsulting.com'),\n",
      "('0769265', 'CLOVER AUTO SALES LTD.', 'BC', '2006-09-18', '2023', 'cloverautosales@gmail.com'),\n",
      "('1013949', 'PRONA INVESTMENT LTD.', 'BC', '2014-09-18', '2023', 'lucykunlu@gmail.com'),\n",
      "('1439955', 'SLICK BUILDS INC. INCORPORATED', 'BC', '2023-09-18', 'None', 'ralph1martinez@gmail.com'),\n",
      "('1439919', 'GUTTER SUPPLY INC.', 'BC', '2023-09-18', 'None', 'srdenm@gmail.com'),\n",
      "('1014026', 'NIFY TRADING LTD.', 'BC', '2014-09-18', '2023', 'nifytrading@gmail.com'),\n",
      "('1324879', 'PEAK PHYSIOTHERAPY LTD.', 'BC', '2021-09-18', '2023', 'audreyrosept@gmail.com'),\n",
      "('1439944', '1439944 B.C. LTD.', 'BC', '2023-09-18', 'None', 'chefgbt@gmail.com'),\n",
      "('1439873', 'KARTAAR 99 RENOVATION LTD.', 'BC', '2023-09-18', 'None', 'contact@humbleaccountants.com'),\n",
      "('0504393', 'WHITECLOUD CONTRACTING LTD.', 'BC', '1995-09-18', '2023', 'slbattensby@gmail.com'),\n",
      "('0654893', '654893 BC LTD.', 'BC', '2002-09-18', '2023', 'kawikahooey@gmail.com'),\n",
      "('1266274', 'CANADA ROYAL PAINTING LTD.', 'BC', '2020-09-18', '2023', 'parichehr.parsa@yahoo.com'),\n",
      "('0216500', 'RANDOLPH FILMS INC.', 'BC', '1980-09-18', '2023', 'RFI1@MAC.com'),\n",
      "('1379279', '1379279 B.C. LTD.', 'BC', '2022-09-18', '2023', 'issac_lin@hotmail.com'),\n",
      "('1439969', 'SAHILL CONSULTING INC.', 'BC', '2023-09-18', 'None', 'ali_jassim@hotmail.com'),\n",
      "('0704447', 'RNR LAB LTD.', 'BC', '2004-09-18', '2023', 'rizdmd@hotmail.com'),\n",
      "('1013969', 'HERBLEX HEALTH CARE PRODUCTS LTD.', 'BC', '2014-09-18', '2023', 'gbai@capit.com'),\n",
      "('1013969', 'REAN AUTOS LTD.', 'BC', '2014-09-18', '2023', 'gbai@capit.com'),\n",
      "('1134326', 'CENTRUM ELECTRIC LTD.', 'BC', '2017-09-18', '2023', 'email@centrumelectric.ca'),\n",
      "('1439817', '1439817 B.C. LTD.', 'BC', '2023-09-18', 'None', 'VHEMI@AOL.COM'),\n",
      "('1439796', 'SUNBRIGHT ELECTRICAL LTD.', 'BC', '2023-09-18', 'None', 'singhnavi538@gmail.com'),\n",
      "('0314895', 'TRUEMAN CONSULTING LTD.', 'BC', '1986-09-18', '2023', 'trueman9000@gmail.com'),\n",
      "('0550443', '550443 B.C. LTD.', 'BC', '1997-09-18', '2023', 'toddcun@hotmail.com'),\n",
      "('0980671', 'AAB TRANSPORT LIMITED', 'BC', '2013-09-18', '2023', 'tafsiriali@gmail.com'),\n",
      "('0769132', 'THORNY BLEEDER RECORDS INC.', 'BC', '2006-09-18', '2023', 'artofdying@gmail.com'),\n",
      "('0412577', 'TRIPKE BAKERY KONDITOREI & CAFE INC.', 'BC', '1991-09-18', '2023', 'tripkebakery@telus.net'),\n",
      "('1179896', 'RELFWOOD CONTRACTING LTD.', 'BC', '2018-09-18', '2023', 'relfwoodcontracting@gmail.com'),\n",
      "('1439850', '1439850 B.C. LTD.', 'BC', '2023-09-18', 'None', 'leftcoastfashionanddesign@gmail.com'),\n",
      "('0802879', 'TFD PRODUCTIONS, INC.', 'BC', '2007-09-18', '2023', 'tommy@tfdpresents.ca'),\n",
      "('1013950', 'J&J YAN UMESHIBA ENTERPRISE LTD.', 'BC', '2014-09-18', '2023', 'mei9bing@hotmail.com'),\n",
      "('1324886', '1324886 B.C. LTD.', 'BC', '2021-09-18', '2023', 'tony_xuef@yahoo.ca'),\n",
      "('1266270', 'GLOBAL LEGEND EDUCATION LTD.', 'BC', '2020-09-18', '2023', 'info@globallegend.ca'),\n",
      "('1379264', '1379264 B.C. LTD.', 'BC', '2022-09-18', '2023', 'n8@247365.one'),\n",
      "('1179894', 'BUZZMEDIA INC.', 'BC', '2018-09-18', '2023', 'sherif.omar@gmail.com'),\n",
      "('1179901', 'QOOLTURA CREATIVE SERVICES INC.', 'BC', '2018-09-18', '2023', 'info@qooltura.com'),\n",
      "('1266105', 'NOVA PRIME TECHNOLOGIES INC.', 'BC', '2020-09-18', '2023', 'charliemjxu@gmail.com'),\n",
      "('0216466', 'MUSKEG MAINTENANCE LTD.', 'BC', '1980-09-18', '2023', 'libratoyz@gmail.com'),\n",
      "('0950499', 'LATERO LABS INC.', 'BC', '2012-09-18', '2023', 'corp@laterolabs.com'),\n",
      "('0950504', 'CANTOP IMMIGRATION CONSULTANT INC.', 'BC', '2012-09-18', '2023', 'cantopimmigration@hotmail.com'),\n",
      "('0835284', 'PAPIRO TRADING LTD.', 'BC', '2008-09-18', '2023', 'ewachong@shaw.ca'),\n",
      "('1324864', 'REBECCA A. MCCONCHIE LAW CORPORATION', 'BC', '2021-09-18', '2023', 'rebecca@mcconchie.ca'),\n",
      "('0769171', 'COLORFUL TRADING INC.', 'BC', '2006-09-18', '2023', 'supermelcanada@hotmail.com'),\n",
      "('0802981', 'ENAGIC CANADA CORPORATION', 'BC', '2007-09-18', '2023', 'accounting@enagic.ca'),\n",
      "('1179897', 'LERAZO CONTRACTING INC.', 'BC', '2018-09-18', '2023', 'lerazobuild@gmail.com'),\n",
      "('1266282', 'LEARNING AT WORK SOLUTIONS LTD.', 'BC', '2020-09-18', '2023', 'kristina.henriksson@learningatwork.ca'),\n",
      "('0980716', 'JOBAN ENTERTAINMENT LTD.', 'BC', '2013-09-18', '2023', 'JASBIRGUNACHAURIA@GMAIL.COM'),\n",
      "('1439747', 'J.I TILE AND FLOORING LTD.', 'BC', '2023-09-18', 'None', 'Jawidismaili4@gmail.com'),\n",
      "('1266237', '1266237 B.C. LTD.', 'BC', '2020-09-18', '2023', 'jarussyt@gmail.com'),\n",
      "('1266319', '1266319 B.C. LTD.', 'BC', '2020-09-18', '2023', 'cornercafeon56@gmail.com'),\n",
      "('1439899', '1439899 B.C. LTD.', 'BC', '2023-09-18', 'None', 'daytonespanier@gmail.com'),\n",
      "('1178877', 'JECOM TEK INC.', 'BC', '2018-09-18', '2023', 'erik_zhu@hotmail.com'),\n",
      "('1439837', 'BUZZ PROMOTIONS LTD.', 'BC', '2023-09-18', 'None', 'buzzmarketingandevents@gmail.com'),\n",
      "('0314921', 'LINDA M. O''ROURKE, C.A. INC.', 'BC', '1986-09-18', '2023', 'lindaor@shaw.ca'),\n",
      "('0314921', 'LINDA M. O''ROURKE INC.', 'BC', '1986-09-18', '2023', 'lindaor@shaw.ca'),\n",
      "('1223799', '1223799 B.C. LTD.', 'BC', '2019-09-18', '2023', 'lucyniu523@gmail.com'),\n",
      "('1179799', 'SHPACE CANADA INC.', 'BC', '2018-09-18', '2023', 'brian.m.rae@gmail.com'),\n",
      "('1089869', 'CADVICE BC LIMITED', 'BC', '2016-09-18', '2023', 'steve.williams@cadvicebc.ca'),\n",
      "('1223660', '1223660 B.C. LTD.', 'BC', '2019-09-18', '2023', 'sales@dtielec.ca'),\n",
      "('0835310', 'DR. COREY MING-LUM INC.', 'BC', '2008-09-18', '2023', 'cminglum@gmail.com'),\n",
      "('0950475', 'VIVID HAIR BOUTIQUE INC.', 'BC', '2012-09-18', '2023', 'gilliat@shaw.ca'),\n",
      "('1439896', 'MEDLEY''S ITALIAN AND GRILL CORP.', 'BC', '2023-09-18', 'None', 'gurvirkc21@yahoo.com'),\n",
      "('1439915', 'PHO JADE VIETNAMESE RESTAURANT LTD.', 'BC', '2023-09-18', 'None', 'nguyenctieu@yahoo.ca'),\n",
      "('0677256', 'H & W YUEN ENTERPRISES LTD.', 'BC', '2003-09-18', '2023', 'ray.yuen@live.com'),\n",
      "('0614266', 'TANGIBLE TECHNOLOGIES INC.', 'BC', '2000-09-18', '2023', 'tangibletech@telus.net'),\n",
      "('0654860', 'G. MATHEW HOLDINGS INC.', 'BC', '2002-09-18', '2023', 'gmathew@hotmail.ca'),\n",
      "('1439841', 'VIA GENERAL CONTRACTORS LIMITED', 'BC', '2023-09-18', 'None', 'iqbaldhaliwal1313@gmail.com'),\n",
      "('0835272', 'DR. M. WASSERFALL INC.', 'BC', '2008-09-18', '2023', 'tinuswasserfall@hotmail.com'),\n",
      "('1439772', '1439772 B.C. LTD.', 'BC', '2023-09-18', 'None', 'richardlee604@hotmail.com'),\n",
      "('1049504', 'TIFFIN INSPECTIONS LTD.', 'BC', '2015-09-18', '2023', 'davetiffin@me.com'),\n",
      "('0614247', 'DR. JACQUELINE CHANG INC.', 'BC', '2000-09-18', '2023', 'jqlchang@hotmail.com'),\n",
      "('0802883', 'HEIMARK INDUSTRIES LTD.', 'BC', '2007-09-18', '2023', 'kinos@telus.net'),\n",
      "('1013994', 'MLK HAIR SALON LTD.', 'BC', '2014-09-18', '2023', 'mlkhairsalon@yahoo.com'),\n",
      "('1439891', 'EXTENSIS TECHNOLOGY INC.', 'BC', '2023-09-18', 'None', 'vallen@extensistech.com'),\n",
      "('1439891', '1439891 B.C. LTD.', 'BC', '2023-09-18', 'None', 'vallen@extensistech.com'),\n",
      "('0980781', 'PAPERBACKNOTE STATIONERY LIMITED', 'BC', '2013-09-18', '2023', 'office@paperbacknote.com'),\n",
      "('0980805', 'SOUTH OF FRASER CONSULTING LTD.', 'BC', '2013-09-18', '2023', 'immcanda2013@gmail.com'),\n",
      "('0980805', '0980805 B.C. LTD.', 'BC', '2013-09-18', '2023', 'immcanda2013@gmail.com'),\n",
      "('1089865', 'RAYSUNSHINE SECURITY DARALUZ INC.', 'BC', '2016-09-18', '2023', 'macs@lakesideenvironmental.com'),\n",
      "('1089865', '1089865 B.C. LTD.', 'BC', '2016-09-18', '2023', 'macs@lakesideenvironmental.com'),\n",
      "('1266257', 'HOMEY PROFESSIONAL SERVICES LTD.', 'BC', '2020-09-18', '2023', 'john_han@me.com');\n"
     ]
    }
   ],
   "source": [
    "# Print original columns to verify names\n",
    "print(\"Original columns:\", colin_df.columns.tolist())\n",
    "\n",
    "# Rename columns (adjusted based on actual column names)\n",
    "colin_df.rename(columns={\n",
    "    'corp_num': 'identifier',\n",
    "    'corp_nme': 'legal_name',  # Adjusted to match actual column name\n",
    "    'recognition_dts': 'founding_date',\n",
    "    'admin_email': 'email',\n",
    "    'last_ar_filed_year': 'last_ar_reminder_year',\n",
    "    'corp_class': 'legal_type'  # Use 'corp_class' as 'legal_type'\n",
    "}, inplace=True)\n",
    "\n",
    "# Print columns after renaming to confirm\n",
    "print(\"Columns after renaming:\", colin_df.columns.tolist())\n",
    "\n",
    "# Ensure 'last_ar_reminder_year' is of string type\n",
    "colin_df['last_ar_reminder_year'] = colin_df['last_ar_reminder_year'].astype(str)\n",
    "\n",
    "# Format 'founding_date' as 'YYYY-MM-DD'\n",
    "colin_df['founding_date'] = pd.to_datetime(colin_df['founding_date']).dt.strftime('%Y-%m-%d')\n",
    "\n",
    "# Select the required columns\n",
    "colin_df = colin_df[['identifier', 'legal_name', 'legal_type', 'founding_date', 'last_ar_reminder_year', 'email']]\n",
    "\n",
    "# Escape single quotes in strings to prevent SQL syntax errors\n",
    "def escape_quotes(s):\n",
    "    return s.replace(\"'\", \"''\") if isinstance(s, str) else s\n",
    "\n",
    "colin_df['legal_name'] = colin_df['legal_name'].apply(escape_quotes)\n",
    "colin_df['email'] = colin_df['email'].apply(escape_quotes)\n",
    "colin_df['legal_type'] = colin_df['legal_type'].apply(escape_quotes)\n",
    "\n",
    "# Generate the VALUES part of the INSERT statement\n",
    "values = \",\\n\".join([\n",
    "    f\"('{row['identifier']}', '{row['legal_name']}', '{row['legal_type']}', '{row['founding_date']}', '{row['last_ar_reminder_year']}', '{row['email']}')\"\n",
    "    for _, row in colin_df.iterrows()\n",
    "])\n",
    "\n",
    "# Step 9: Complete the INSERT statement\n",
    "insert_statement = f\"\"\"INSERT INTO \"public\".\"business\" (identifier, legal_name, legal_type, founding_date, last_ar_reminder_year, email)\n",
    "VALUES \n",
    "{values};\"\"\"\n",
    "\n",
    "# Print the INSERT statement\n",
    "print(insert_statement)"
   ]
  },
  {
   "cell_type": "code",
   "execution_count": null,
   "metadata": {},
   "outputs": [],
   "source": [
    "%sql business\n",
    "colin_df.to_sql(name='business', con=business_pool, if_exists='append', index=False)"
   ]
  },
  {
   "cell_type": "code",
   "execution_count": null,
   "metadata": {},
   "outputs": [],
   "source": [
    "colin_df"
   ]
  },
  {
   "cell_type": "markdown",
   "metadata": {},
   "source": [
    "## Load from CSV"
   ]
  },
  {
   "cell_type": "code",
   "execution_count": null,
   "metadata": {},
   "outputs": [],
   "source": [
    "colin_df = pd.read_csv('cohort_7.csv') \n",
    "colin_df"
   ]
  },
  {
   "cell_type": "code",
   "execution_count": null,
   "metadata": {},
   "outputs": [],
   "source": [
    "# colin_df[\"identifier\"] = colin_df[\"Jurisdiction\"] + colin_df['corp_num'].apply('{:0>7}'.format)\n",
    "# colin_df['nano_id'] = colin_df.apply(lambda row: generate(nanoid_charset), axis = 1)\n",
    "# colin_df['tax_id'] = None\n",
    "# colin_df['id'] = np.arange(1, colin_df.shape[0] + 1) + 7\n",
    "#to_bar_df = pd.DataFrame()\n",
    "#to_bar_df[['id','legal_name','legal_type','identifier','tax_id','nano_id']] = colin_df[['id','Name','Jurisdiction','identifier','tax_id','nano_id']]\n",
    "#to_bar_df\n"
   ]
  },
  {
   "cell_type": "code",
   "execution_count": null,
   "metadata": {},
   "outputs": [],
   "source": [
    "# colin_df['tax_id'] = None\n",
    "# colin_df['ar_reminder_flag'] = None\n",
    "# colin_df['state'] = None\n",
    "# colin_df['op_state'] = None\n",
    "# colin_df['corp_class'] = None\n",
    "to_bar_df = colin_df"
   ]
  },
  {
   "cell_type": "code",
   "execution_count": null,
   "metadata": {},
   "outputs": [
    {
     "data": {
      "text/plain": [
       "1"
      ]
     },
     "metadata": {},
     "output_type": "display_data"
    }
   ],
   "source": [
    "to_bar_df.to_sql(name='b2', con=business_pool, if_exists='append', index=False)"
   ]
  },
  {
   "cell_type": "code",
   "execution_count": null,
   "metadata": {},
   "outputs": [],
   "source": [
    "%%sql\n",
    "INSERT INTO business (id, legal_name, legal_type, identifier, email, founding_date, last_ar_reminder_year, state)\n",
    "SELECT \n",
    "    (SELECT COALESCE(MAX(id), 0) FROM business) + ROW_NUMBER() OVER (), \n",
    "    legal_name, \n",
    "    legal_type, \n",
    "    identifier, \n",
    "    email, \n",
    "    founding_date::date, \n",
    "    last_ar_reminder_year, \n",
    "    'ACT'\n",
    "FROM b2;\n"
   ]
  },
  {
   "cell_type": "code",
   "execution_count": null,
   "metadata": {},
   "outputs": [],
   "source": [
    "to_inv_email_df = pd.DataFrame()\n",
    "to_inv_email_df[['id','recipients']] = colin_df[['id','email']]\n",
    "to_inv_email_df['business_id'] = to_inv_email_df['id']\n",
    "to_inv_email_df['token'] = colin_df.apply(lambda row: generate(nanoid_charset), axis = 1)\n",
    "to_inv_email_df['message'] = colin_df.apply(lambda row: 'AR Invitation', axis = 1)\n",
    "to_inv_email_df['status'] = colin_df.apply(lambda row: 'SENT', axis = 1)\n",
    "to_inv_email_df"
   ]
  },
  {
   "cell_type": "code",
   "execution_count": null,
   "metadata": {},
   "outputs": [],
   "source": [
    "%%sql business_data <<\n",
    "select * from business where id = 9"
   ]
  },
  {
   "cell_type": "markdown",
   "metadata": {},
   "source": [
    "## If using csv files then no need to run following two cells"
   ]
  },
  {
   "cell_type": "code",
   "execution_count": null,
   "metadata": {},
   "outputs": [],
   "source": [
    "business_df = business_data.DataFrame()"
   ]
  },
  {
   "cell_type": "code",
   "execution_count": null,
   "metadata": {},
   "outputs": [],
   "source": [
    "to_inv_email_df = pd.DataFrame()\n",
    "to_inv_email_df[['id','recipients']] = business_df[['id','email']]\n",
    "to_inv_email_df['business_id'] = to_inv_email_df['id']\n",
    "to_inv_email_df['token'] = business_df.apply(lambda row: generate(nanoid_charset), axis = 1)\n",
    "to_inv_email_df['message'] = business_df.apply(lambda row: 'AR Invitation', axis = 1)\n",
    "to_inv_email_df['status'] = business_df.apply(lambda row: 'SENT', axis = 1)\n",
    "to_inv_email_df"
   ]
  },
  {
   "cell_type": "markdown",
   "metadata": {},
   "source": [
    "Writes into inv_ch6 table"
   ]
  },
  {
   "cell_type": "code",
   "execution_count": null,
   "metadata": {},
   "outputs": [
    {
     "data": {
      "text/plain": [
       "1"
      ]
     },
     "metadata": {},
     "output_type": "display_data"
    }
   ],
   "source": [
    "to_inv_email_df.to_sql(name='inv_ch6', con=business_pool, if_exists='append', index=False)"
   ]
  },
  {
   "cell_type": "markdown",
   "metadata": {},
   "source": [
    "Insert into invitations table from inv_ch6 table"
   ]
  },
  {
   "cell_type": "code",
   "execution_count": null,
   "metadata": {},
   "outputs": [],
   "source": [
    "%%sql\n",
    "insert into invitations (id,recipients,message,sent_date,token,status,business_id)\n",
    "(select nextval('invitations_id_seq'::regclass), recipients, message, now(), token, 'SENT', business_id from inv_ch6)"
   ]
  },
  {
   "cell_type": "markdown",
   "metadata": {},
   "source": [
    "## Output to CSV"
   ]
  },
  {
   "cell_type": "code",
   "execution_count": null,
   "metadata": {},
   "outputs": [],
   "source": [
    "%%sql business_data <<\n",
    "select b.identifier, b.legal_name, b.legal_type, i.token, i.recipients from business b, invitations i where b.id=i.business_id and b.id >= 104"
   ]
  },
  {
   "cell_type": "code",
   "execution_count": null,
   "metadata": {},
   "outputs": [],
   "source": [
    "business_data"
   ]
  },
  {
   "cell_type": "code",
   "execution_count": null,
   "metadata": {},
   "outputs": [],
   "source": [
    "bdf = business_data.DataFrame()\n",
    "# bdf = bdf[['legal_name','legal_type','identifier','nano_id']]\n",
    "base_url='https://annualreport.business.bcregistry.gov.bc.ca/en-CA'\n",
    "bdf['url'] = f'{base_url}?nanoid=' + bdf['token']\n",
    "bdf"
   ]
  },
  {
   "cell_type": "code",
   "execution_count": null,
   "metadata": {},
   "outputs": [],
   "source": [
    "import time\n",
    "from datetime import datetime\n",
    "from datetime import timezone\n",
    "\n",
    "time_stamp = time.time()\n",
    "now = datetime.utcfromtimestamp(time_stamp).replace(tzinfo=timezone.utc)\n",
    "# local_now = now.astimezone(Pacific)\n",
    "local_now = now.astimezone()\n",
    "local_now.strftime(\"%Y.%m.%d.%H\")"
   ]
  },
  {
   "cell_type": "code",
   "execution_count": null,
   "metadata": {},
   "outputs": [],
   "source": [
    "with open('business-ar.'+local_now.strftime(\"%Y.%m.%d.%H\")+'.csv', 'a') as f:      \n",
    "    f.write('\\n\\n Business Annual Report\\n')\n",
    "    bdf.to_csv(f, sep=',', encoding='utf-8', index=False)    "
   ]
  },
  {
   "cell_type": "markdown",
   "metadata": {},
   "source": [
    "## Set Invitations"
   ]
  },
  {
   "cell_type": "code",
   "execution_count": null,
   "metadata": {},
   "outputs": [],
   "source": [
    "%%sql\n",
    "INSERT INTO invitations (id, recipients, message, sent_date, token, status, additional_message, business_id)\n",
    "SELECT \n",
    "    nextval('invitations_id_seq'::regclass), \n",
    "    'test@example.com', \n",
    "    'Annual Report Due', \n",
    "    now(), \n",
    "    b2.nano_id,\n",
    "    'SENT', \n",
    "    NULL, \n",
    "    b.id\n",
    "FROM \n",
    "    business b\n",
    "JOIN \n",
    "    b2 ON b.id = b2.id;\n"
   ]
  }
 ],
 "metadata": {
  "kernelspec": {
   "display_name": "base",
   "language": "python",
   "name": "python3"
  },
  "language_info": {
   "codemirror_mode": {
    "name": "ipython",
    "version": 3
   },
   "file_extension": ".py",
   "mimetype": "text/x-python",
   "name": "python",
   "nbconvert_exporter": "python",
   "pygments_lexer": "ipython3",
   "version": "3.11.9"
  }
 },
 "nbformat": 4,
 "nbformat_minor": 2
}
