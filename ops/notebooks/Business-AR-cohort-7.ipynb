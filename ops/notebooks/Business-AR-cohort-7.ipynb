{
 "cells": [
  {
   "cell_type": "markdown",
   "metadata": {},
   "source": [
    "### Load Business AR Data - Cohort 7"
   ]
  },
  {
   "cell_type": "markdown",
   "metadata": {},
   "source": [
    "This will gather data, create the nanoid and load data into the Business AR database"
   ]
  },
  {
   "cell_type": "markdown",
   "metadata": {},
   "source": [
    "## Setup"
   ]
  },
  {
   "cell_type": "code",
   "execution_count": null,
   "metadata": {},
   "outputs": [
    {
     "name": "stdout",
     "output_type": "stream",
     "text": [
      "Deploy Panel apps for free on Ploomber Cloud! Learn more: https://ploomber.io/s/signup\n"
     ]
    }
   ],
   "source": [
    "%load_ext sql\n",
    "%load_ext dotenv\n",
    "%config SqlMagic.named_parameters=\"enabled\" "
   ]
  },
  {
   "cell_type": "code",
   "execution_count": null,
   "metadata": {},
   "outputs": [
    {
     "data": {
      "text/plain": [
       "True"
      ]
     },
     "metadata": {},
     "output_type": "display_data"
    }
   ],
   "source": [
    "import pandas as pd\n",
    "import numpy as np\n",
    "from dotenv import find_dotenv\n",
    "from dotenv import load_dotenv\n",
    "from nanoid import generate\n",
    "load_dotenv(find_dotenv())"
   ]
  },
  {
   "cell_type": "code",
   "execution_count": null,
   "metadata": {},
   "outputs": [],
   "source": [
    "import string\n",
    "nanoid_charset = string.ascii_letters + string.digits"
   ]
  },
  {
   "cell_type": "code",
   "execution_count": null,
   "metadata": {},
   "outputs": [],
   "source": [
    "import google.auth\n",
    "credentials, project_id = google.auth.default()"
   ]
  },
  {
   "cell_type": "code",
   "execution_count": null,
   "metadata": {},
   "outputs": [],
   "source": [
    "import os\n",
    "from google.cloud.sql.connector import Connector\n",
    "import sqlalchemy\n",
    "\n",
    "# initialize Connector object\n",
    "connector = Connector()\n",
    "\n",
    "# function to return the database connection object\n",
    "def get_conn():\n",
    "    conn = connector.connect(\n",
    "        INSTANCE_CONNECTION_NAME,\n",
    "        \"pg8000\",\n",
    "        user=DB_USER,\n",
    "        password=DB_PASSWORD,\n",
    "        db=DB_NAME\n",
    "    )\n",
    "    return conn\n",
    "\n",
    "def get_pool():\n",
    "    # create connection pool with 'creator' argument to our connection object function\n",
    "    pool = sqlalchemy.create_engine(\n",
    "        \"postgresql+pg8000://\",\n",
    "        creator=get_conn,\n",
    "    )\n",
    "    \n",
    "    return pool"
   ]
  },
  {
   "cell_type": "markdown",
   "metadata": {},
   "source": [
    "## Reset Environment Variables"
   ]
  },
  {
   "cell_type": "code",
   "execution_count": null,
   "metadata": {},
   "outputs": [],
   "source": [
    "%dotenv -o"
   ]
  },
  {
   "cell_type": "markdown",
   "metadata": {},
   "source": [
    "## Create Business Connection"
   ]
  },
  {
   "cell_type": "code",
   "execution_count": null,
   "metadata": {},
   "outputs": [],
   "source": [
    "DB_USER = os.getenv(\"BUSINESS_USERNAME\", \"\")\n",
    "DB_PASSWORD = os.getenv(\"BUSINESS_PASSWORD\", \"\")\n",
    "DB_NAME = os.getenv(\"BUSINESS_NAME\", \"\")\n",
    "INSTANCE_CONNECTION_NAME = os.getenv(\"BUSINESS_CONNECTION\", \"\")\n",
    "\n",
    "business_pool = get_pool()\n",
    "%sql business_pool --alias business\n",
    "%sql business"
   ]
  },
  {
   "cell_type": "code",
   "execution_count": null,
   "metadata": {},
   "outputs": [],
   "source": [
    "%%sql\n",
    "SELECT current_database(), :INSTANCE_CONNECTION_NAME as Connection, now();"
   ]
  },
  {
   "cell_type": "markdown",
   "metadata": {},
   "source": [
    "## List Database Connections"
   ]
  },
  {
   "cell_type": "code",
   "execution_count": null,
   "metadata": {},
   "outputs": [],
   "source": [
    "%sql --connections"
   ]
  },
  {
   "cell_type": "markdown",
   "metadata": {},
   "source": [
    "## Query Business Database"
   ]
  },
  {
   "cell_type": "code",
   "execution_count": null,
   "metadata": {},
   "outputs": [],
   "source": [
    "%sql business"
   ]
  },
  {
   "cell_type": "code",
   "execution_count": null,
   "metadata": {},
   "outputs": [],
   "source": [
    "%%sql business_data <<\n",
    "select * from business where id >= 104"
   ]
  },
  {
   "cell_type": "code",
   "execution_count": null,
   "metadata": {},
   "outputs": [],
   "source": [
    "business_data"
   ]
  },
  {
   "cell_type": "markdown",
   "metadata": {},
   "source": [
    "## Create Warehouse Connection"
   ]
  },
  {
   "cell_type": "code",
   "execution_count": null,
   "metadata": {},
   "outputs": [],
   "source": [
    "DB_USER = os.getenv(\"WAREHOUSE_USERNAME\", \"\")\n",
    "DB_PASSWORD = os.getenv(\"WAREHOUSE_PASSWORD\", \"\")\n",
    "DB_NAME = os.getenv(\"WAREHOUSE_NAME\", \"\")\n",
    "INSTANCE_CONNECTION_NAME = os.getenv(\"WAREHOUSE_CONNECTION\", \"\")\n",
    "\n",
    "warehouse_pool = get_pool()\n",
    "%sql warehouse_pool --alias warehouse\n",
    "%sql warehouse"
   ]
  },
  {
   "cell_type": "code",
   "execution_count": null,
   "metadata": {},
   "outputs": [],
   "source": [
    "%%sql\n",
    "SELECT current_database(), :INSTANCE_CONNECTION_NAME as Connection, now();"
   ]
  },
  {
   "cell_type": "markdown",
   "metadata": {},
   "source": [
    "## Query Warehouse Database"
   ]
  },
  {
   "cell_type": "code",
   "execution_count": null,
   "metadata": {},
   "outputs": [],
   "source": [
    "%sql warehouse"
   ]
  },
  {
   "cell_type": "code",
   "execution_count": null,
   "metadata": {},
   "outputs": [],
   "source": [
    "%%sql colin_data <<\n",
    "select n.corp_nme as legal_name\n",
    "    ,c.corp_typ_cd as legal_type\n",
    "    ,CASE\n",
    "         WHEN c.corp_typ_cd IN('BC')\n",
    "         THEN c.corp_typ_cd || c.corp_num\n",
    "         ELSE c.corp_num\n",
    "    END AS identifier\n",
    "    ,c.bn_15 as tax_id\n",
    "from colin.corporation c, colin.corp_name n\n",
    "where c.corp_num = n.corp_num\n",
    "  and n.end_event_id is null\n",
    "  and c.corp_num in ('1161685', '1249291', '1363120', '0787872', '0910741', '1357564', '0966461')\n",
    "order by c.corp_num\n",
    "limit 10;\n"
   ]
  },
  {
   "cell_type": "code",
   "execution_count": null,
   "metadata": {},
   "outputs": [],
   "source": [
    "colin_df = colin_data.DataFrame()\n",
    "colin_df['nano_id'] = colin_df.apply(lambda row: generate(nanoid_charset), axis = 1)\n",
    "colin_df['id'] = colin_df.index + 1\n",
    "colin_df"
   ]
  },
  {
   "cell_type": "code",
   "execution_count": null,
   "metadata": {},
   "outputs": [],
   "source": [
    "%sql business\n",
    "colin_df.to_sql(name='business', con=business_pool, if_exists='append', index=False)"
   ]
  },
  {
   "cell_type": "code",
   "execution_count": null,
   "metadata": {},
   "outputs": [],
   "source": [
    "colin_df"
   ]
  },
  {
   "cell_type": "markdown",
   "metadata": {},
   "source": [
    "## Load from CSV"
   ]
  },
  {
   "cell_type": "code",
   "execution_count": null,
   "metadata": {},
   "outputs": [],
   "source": [
    "colin_df = pd.read_csv('cohort_7.csv') \n",
    "colin_df"
   ]
  },
  {
   "cell_type": "code",
   "execution_count": null,
   "metadata": {},
   "outputs": [],
   "source": [
    "# colin_df[\"identifier\"] = colin_df[\"Jurisdiction\"] + colin_df['corp_num'].apply('{:0>7}'.format)\n",
    "# colin_df['nano_id'] = colin_df.apply(lambda row: generate(nanoid_charset), axis = 1)\n",
    "# colin_df['tax_id'] = None\n",
    "# colin_df['id'] = np.arange(1, colin_df.shape[0] + 1) + 7\n",
    "#to_bar_df = pd.DataFrame()\n",
    "#to_bar_df[['id','legal_name','legal_type','identifier','tax_id','nano_id']] = colin_df[['id','Name','Jurisdiction','identifier','tax_id','nano_id']]\n",
    "#to_bar_df\n"
   ]
  },
  {
   "cell_type": "code",
   "execution_count": null,
   "metadata": {},
   "outputs": [],
   "source": [
    "# colin_df['tax_id'] = None\n",
    "# colin_df['ar_reminder_flag'] = None\n",
    "# colin_df['state'] = None\n",
    "# colin_df['op_state'] = None\n",
    "# colin_df['corp_class'] = None\n",
    "to_bar_df = colin_df"
   ]
  },
  {
   "cell_type": "code",
   "execution_count": null,
   "metadata": {},
   "outputs": [
    {
     "data": {
      "text/plain": [
       "1"
      ]
     },
     "metadata": {},
     "output_type": "display_data"
    }
   ],
   "source": [
    "to_bar_df.to_sql(name='b2', con=business_pool, if_exists='append', index=False)"
   ]
  },
  {
   "cell_type": "code",
   "execution_count": null,
   "metadata": {},
   "outputs": [],
   "source": [
    "%%sql\n",
    "INSERT INTO business (id, legal_name, legal_type, identifier, email, founding_date, last_ar_reminder_year, state)\n",
    "SELECT \n",
    "    (SELECT COALESCE(MAX(id), 0) FROM business) + ROW_NUMBER() OVER (), \n",
    "    legal_name, \n",
    "    legal_type, \n",
    "    identifier, \n",
    "    email, \n",
    "    founding_date::date, \n",
    "    last_ar_reminder_year, \n",
    "    'ACT'\n",
    "FROM b2;\n"
   ]
  },
  {
   "cell_type": "code",
   "execution_count": null,
   "metadata": {},
   "outputs": [],
   "source": [
    "to_inv_email_df = pd.DataFrame()\n",
    "to_inv_email_df[['id','recipients']] = colin_df[['id','email']]\n",
    "to_inv_email_df['business_id'] = to_inv_email_df['id']\n",
    "to_inv_email_df['token'] = colin_df.apply(lambda row: generate(nanoid_charset), axis = 1)\n",
    "to_inv_email_df['message'] = colin_df.apply(lambda row: 'AR Invitation', axis = 1)\n",
    "to_inv_email_df['status'] = colin_df.apply(lambda row: 'SENT', axis = 1)\n",
    "to_inv_email_df"
   ]
  },
  {
   "cell_type": "code",
   "execution_count": null,
   "metadata": {},
   "outputs": [],
   "source": [
    "%%sql business_data <<\n",
    "select * from business where id = 9"
   ]
  },
  {
   "cell_type": "markdown",
   "metadata": {},
   "source": [
    "## If using csv files then no need to run following two cells"
   ]
  },
  {
   "cell_type": "code",
   "execution_count": null,
   "metadata": {},
   "outputs": [],
   "source": [
    "business_df = business_data.DataFrame()"
   ]
  },
  {
   "cell_type": "code",
   "execution_count": null,
   "metadata": {},
   "outputs": [],
   "source": [
    "to_inv_email_df = pd.DataFrame()\n",
    "to_inv_email_df[['id','recipients']] = business_df[['id','email']]\n",
    "to_inv_email_df['business_id'] = to_inv_email_df['id']\n",
    "to_inv_email_df['token'] = business_df.apply(lambda row: generate(nanoid_charset), axis = 1)\n",
    "to_inv_email_df['message'] = business_df.apply(lambda row: 'AR Invitation', axis = 1)\n",
    "to_inv_email_df['status'] = business_df.apply(lambda row: 'SENT', axis = 1)\n",
    "to_inv_email_df"
   ]
  },
  {
   "cell_type": "markdown",
   "metadata": {},
   "source": [
    "Writes into inv_ch6 table"
   ]
  },
  {
   "cell_type": "code",
   "execution_count": null,
   "metadata": {},
   "outputs": [
    {
     "data": {
      "text/plain": [
       "1"
      ]
     },
     "metadata": {},
     "output_type": "display_data"
    }
   ],
   "source": [
    "to_inv_email_df.to_sql(name='inv_ch6', con=business_pool, if_exists='append', index=False)"
   ]
  },
  {
   "cell_type": "markdown",
   "metadata": {},
   "source": [
    "Insert into invitations table from inv_ch6 table"
   ]
  },
  {
   "cell_type": "code",
   "execution_count": null,
   "metadata": {},
   "outputs": [],
   "source": [
    "%%sql\n",
    "insert into invitations (id,recipients,message,sent_date,token,status,business_id)\n",
    "(select nextval('invitations_id_seq'::regclass), recipients, message, now(), token, 'SENT', business_id from inv_ch6)"
   ]
  },
  {
   "cell_type": "markdown",
   "metadata": {},
   "source": [
    "## Output to CSV"
   ]
  },
  {
   "cell_type": "code",
   "execution_count": null,
   "metadata": {},
   "outputs": [],
   "source": [
    "%%sql business_data <<\n",
    "select b.identifier, b.legal_name, b.legal_type, i.token, i.recipients from business b, invitations i where b.id=i.business_id and b.id >= 104"
   ]
  },
  {
   "cell_type": "code",
   "execution_count": null,
   "metadata": {},
   "outputs": [],
   "source": [
    "business_data"
   ]
  },
  {
   "cell_type": "code",
   "execution_count": null,
   "metadata": {},
   "outputs": [],
   "source": [
    "bdf = business_data.DataFrame()\n",
    "# bdf = bdf[['legal_name','legal_type','identifier','nano_id']]\n",
    "base_url='https://annualreport.business.bcregistry.gov.bc.ca/en-CA'\n",
    "bdf['url'] = f'{base_url}?nanoid=' + bdf['token']\n",
    "bdf"
   ]
  },
  {
   "cell_type": "code",
   "execution_count": null,
   "metadata": {},
   "outputs": [],
   "source": [
    "import time\n",
    "from datetime import datetime\n",
    "from datetime import timezone\n",
    "\n",
    "time_stamp = time.time()\n",
    "now = datetime.utcfromtimestamp(time_stamp).replace(tzinfo=timezone.utc)\n",
    "# local_now = now.astimezone(Pacific)\n",
    "local_now = now.astimezone()\n",
    "local_now.strftime(\"%Y.%m.%d.%H\")"
   ]
  },
  {
   "cell_type": "code",
   "execution_count": null,
   "metadata": {},
   "outputs": [],
   "source": [
    "with open('business-ar.'+local_now.strftime(\"%Y.%m.%d.%H\")+'.csv', 'a') as f:      \n",
    "    f.write('\\n\\n Business Annual Report\\n')\n",
    "    bdf.to_csv(f, sep=',', encoding='utf-8', index=False)    "
   ]
  },
  {
   "cell_type": "markdown",
   "metadata": {},
   "source": [
    "## Set Invitations"
   ]
  },
  {
   "cell_type": "code",
   "execution_count": null,
   "metadata": {},
   "outputs": [],
   "source": [
    "%%sql\n",
    "INSERT INTO invitations (id, recipients, message, sent_date, token, status, additional_message, business_id)\n",
    "SELECT \n",
    "    nextval('invitations_id_seq'::regclass), \n",
    "    'test@example.com', \n",
    "    'Annual Report Due', \n",
    "    now(), \n",
    "    b2.nano_id,\n",
    "    'SENT', \n",
    "    NULL, \n",
    "    b.id\n",
    "FROM \n",
    "    business b\n",
    "JOIN \n",
    "    b2 ON b.id = b2.id;\n"
   ]
  }
 ],
 "metadata": {
  "language_info": {
   "name": "python"
  }
 },
 "nbformat": 4,
 "nbformat_minor": 2
}
