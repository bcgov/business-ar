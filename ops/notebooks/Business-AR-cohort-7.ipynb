{
 "cells": [
  {
   "cell_type": "markdown",
   "metadata": {},
   "source": [
    "### Load Business AR Data - Cohort 7"
   ]
  },
  {
   "cell_type": "markdown",
   "metadata": {},
   "source": [
    "This will gather data, create the nanoid and load data into the Business AR database"
   ]
  },
  {
   "cell_type": "markdown",
   "metadata": {},
   "source": [
    "## Setup"
   ]
  },
  {
   "cell_type": "code",
   "execution_count": 2,
   "metadata": {},
   "outputs": [],
   "source": [
    "%load_ext sql\n",
    "%load_ext dotenv\n",
    "%config SqlMagic.named_parameters=\"enabled\" "
   ]
  },
  {
   "cell_type": "code",
   "execution_count": null,
   "metadata": {},
   "outputs": [],
   "source": [
    "import pandas as pd\n",
    "import numpy as np\n",
    "from dotenv import find_dotenv\n",
    "from dotenv import load_dotenv\n",
    "from nanoid import generate\n",
    "load_dotenv(find_dotenv())"
   ]
  },
  {
   "cell_type": "code",
   "execution_count": 4,
   "metadata": {},
   "outputs": [],
   "source": [
    "import string\n",
    "nanoid_charset = string.ascii_letters + string.digits"
   ]
  },
  {
   "cell_type": "code",
   "execution_count": 5,
   "metadata": {},
   "outputs": [],
   "source": [
    "import google.auth\n",
    "credentials, project_id = google.auth.default()"
   ]
  },
  {
   "cell_type": "code",
   "execution_count": 6,
   "metadata": {},
   "outputs": [],
   "source": [
    "import os\n",
    "from google.cloud.sql.connector import Connector\n",
    "import sqlalchemy\n",
    "\n",
    "# initialize Connector object\n",
    "connector = Connector()\n",
    "\n",
    "# function to return the database connection object\n",
    "def get_conn():\n",
    "    conn = connector.connect(\n",
    "        INSTANCE_CONNECTION_NAME,\n",
    "        \"pg8000\",\n",
    "        user=DB_USER,\n",
    "        password=DB_PASSWORD,\n",
    "        db=DB_NAME\n",
    "    )\n",
    "    return conn\n",
    "\n",
    "# def get_pool():\n",
    "#     # create connection pool with 'creator' argument to our connection object function\n",
    "#     pool = sqlalchemy.create_engine(\n",
    "#         \"postgresql+pg8000://\",\n",
    "#         creator=get_conn,\n",
    "#     )\n",
    "    \n",
    "#     return pool"
   ]
  },
  {
   "cell_type": "markdown",
   "metadata": {},
   "source": [
    "## Reset Environment Variables"
   ]
  },
  {
   "cell_type": "code",
   "execution_count": 7,
   "metadata": {},
   "outputs": [],
   "source": [
    "%dotenv -o"
   ]
  },
  {
   "cell_type": "code",
   "execution_count": null,
   "metadata": {},
   "outputs": [],
   "source": [
    "def get_pool(db_user, db_password, db_name, instance_connection_name):\n",
    "    # function to return the database connection object\n",
    "    def get_conn():\n",
    "        conn = connector.connect(\n",
    "            instance_connection_name,\n",
    "            \"pg8000\",\n",
    "            user=db_user,\n",
    "            password=db_password,\n",
    "            db=db_name\n",
    "        )\n",
    "        return conn\n",
    "\n",
    "    # create connection pool with 'creator' argument to our connection object function\n",
    "    pool = sqlalchemy.create_engine(\n",
    "        \"postgresql+pg8000://\",\n",
    "        creator=get_conn,\n",
    "        echo=True,\n",
    "    )\n",
    "    return pool\n",
    "\n",
    "## Create Business Connection\n",
    "business_pool = get_pool(\n",
    "    db_user=os.getenv(\"BUSINESS_USERNAME\", \"\"),\n",
    "    db_password=os.getenv(\"BUSINESS_PASSWORD\", \"\"),\n",
    "    db_name=os.getenv(\"BUSINESS_NAME\", \"\"),\n",
    "    instance_connection_name=os.getenv(\"BUSINESS_CONNECTION\", \"\")\n",
    ")\n",
    "%sql business_pool --alias business\n",
    "\n",
    "## Create Warehouse Connection\n",
    "warehouse_pool = get_pool(\n",
    "    db_user=os.getenv(\"WAREHOUSE_USERNAME\", \"\"),\n",
    "    db_password=os.getenv(\"WAREHOUSE_PASSWORD\", \"\"),\n",
    "    db_name=os.getenv(\"WAREHOUSE_NAME\", \"\"),\n",
    "    instance_connection_name=os.getenv(\"WAREHOUSE_CONNECTION\", \"\")\n",
    ")\n",
    "%sql warehouse_pool --alias warehouse\n"
   ]
  },
  {
   "cell_type": "markdown",
   "metadata": {},
   "source": [
    "## Create Business Connection"
   ]
  },
  {
   "cell_type": "code",
   "execution_count": null,
   "metadata": {},
   "outputs": [],
   "source": [
    "# DB_USER = os.getenv(\"BUSINESS_USERNAME\", \"\")\n",
    "# DB_PASSWORD = os.getenv(\"BUSINESS_PASSWORD\", \"\")\n",
    "# DB_NAME = os.getenv(\"BUSINESS_NAME\", \"\")\n",
    "# INSTANCE_CONNECTION_NAME = os.getenv(\"BUSINESS_CONNECTION\", \"\")\n",
    "\n",
    "# business_pool = get_pool()\n",
    "# %sql business_pool --alias business\n",
    "%sql business"
   ]
  },
  {
   "cell_type": "code",
   "execution_count": null,
   "metadata": {},
   "outputs": [],
   "source": [
    "%%sql\n",
    "SELECT current_database(), :INSTANCE_CONNECTION_NAME as Connection, now();"
   ]
  },
  {
   "cell_type": "markdown",
   "metadata": {},
   "source": [
    "## List Database Connections"
   ]
  },
  {
   "cell_type": "code",
   "execution_count": null,
   "metadata": {},
   "outputs": [],
   "source": [
    "%sql --connections"
   ]
  },
  {
   "cell_type": "markdown",
   "metadata": {},
   "source": [
    "## Query Business Database"
   ]
  },
  {
   "cell_type": "code",
   "execution_count": 14,
   "metadata": {},
   "outputs": [],
   "source": [
    "%sql business"
   ]
  },
  {
   "cell_type": "code",
   "execution_count": null,
   "metadata": {},
   "outputs": [],
   "source": [
    "%%sql business_data <<\n",
    "select * from business;"
   ]
  },
  {
   "cell_type": "code",
   "execution_count": null,
   "metadata": {},
   "outputs": [],
   "source": [
    "business_data"
   ]
  },
  {
   "cell_type": "markdown",
   "metadata": {},
   "source": [
    "## Create Warehouse Connection"
   ]
  },
  {
   "cell_type": "code",
   "execution_count": 13,
   "metadata": {},
   "outputs": [],
   "source": [
    "# DB_USER = os.getenv(\"WAREHOUSE_USERNAME\", \"\")\n",
    "# DB_PASSWORD = os.getenv(\"WAREHOUSE_PASSWORD\", \"\")\n",
    "# DB_NAME = os.getenv(\"WAREHOUSE_NAME\", \"\")\n",
    "# INSTANCE_CONNECTION_NAME = os.getenv(\"WAREHOUSE_CONNECTION\", \"\")\n",
    "\n",
    "# warehouse_pool = get_pool()\n",
    "# %sql warehouse_pool --alias warehouse\n",
    "# %sql warehouse"
   ]
  },
  {
   "cell_type": "code",
   "execution_count": null,
   "metadata": {},
   "outputs": [],
   "source": [
    "%%sql\n",
    "SELECT current_database(), :INSTANCE_CONNECTION_NAME as Connection, now();"
   ]
  },
  {
   "cell_type": "markdown",
   "metadata": {},
   "source": [
    "## Query Warehouse Database"
   ]
  },
  {
   "cell_type": "code",
   "execution_count": null,
   "metadata": {},
   "outputs": [],
   "source": [
    "%sql warehouse"
   ]
  },
  {
   "cell_type": "code",
   "execution_count": null,
   "metadata": {},
   "outputs": [],
   "source": [
    "%%sql colin_data <<\n",
    "SELECT co.corp_num\n",
    "     , co.recognition_dts\n",
    "     , EXTRACT(YEAR FROM co.last_ar_filed_dt) AS last_ar_filed_year\n",
    "     , co.admin_email\n",
    "     , cn.CORP_NME\n",
    "     , ct.corp_class\n",
    "FROM \"colin\".\"corporation\"   co\n",
    "   , \"colin\".corp_type       ct\n",
    "   , \"colin\".corp_state      cs\n",
    "   , \"colin\".corp_name       cn\n",
    "WHERE co.corp_typ_cd    = ct.corp_typ_cd\n",
    "  AND co.corp_num       = cs.corp_num\n",
    "  AND co.corp_num       = cn.corp_num\n",
    "  AND cs.end_event_id   IS NULL\n",
    "  and cn.end_event_id is null\n",
    "  and cn.corp_name_typ_cd = 'CO'\n",
    "  AND cs.state_typ_cd   = 'ACT'                                                                                -- active\n",
    "  AND ct.corp_class     = 'BC'                                                                                 -- BC Corporations\n",
    "  AND co.corp_typ_cd   <> 'BEN'                                                                                -- no Benefit Companies\n",
    "  AND co.admin_email IS NOT NULL                                                                               -- they have an email\n",
    "  AND co.send_ar_ind = 'Y'                                                                                     -- AR reminder indicator is \"Y\"\n",
    "  AND NOT EXISTS (SELECT 'x'\n",
    "                  FROM \"colin\".filing f, \"colin\".event e, \"colin\".filing_user u\n",
    "                  WHERE f.event_id = e.event_id\n",
    "                    AND f.event_id = u.event_id                                                                -- no previous BCOL filings\n",
    "                    AND e.corp_num = co.corp_num\n",
    "                    AND u.role_typ_cd = 'bcol')\n",
    "  AND NOT EXISTS (SELECT 'x'\n",
    "                  FROM \"colin\".corporation\n",
    "                  WHERE admin_email = co.admin_email\n",
    "                    AND corp_num <> co.corp_num)                                                               -- no other business using the same email\n",
    "  AND (date_part('doy', co.recognition_dts) BETWEEN date_part('doy', current_date)                            -- AR reminder within the next 14 days based on the day of year\n",
    "       AND date_part('doy', current_date))                                      -- AR reminder on the anniversary date\n",
    "  AND (\n",
    "       -- Exclude companies founded in the current year, include those from previous year\n",
    "       (EXTRACT(YEAR FROM co.recognition_dts) = EXTRACT(YEAR FROM current_date) - 1 AND co.last_ar_filed_dt IS NULL)\n",
    "       -- Or include if last_ar_filed_dt is not NULL and was filed in the previous year\n",
    "       OR (co.last_ar_filed_dt IS NOT NULL AND EXTRACT(YEAR FROM co.last_ar_filed_dt) = EXTRACT(YEAR FROM current_date) - 1)\n",
    "      );"
   ]
  },
  {
   "cell_type": "code",
   "execution_count": null,
   "metadata": {},
   "outputs": [],
   "source": [
    "colin_df = colin_data.DataFrame()\n",
    "colin_df"
   ]
  },
  {
   "cell_type": "code",
   "execution_count": null,
   "metadata": {},
   "outputs": [],
   "source": [
    "# Print original columns to verify names\n",
    "print(\"Original columns:\", colin_df.columns.tolist())\n",
    "\n",
    "# Rename columns (adjusted based on actual column names)\n",
    "colin_df.rename(columns={\n",
    "    'corp_num': 'identifier',\n",
    "    'corp_nme': 'legal_name',  # Adjusted to match actual column name\n",
    "    'recognition_dts': 'founding_date',\n",
    "    'admin_email': 'email',\n",
    "    'last_ar_filed_year': 'last_ar_reminder_year',\n",
    "    'corp_class': 'legal_type'  # Use 'corp_class' as 'legal_type'\n",
    "}, inplace=True)\n",
    "\n",
    "# Print columns after renaming to confirm\n",
    "print(\"Columns after renaming:\", colin_df.columns.tolist())\n",
    "\n",
    "# Replace 'None' strings with actual None values\n",
    "colin_df.replace('None', None, inplace=True)\n",
    "\n",
    "# Convert data types\n",
    "colin_df['last_ar_reminder_year'] = pd.to_numeric(colin_df['last_ar_reminder_year'], errors='coerce').astype('Int64')\n",
    "colin_df['founding_date'] = pd.to_datetime(colin_df['founding_date'], errors='coerce')\n",
    "\n",
    "# Select the required columns\n",
    "colin_df = colin_df[['identifier', 'legal_name', 'legal_type', 'founding_date', 'last_ar_reminder_year', 'email']]\n",
    "\n",
    "# Function to escape and format values for SQL\n",
    "def escape_and_format(value):\n",
    "    if isinstance(value, str):\n",
    "        # Escape single quotes in strings\n",
    "        return \"'\" + value.replace(\"'\", \"''\") + \"'\"\n",
    "    elif pd.isnull(value):\n",
    "        # Handle None values\n",
    "        return 'NULL'\n",
    "    elif isinstance(value, pd.Timestamp):\n",
    "        # Format dates as 'YYYY-MM-DD'\n",
    "        return \"'\" + value.strftime('%Y-%m-%d') + \"'\"\n",
    "    else:\n",
    "        # For other data types, convert to string or handle None\n",
    "        return str(int(value)) if value is not None else 'NULL'\n",
    "\n",
    "# Generate the VALUES part of the INSERT statement\n",
    "values = \",\\n\".join([\n",
    "    \"(\" + \", \".join([\n",
    "        escape_and_format(row['identifier']),\n",
    "        escape_and_format(row['legal_name']),\n",
    "        escape_and_format(row['legal_type']),\n",
    "        escape_and_format(row['founding_date']),\n",
    "        escape_and_format(row['last_ar_reminder_year']),\n",
    "        escape_and_format(row['email'])\n",
    "    ]) + \")\"\n",
    "    for _, row in colin_df.iterrows()\n",
    "])\n",
    "\n",
    "# Complete the INSERT statement\n",
    "insert_statement = f\"\"\"INSERT INTO \"public\".\"business\" (identifier, legal_name, legal_type, founding_date, last_ar_reminder_year, email)\n",
    "VALUES \n",
    "{values};\"\"\"\n",
    "\n",
    "# Print the INSERT statement\n",
    "print(insert_statement)\n"
   ]
  },
  {
   "cell_type": "code",
   "execution_count": null,
   "metadata": {},
   "outputs": [],
   "source": [
    "# Verify connection by querying the current database\n",
    "%sql business\n"
   ]
  },
  {
   "cell_type": "code",
   "execution_count": null,
   "metadata": {},
   "outputs": [],
   "source": [
    "%%sql\n",
    "SELECT * from business;"
   ]
  },
  {
   "cell_type": "code",
   "execution_count": null,
   "metadata": {},
   "outputs": [],
   "source": [
    "try:\n",
    "    colin_df.to_sql(name='business', con=business_pool, if_exists='append', index=False)\n",
    "except Exception as e:\n",
    "    print(\"An error occurred during to_sql operation:\", e)\n"
   ]
  },
  {
   "cell_type": "code",
   "execution_count": 82,
   "metadata": {},
   "outputs": [],
   "source": [
    "# Close the connection and reconnect\n",
    "business_pool.dispose()  # Disposes the current pool and closes all connections\n",
    "business_pool = get_pool()  # Recreate the connection pool\n"
   ]
  },
  {
   "cell_type": "code",
   "execution_count": null,
   "metadata": {},
   "outputs": [],
   "source": [
    "colin_df"
   ]
  },
  {
   "cell_type": "markdown",
   "metadata": {},
   "source": [
    "## Load from CSV"
   ]
  },
  {
   "cell_type": "code",
   "execution_count": null,
   "metadata": {},
   "outputs": [],
   "source": [
    "colin_df = pd.read_csv('cohort_7.csv') \n",
    "colin_df"
   ]
  },
  {
   "cell_type": "code",
   "execution_count": null,
   "metadata": {},
   "outputs": [],
   "source": [
    "# colin_df[\"identifier\"] = colin_df[\"Jurisdiction\"] + colin_df['corp_num'].apply('{:0>7}'.format)\n",
    "# colin_df['nano_id'] = colin_df.apply(lambda row: generate(nanoid_charset), axis = 1)\n",
    "# colin_df['tax_id'] = None\n",
    "# colin_df['id'] = np.arange(1, colin_df.shape[0] + 1) + 7\n",
    "#to_bar_df = pd.DataFrame()\n",
    "#to_bar_df[['id','legal_name','legal_type','identifier','tax_id','nano_id']] = colin_df[['id','Name','Jurisdiction','identifier','tax_id','nano_id']]\n",
    "#to_bar_df\n"
   ]
  },
  {
   "cell_type": "code",
   "execution_count": null,
   "metadata": {},
   "outputs": [],
   "source": [
    "# colin_df['tax_id'] = None\n",
    "# colin_df['ar_reminder_flag'] = None\n",
    "# colin_df['state'] = None\n",
    "# colin_df['op_state'] = None\n",
    "# colin_df['corp_class'] = None\n",
    "to_bar_df = colin_df"
   ]
  },
  {
   "cell_type": "code",
   "execution_count": null,
   "metadata": {},
   "outputs": [],
   "source": [
    "to_bar_df.to_sql(name='b2', con=business_pool, if_exists='append', index=False)"
   ]
  },
  {
   "cell_type": "code",
   "execution_count": null,
   "metadata": {},
   "outputs": [],
   "source": [
    "%%sql\n",
    "INSERT INTO business (id, legal_name, legal_type, identifier, email, founding_date, last_ar_reminder_year, state)\n",
    "SELECT \n",
    "    (SELECT COALESCE(MAX(id), 0) FROM business) + ROW_NUMBER() OVER (), \n",
    "    legal_name, \n",
    "    legal_type, \n",
    "    identifier, \n",
    "    email, \n",
    "    founding_date::date, \n",
    "    last_ar_reminder_year, \n",
    "    'ACT'\n",
    "FROM b2;\n"
   ]
  },
  {
   "cell_type": "code",
   "execution_count": null,
   "metadata": {},
   "outputs": [],
   "source": [
    "to_inv_email_df = pd.DataFrame()\n",
    "to_inv_email_df[['id','recipients']] = colin_df[['id','email']]\n",
    "to_inv_email_df['business_id'] = to_inv_email_df['id']\n",
    "to_inv_email_df['token'] = colin_df.apply(lambda row: generate(nanoid_charset), axis = 1)\n",
    "to_inv_email_df['message'] = colin_df.apply(lambda row: 'AR Invitation', axis = 1)\n",
    "to_inv_email_df['status'] = colin_df.apply(lambda row: 'SENT', axis = 1)\n",
    "to_inv_email_df"
   ]
  },
  {
   "cell_type": "code",
   "execution_count": null,
   "metadata": {},
   "outputs": [],
   "source": [
    "%%sql business_data <<\n",
    "select * from business where id = 9"
   ]
  },
  {
   "cell_type": "markdown",
   "metadata": {},
   "source": [
    "## If using csv files then no need to run following two cells"
   ]
  },
  {
   "cell_type": "code",
   "execution_count": null,
   "metadata": {},
   "outputs": [],
   "source": [
    "business_df = business_data.DataFrame()"
   ]
  },
  {
   "cell_type": "code",
   "execution_count": null,
   "metadata": {},
   "outputs": [],
   "source": [
    "to_inv_email_df = pd.DataFrame()\n",
    "to_inv_email_df[['id','recipients']] = business_df[['id','email']]\n",
    "to_inv_email_df['business_id'] = to_inv_email_df['id']\n",
    "to_inv_email_df['token'] = business_df.apply(lambda row: generate(nanoid_charset), axis = 1)\n",
    "to_inv_email_df['message'] = business_df.apply(lambda row: 'AR Invitation', axis = 1)\n",
    "to_inv_email_df['status'] = business_df.apply(lambda row: 'SENT', axis = 1)\n",
    "to_inv_email_df"
   ]
  },
  {
   "cell_type": "markdown",
   "metadata": {},
   "source": [
    "Writes into inv_ch6 table"
   ]
  },
  {
   "cell_type": "code",
   "execution_count": null,
   "metadata": {},
   "outputs": [],
   "source": [
    "to_inv_email_df.to_sql(name='inv_ch6', con=business_pool, if_exists='append', index=False)"
   ]
  },
  {
   "cell_type": "markdown",
   "metadata": {},
   "source": [
    "Insert into invitations table from inv_ch6 table"
   ]
  },
  {
   "cell_type": "code",
   "execution_count": null,
   "metadata": {},
   "outputs": [],
   "source": [
    "%%sql\n",
    "insert into invitations (id,recipients,message,sent_date,token,status,business_id)\n",
    "(select nextval('invitations_id_seq'::regclass), recipients, message, now(), token, 'SENT', business_id from inv_ch6)"
   ]
  },
  {
   "cell_type": "markdown",
   "metadata": {},
   "source": [
    "## Output to CSV"
   ]
  },
  {
   "cell_type": "code",
   "execution_count": null,
   "metadata": {},
   "outputs": [],
   "source": [
    "%%sql business_data <<\n",
    "select b.identifier, b.legal_name, b.legal_type, i.token, i.recipients from business b, invitations i where b.id=i.business_id and b.id >= 104"
   ]
  },
  {
   "cell_type": "code",
   "execution_count": null,
   "metadata": {},
   "outputs": [],
   "source": [
    "business_data"
   ]
  },
  {
   "cell_type": "code",
   "execution_count": null,
   "metadata": {},
   "outputs": [],
   "source": [
    "bdf = business_data.DataFrame()\n",
    "# bdf = bdf[['legal_name','legal_type','identifier','nano_id']]\n",
    "base_url='https://annualreport.business.bcregistry.gov.bc.ca/en-CA'\n",
    "bdf['url'] = f'{base_url}?nanoid=' + bdf['token']\n",
    "bdf"
   ]
  },
  {
   "cell_type": "code",
   "execution_count": null,
   "metadata": {},
   "outputs": [],
   "source": [
    "import time\n",
    "from datetime import datetime\n",
    "from datetime import timezone\n",
    "\n",
    "time_stamp = time.time()\n",
    "now = datetime.utcfromtimestamp(time_stamp).replace(tzinfo=timezone.utc)\n",
    "# local_now = now.astimezone(Pacific)\n",
    "local_now = now.astimezone()\n",
    "local_now.strftime(\"%Y.%m.%d.%H\")"
   ]
  },
  {
   "cell_type": "code",
   "execution_count": null,
   "metadata": {},
   "outputs": [],
   "source": [
    "with open('business-ar.'+local_now.strftime(\"%Y.%m.%d.%H\")+'.csv', 'a') as f:      \n",
    "    f.write('\\n\\n Business Annual Report\\n')\n",
    "    bdf.to_csv(f, sep=',', encoding='utf-8', index=False)    "
   ]
  },
  {
   "cell_type": "markdown",
   "metadata": {},
   "source": [
    "## Set Invitations"
   ]
  },
  {
   "cell_type": "code",
   "execution_count": null,
   "metadata": {},
   "outputs": [],
   "source": [
    "%%sql\n",
    "INSERT INTO invitations (id, recipients, message, sent_date, token, status, additional_message, business_id)\n",
    "SELECT \n",
    "    nextval('invitations_id_seq'::regclass), \n",
    "    'test@example.com', \n",
    "    'Annual Report Due', \n",
    "    now(), \n",
    "    b2.nano_id,\n",
    "    'SENT', \n",
    "    NULL, \n",
    "    b.id\n",
    "FROM \n",
    "    business b\n",
    "JOIN \n",
    "    b2 ON b.id = b2.id;\n"
   ]
  }
 ],
 "metadata": {
  "kernelspec": {
   "display_name": "base",
   "language": "python",
   "name": "python3"
  },
  "language_info": {
   "codemirror_mode": {
    "name": "ipython",
    "version": 3
   },
   "file_extension": ".py",
   "mimetype": "text/x-python",
   "name": "python",
   "nbconvert_exporter": "python",
   "pygments_lexer": "ipython3",
   "version": "3.11.9"
  }
 },
 "nbformat": 4,
 "nbformat_minor": 2
}
